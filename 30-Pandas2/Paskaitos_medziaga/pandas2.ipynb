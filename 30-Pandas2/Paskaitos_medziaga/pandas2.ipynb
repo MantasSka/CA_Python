{
 "cells": [
  {
   "cell_type": "markdown",
   "metadata": {},
   "source": [
    "# Pandas II dalis"
   ]
  },
  {
   "cell_type": "code",
   "execution_count": 160,
   "metadata": {
    "tags": []
   },
   "outputs": [],
   "source": [
    "import numpy as np\n",
    "import pandas as pd"
   ]
  },
  {
   "cell_type": "markdown",
   "metadata": {},
   "source": [
    "### Trūkstami duomenys"
   ]
  },
  {
   "cell_type": "markdown",
   "metadata": {},
   "source": [
    "Susikursime pavyzdį:"
   ]
  },
  {
   "cell_type": "code",
   "execution_count": 161,
   "metadata": {
    "tags": []
   },
   "outputs": [],
   "source": [
    "df = pd.DataFrame(np.random.rand(5,6), \n",
    "                  ['a', 'b', 'c', 'd', 'e'], \n",
    "                  ['U', 'V', 'W', 'X', 'Y', 'Z'])"
   ]
  },
  {
   "cell_type": "code",
   "execution_count": 162,
   "metadata": {
    "tags": []
   },
   "outputs": [
    {
     "data": {
      "text/html": [
       "<div>\n",
       "<style scoped>\n",
       "    .dataframe tbody tr th:only-of-type {\n",
       "        vertical-align: middle;\n",
       "    }\n",
       "\n",
       "    .dataframe tbody tr th {\n",
       "        vertical-align: top;\n",
       "    }\n",
       "\n",
       "    .dataframe thead th {\n",
       "        text-align: right;\n",
       "    }\n",
       "</style>\n",
       "<table border=\"1\" class=\"dataframe\">\n",
       "  <thead>\n",
       "    <tr style=\"text-align: right;\">\n",
       "      <th></th>\n",
       "      <th>U</th>\n",
       "      <th>V</th>\n",
       "      <th>W</th>\n",
       "      <th>X</th>\n",
       "      <th>Y</th>\n",
       "      <th>Z</th>\n",
       "    </tr>\n",
       "  </thead>\n",
       "  <tbody>\n",
       "    <tr>\n",
       "      <th>a</th>\n",
       "      <td>0.032164</td>\n",
       "      <td>0.877962</td>\n",
       "      <td>0.657462</td>\n",
       "      <td>0.632981</td>\n",
       "      <td>0.567601</td>\n",
       "      <td>0.809915</td>\n",
       "    </tr>\n",
       "    <tr>\n",
       "      <th>b</th>\n",
       "      <td>0.988959</td>\n",
       "      <td>0.074198</td>\n",
       "      <td>0.150799</td>\n",
       "      <td>0.934268</td>\n",
       "      <td>0.993021</td>\n",
       "      <td>0.831272</td>\n",
       "    </tr>\n",
       "    <tr>\n",
       "      <th>c</th>\n",
       "      <td>0.037096</td>\n",
       "      <td>0.478033</td>\n",
       "      <td>0.924018</td>\n",
       "      <td>0.485344</td>\n",
       "      <td>0.215621</td>\n",
       "      <td>0.252492</td>\n",
       "    </tr>\n",
       "    <tr>\n",
       "      <th>d</th>\n",
       "      <td>0.603714</td>\n",
       "      <td>0.567000</td>\n",
       "      <td>0.578931</td>\n",
       "      <td>0.602490</td>\n",
       "      <td>0.385966</td>\n",
       "      <td>0.350920</td>\n",
       "    </tr>\n",
       "    <tr>\n",
       "      <th>e</th>\n",
       "      <td>0.635558</td>\n",
       "      <td>0.634524</td>\n",
       "      <td>0.779969</td>\n",
       "      <td>0.809336</td>\n",
       "      <td>0.346086</td>\n",
       "      <td>0.024813</td>\n",
       "    </tr>\n",
       "  </tbody>\n",
       "</table>\n",
       "</div>"
      ],
      "text/plain": [
       "          U         V         W         X         Y         Z\n",
       "a  0.032164  0.877962  0.657462  0.632981  0.567601  0.809915\n",
       "b  0.988959  0.074198  0.150799  0.934268  0.993021  0.831272\n",
       "c  0.037096  0.478033  0.924018  0.485344  0.215621  0.252492\n",
       "d  0.603714  0.567000  0.578931  0.602490  0.385966  0.350920\n",
       "e  0.635558  0.634524  0.779969  0.809336  0.346086  0.024813"
      ]
     },
     "execution_count": 162,
     "metadata": {},
     "output_type": "execute_result"
    }
   ],
   "source": [
    "df"
   ]
  },
  {
   "cell_type": "code",
   "execution_count": 163,
   "metadata": {
    "tags": []
   },
   "outputs": [],
   "source": [
    "table = df[df>.4]"
   ]
  },
  {
   "cell_type": "code",
   "execution_count": 164,
   "metadata": {
    "tags": []
   },
   "outputs": [
    {
     "data": {
      "text/html": [
       "<div>\n",
       "<style scoped>\n",
       "    .dataframe tbody tr th:only-of-type {\n",
       "        vertical-align: middle;\n",
       "    }\n",
       "\n",
       "    .dataframe tbody tr th {\n",
       "        vertical-align: top;\n",
       "    }\n",
       "\n",
       "    .dataframe thead th {\n",
       "        text-align: right;\n",
       "    }\n",
       "</style>\n",
       "<table border=\"1\" class=\"dataframe\">\n",
       "  <thead>\n",
       "    <tr style=\"text-align: right;\">\n",
       "      <th></th>\n",
       "      <th>U</th>\n",
       "      <th>V</th>\n",
       "      <th>W</th>\n",
       "      <th>X</th>\n",
       "      <th>Y</th>\n",
       "      <th>Z</th>\n",
       "    </tr>\n",
       "  </thead>\n",
       "  <tbody>\n",
       "    <tr>\n",
       "      <th>a</th>\n",
       "      <td>NaN</td>\n",
       "      <td>0.877962</td>\n",
       "      <td>0.657462</td>\n",
       "      <td>0.632981</td>\n",
       "      <td>0.567601</td>\n",
       "      <td>0.809915</td>\n",
       "    </tr>\n",
       "    <tr>\n",
       "      <th>b</th>\n",
       "      <td>0.988959</td>\n",
       "      <td>NaN</td>\n",
       "      <td>NaN</td>\n",
       "      <td>0.934268</td>\n",
       "      <td>0.993021</td>\n",
       "      <td>0.831272</td>\n",
       "    </tr>\n",
       "    <tr>\n",
       "      <th>c</th>\n",
       "      <td>NaN</td>\n",
       "      <td>0.478033</td>\n",
       "      <td>0.924018</td>\n",
       "      <td>0.485344</td>\n",
       "      <td>NaN</td>\n",
       "      <td>NaN</td>\n",
       "    </tr>\n",
       "    <tr>\n",
       "      <th>d</th>\n",
       "      <td>0.603714</td>\n",
       "      <td>0.567000</td>\n",
       "      <td>0.578931</td>\n",
       "      <td>0.602490</td>\n",
       "      <td>NaN</td>\n",
       "      <td>NaN</td>\n",
       "    </tr>\n",
       "    <tr>\n",
       "      <th>e</th>\n",
       "      <td>0.635558</td>\n",
       "      <td>0.634524</td>\n",
       "      <td>0.779969</td>\n",
       "      <td>0.809336</td>\n",
       "      <td>NaN</td>\n",
       "      <td>NaN</td>\n",
       "    </tr>\n",
       "  </tbody>\n",
       "</table>\n",
       "</div>"
      ],
      "text/plain": [
       "          U         V         W         X         Y         Z\n",
       "a       NaN  0.877962  0.657462  0.632981  0.567601  0.809915\n",
       "b  0.988959       NaN       NaN  0.934268  0.993021  0.831272\n",
       "c       NaN  0.478033  0.924018  0.485344       NaN       NaN\n",
       "d  0.603714  0.567000  0.578931  0.602490       NaN       NaN\n",
       "e  0.635558  0.634524  0.779969  0.809336       NaN       NaN"
      ]
     },
     "execution_count": 164,
     "metadata": {},
     "output_type": "execute_result"
    }
   ],
   "source": [
    "table"
   ]
  },
  {
   "cell_type": "markdown",
   "metadata": {},
   "source": [
    "Funkcija, padėsianti mums aptikti nulines reikšmes yra **.isnull()**. Naudojimo pavyzdžiai:"
   ]
  },
  {
   "cell_type": "code",
   "execution_count": 165,
   "metadata": {
    "tags": []
   },
   "outputs": [
    {
     "data": {
      "text/html": [
       "<div>\n",
       "<style scoped>\n",
       "    .dataframe tbody tr th:only-of-type {\n",
       "        vertical-align: middle;\n",
       "    }\n",
       "\n",
       "    .dataframe tbody tr th {\n",
       "        vertical-align: top;\n",
       "    }\n",
       "\n",
       "    .dataframe thead th {\n",
       "        text-align: right;\n",
       "    }\n",
       "</style>\n",
       "<table border=\"1\" class=\"dataframe\">\n",
       "  <thead>\n",
       "    <tr style=\"text-align: right;\">\n",
       "      <th></th>\n",
       "      <th>U</th>\n",
       "      <th>V</th>\n",
       "      <th>W</th>\n",
       "      <th>X</th>\n",
       "      <th>Y</th>\n",
       "      <th>Z</th>\n",
       "    </tr>\n",
       "  </thead>\n",
       "  <tbody>\n",
       "    <tr>\n",
       "      <th>a</th>\n",
       "      <td>True</td>\n",
       "      <td>False</td>\n",
       "      <td>False</td>\n",
       "      <td>False</td>\n",
       "      <td>False</td>\n",
       "      <td>False</td>\n",
       "    </tr>\n",
       "    <tr>\n",
       "      <th>b</th>\n",
       "      <td>False</td>\n",
       "      <td>True</td>\n",
       "      <td>True</td>\n",
       "      <td>False</td>\n",
       "      <td>False</td>\n",
       "      <td>False</td>\n",
       "    </tr>\n",
       "    <tr>\n",
       "      <th>c</th>\n",
       "      <td>True</td>\n",
       "      <td>False</td>\n",
       "      <td>False</td>\n",
       "      <td>False</td>\n",
       "      <td>True</td>\n",
       "      <td>True</td>\n",
       "    </tr>\n",
       "    <tr>\n",
       "      <th>d</th>\n",
       "      <td>False</td>\n",
       "      <td>False</td>\n",
       "      <td>False</td>\n",
       "      <td>False</td>\n",
       "      <td>True</td>\n",
       "      <td>True</td>\n",
       "    </tr>\n",
       "    <tr>\n",
       "      <th>e</th>\n",
       "      <td>False</td>\n",
       "      <td>False</td>\n",
       "      <td>False</td>\n",
       "      <td>False</td>\n",
       "      <td>True</td>\n",
       "      <td>True</td>\n",
       "    </tr>\n",
       "  </tbody>\n",
       "</table>\n",
       "</div>"
      ],
      "text/plain": [
       "       U      V      W      X      Y      Z\n",
       "a   True  False  False  False  False  False\n",
       "b  False   True   True  False  False  False\n",
       "c   True  False  False  False   True   True\n",
       "d  False  False  False  False   True   True\n",
       "e  False  False  False  False   True   True"
      ]
     },
     "execution_count": 165,
     "metadata": {},
     "output_type": "execute_result"
    }
   ],
   "source": [
    "table.isnull() #grąžina lentelę, kur true reikšmės yra NaN"
   ]
  },
  {
   "cell_type": "code",
   "execution_count": 166,
   "metadata": {
    "tags": []
   },
   "outputs": [
    {
     "data": {
      "text/plain": [
       "U    2\n",
       "V    1\n",
       "W    1\n",
       "X    0\n",
       "Y    3\n",
       "Z    3\n",
       "dtype: int64"
      ]
     },
     "execution_count": 166,
     "metadata": {},
     "output_type": "execute_result"
    }
   ],
   "source": [
    "table.isnull().sum(axis=0) # Rodo kiek kuriame stulpelyje NaN reikšmių"
   ]
  },
  {
   "cell_type": "code",
   "execution_count": 167,
   "metadata": {
    "tags": []
   },
   "outputs": [
    {
     "data": {
      "text/plain": [
       "a    False\n",
       "b     True\n",
       "c    False\n",
       "d    False\n",
       "e    False\n",
       "Name: W, dtype: bool"
      ]
     },
     "execution_count": 167,
     "metadata": {},
     "output_type": "execute_result"
    }
   ],
   "source": [
    "table['W'].isnull() # Galima tikrinti atskiruose stulpeliuose"
   ]
  },
  {
   "cell_type": "code",
   "execution_count": 168,
   "metadata": {
    "tags": []
   },
   "outputs": [
    {
     "data": {
      "text/plain": [
       "1"
      ]
     },
     "execution_count": 168,
     "metadata": {},
     "output_type": "execute_result"
    }
   ],
   "source": [
    "table['W'].isnull().sum()"
   ]
  },
  {
   "cell_type": "markdown",
   "metadata": {},
   "source": [
    "pirmas metodas tvarkytis su trūkstamais duomenimis yra **.dropna()**. Jis išmeta visas eilutes, kuriose yra bent viena NaN reikšmė:"
   ]
  },
  {
   "cell_type": "code",
   "execution_count": 169,
   "metadata": {
    "tags": []
   },
   "outputs": [
    {
     "data": {
      "text/html": [
       "<div>\n",
       "<style scoped>\n",
       "    .dataframe tbody tr th:only-of-type {\n",
       "        vertical-align: middle;\n",
       "    }\n",
       "\n",
       "    .dataframe tbody tr th {\n",
       "        vertical-align: top;\n",
       "    }\n",
       "\n",
       "    .dataframe thead th {\n",
       "        text-align: right;\n",
       "    }\n",
       "</style>\n",
       "<table border=\"1\" class=\"dataframe\">\n",
       "  <thead>\n",
       "    <tr style=\"text-align: right;\">\n",
       "      <th></th>\n",
       "      <th>U</th>\n",
       "      <th>V</th>\n",
       "      <th>W</th>\n",
       "      <th>X</th>\n",
       "      <th>Y</th>\n",
       "      <th>Z</th>\n",
       "    </tr>\n",
       "  </thead>\n",
       "  <tbody>\n",
       "  </tbody>\n",
       "</table>\n",
       "</div>"
      ],
      "text/plain": [
       "Empty DataFrame\n",
       "Columns: [U, V, W, X, Y, Z]\n",
       "Index: []"
      ]
     },
     "execution_count": 169,
     "metadata": {},
     "output_type": "execute_result"
    }
   ],
   "source": [
    "table.dropna()"
   ]
  },
  {
   "cell_type": "markdown",
   "metadata": {},
   "source": [
    "jeigu norime išmesti stulpelius, turinčius bent vieną NaN, turime nurodyti ašį:"
   ]
  },
  {
   "cell_type": "code",
   "execution_count": 170,
   "metadata": {
    "tags": []
   },
   "outputs": [
    {
     "data": {
      "text/html": [
       "<div>\n",
       "<style scoped>\n",
       "    .dataframe tbody tr th:only-of-type {\n",
       "        vertical-align: middle;\n",
       "    }\n",
       "\n",
       "    .dataframe tbody tr th {\n",
       "        vertical-align: top;\n",
       "    }\n",
       "\n",
       "    .dataframe thead th {\n",
       "        text-align: right;\n",
       "    }\n",
       "</style>\n",
       "<table border=\"1\" class=\"dataframe\">\n",
       "  <thead>\n",
       "    <tr style=\"text-align: right;\">\n",
       "      <th></th>\n",
       "      <th>X</th>\n",
       "    </tr>\n",
       "  </thead>\n",
       "  <tbody>\n",
       "    <tr>\n",
       "      <th>a</th>\n",
       "      <td>0.632981</td>\n",
       "    </tr>\n",
       "    <tr>\n",
       "      <th>b</th>\n",
       "      <td>0.934268</td>\n",
       "    </tr>\n",
       "    <tr>\n",
       "      <th>c</th>\n",
       "      <td>0.485344</td>\n",
       "    </tr>\n",
       "    <tr>\n",
       "      <th>d</th>\n",
       "      <td>0.602490</td>\n",
       "    </tr>\n",
       "    <tr>\n",
       "      <th>e</th>\n",
       "      <td>0.809336</td>\n",
       "    </tr>\n",
       "  </tbody>\n",
       "</table>\n",
       "</div>"
      ],
      "text/plain": [
       "          X\n",
       "a  0.632981\n",
       "b  0.934268\n",
       "c  0.485344\n",
       "d  0.602490\n",
       "e  0.809336"
      ]
     },
     "execution_count": 170,
     "metadata": {},
     "output_type": "execute_result"
    }
   ],
   "source": [
    "table.dropna(axis=1)"
   ]
  },
  {
   "cell_type": "markdown",
   "metadata": {},
   "source": [
    "Galime išmesti tik tas eilutes, ar stulpelius, kurie turi mažiau, negu (pvz) 5 **NE** NaN reikšmes:\n"
   ]
  },
  {
   "cell_type": "code",
   "execution_count": 171,
   "metadata": {
    "tags": []
   },
   "outputs": [
    {
     "data": {
      "text/html": [
       "<div>\n",
       "<style scoped>\n",
       "    .dataframe tbody tr th:only-of-type {\n",
       "        vertical-align: middle;\n",
       "    }\n",
       "\n",
       "    .dataframe tbody tr th {\n",
       "        vertical-align: top;\n",
       "    }\n",
       "\n",
       "    .dataframe thead th {\n",
       "        text-align: right;\n",
       "    }\n",
       "</style>\n",
       "<table border=\"1\" class=\"dataframe\">\n",
       "  <thead>\n",
       "    <tr style=\"text-align: right;\">\n",
       "      <th></th>\n",
       "      <th>V</th>\n",
       "      <th>W</th>\n",
       "      <th>X</th>\n",
       "    </tr>\n",
       "  </thead>\n",
       "  <tbody>\n",
       "    <tr>\n",
       "      <th>a</th>\n",
       "      <td>0.877962</td>\n",
       "      <td>0.657462</td>\n",
       "      <td>0.632981</td>\n",
       "    </tr>\n",
       "    <tr>\n",
       "      <th>b</th>\n",
       "      <td>NaN</td>\n",
       "      <td>NaN</td>\n",
       "      <td>0.934268</td>\n",
       "    </tr>\n",
       "    <tr>\n",
       "      <th>c</th>\n",
       "      <td>0.478033</td>\n",
       "      <td>0.924018</td>\n",
       "      <td>0.485344</td>\n",
       "    </tr>\n",
       "    <tr>\n",
       "      <th>d</th>\n",
       "      <td>0.567000</td>\n",
       "      <td>0.578931</td>\n",
       "      <td>0.602490</td>\n",
       "    </tr>\n",
       "    <tr>\n",
       "      <th>e</th>\n",
       "      <td>0.634524</td>\n",
       "      <td>0.779969</td>\n",
       "      <td>0.809336</td>\n",
       "    </tr>\n",
       "  </tbody>\n",
       "</table>\n",
       "</div>"
      ],
      "text/plain": [
       "          V         W         X\n",
       "a  0.877962  0.657462  0.632981\n",
       "b       NaN       NaN  0.934268\n",
       "c  0.478033  0.924018  0.485344\n",
       "d  0.567000  0.578931  0.602490\n",
       "e  0.634524  0.779969  0.809336"
      ]
     },
     "execution_count": 171,
     "metadata": {},
     "output_type": "execute_result"
    }
   ],
   "source": [
    "table.dropna(thresh=4, axis=1)"
   ]
  },
  {
   "cell_type": "markdown",
   "metadata": {},
   "source": [
    "Papildomai nurodžius ašį, tą patį galima padaryti ir su stulpeliais."
   ]
  },
  {
   "cell_type": "markdown",
   "metadata": {},
   "source": [
    "Jei norime NaN reikšmes pakeisti kažkuo kitu, naudosime **.fillna()** metodą:"
   ]
  },
  {
   "cell_type": "code",
   "execution_count": 172,
   "metadata": {
    "tags": []
   },
   "outputs": [
    {
     "data": {
      "text/html": [
       "<div>\n",
       "<style scoped>\n",
       "    .dataframe tbody tr th:only-of-type {\n",
       "        vertical-align: middle;\n",
       "    }\n",
       "\n",
       "    .dataframe tbody tr th {\n",
       "        vertical-align: top;\n",
       "    }\n",
       "\n",
       "    .dataframe thead th {\n",
       "        text-align: right;\n",
       "    }\n",
       "</style>\n",
       "<table border=\"1\" class=\"dataframe\">\n",
       "  <thead>\n",
       "    <tr style=\"text-align: right;\">\n",
       "      <th></th>\n",
       "      <th>U</th>\n",
       "      <th>V</th>\n",
       "      <th>W</th>\n",
       "      <th>X</th>\n",
       "      <th>Y</th>\n",
       "      <th>Z</th>\n",
       "    </tr>\n",
       "  </thead>\n",
       "  <tbody>\n",
       "    <tr>\n",
       "      <th>a</th>\n",
       "      <td>bupkis</td>\n",
       "      <td>0.877962</td>\n",
       "      <td>0.657462</td>\n",
       "      <td>0.632981</td>\n",
       "      <td>0.567601</td>\n",
       "      <td>0.809915</td>\n",
       "    </tr>\n",
       "    <tr>\n",
       "      <th>b</th>\n",
       "      <td>0.988959</td>\n",
       "      <td>bupkis</td>\n",
       "      <td>bupkis</td>\n",
       "      <td>0.934268</td>\n",
       "      <td>0.993021</td>\n",
       "      <td>0.831272</td>\n",
       "    </tr>\n",
       "    <tr>\n",
       "      <th>c</th>\n",
       "      <td>bupkis</td>\n",
       "      <td>0.478033</td>\n",
       "      <td>0.924018</td>\n",
       "      <td>0.485344</td>\n",
       "      <td>bupkis</td>\n",
       "      <td>bupkis</td>\n",
       "    </tr>\n",
       "    <tr>\n",
       "      <th>d</th>\n",
       "      <td>0.603714</td>\n",
       "      <td>0.567</td>\n",
       "      <td>0.578931</td>\n",
       "      <td>0.602490</td>\n",
       "      <td>bupkis</td>\n",
       "      <td>bupkis</td>\n",
       "    </tr>\n",
       "    <tr>\n",
       "      <th>e</th>\n",
       "      <td>0.635558</td>\n",
       "      <td>0.634524</td>\n",
       "      <td>0.779969</td>\n",
       "      <td>0.809336</td>\n",
       "      <td>bupkis</td>\n",
       "      <td>bupkis</td>\n",
       "    </tr>\n",
       "  </tbody>\n",
       "</table>\n",
       "</div>"
      ],
      "text/plain": [
       "          U         V         W         X         Y         Z\n",
       "a    bupkis  0.877962  0.657462  0.632981  0.567601  0.809915\n",
       "b  0.988959    bupkis    bupkis  0.934268  0.993021  0.831272\n",
       "c    bupkis  0.478033  0.924018  0.485344    bupkis    bupkis\n",
       "d  0.603714     0.567  0.578931  0.602490    bupkis    bupkis\n",
       "e  0.635558  0.634524  0.779969  0.809336    bupkis    bupkis"
      ]
     },
     "execution_count": 172,
     "metadata": {},
     "output_type": "execute_result"
    }
   ],
   "source": [
    "table.fillna('bupkis')"
   ]
  },
  {
   "cell_type": "markdown",
   "metadata": {},
   "source": [
    "Daugiau prasmės būtų pakeisti pvz. stulpelio vidurkiu:"
   ]
  },
  {
   "cell_type": "code",
   "execution_count": 173,
   "metadata": {
    "tags": []
   },
   "outputs": [
    {
     "data": {
      "text/plain": [
       "a    0.657462\n",
       "b    0.735095\n",
       "c    0.924018\n",
       "d    0.578931\n",
       "e    0.779969\n",
       "Name: W, dtype: float64"
      ]
     },
     "execution_count": 173,
     "metadata": {},
     "output_type": "execute_result"
    }
   ],
   "source": [
    "table['W'].fillna(value=table['W'].mean())"
   ]
  },
  {
   "cell_type": "code",
   "execution_count": 174,
   "metadata": {
    "tags": []
   },
   "outputs": [
    {
     "data": {
      "text/html": [
       "<div>\n",
       "<style scoped>\n",
       "    .dataframe tbody tr th:only-of-type {\n",
       "        vertical-align: middle;\n",
       "    }\n",
       "\n",
       "    .dataframe tbody tr th {\n",
       "        vertical-align: top;\n",
       "    }\n",
       "\n",
       "    .dataframe thead th {\n",
       "        text-align: right;\n",
       "    }\n",
       "</style>\n",
       "<table border=\"1\" class=\"dataframe\">\n",
       "  <thead>\n",
       "    <tr style=\"text-align: right;\">\n",
       "      <th></th>\n",
       "      <th>U</th>\n",
       "      <th>V</th>\n",
       "      <th>W</th>\n",
       "      <th>X</th>\n",
       "      <th>Y</th>\n",
       "      <th>Z</th>\n",
       "    </tr>\n",
       "  </thead>\n",
       "  <tbody>\n",
       "    <tr>\n",
       "      <th>a</th>\n",
       "      <td>0.742744</td>\n",
       "      <td>0.877962</td>\n",
       "      <td>0.657462</td>\n",
       "      <td>0.632981</td>\n",
       "      <td>0.567601</td>\n",
       "      <td>0.809915</td>\n",
       "    </tr>\n",
       "    <tr>\n",
       "      <th>b</th>\n",
       "      <td>0.988959</td>\n",
       "      <td>0.639380</td>\n",
       "      <td>0.735095</td>\n",
       "      <td>0.934268</td>\n",
       "      <td>0.993021</td>\n",
       "      <td>0.831272</td>\n",
       "    </tr>\n",
       "    <tr>\n",
       "      <th>c</th>\n",
       "      <td>0.742744</td>\n",
       "      <td>0.478033</td>\n",
       "      <td>0.924018</td>\n",
       "      <td>0.485344</td>\n",
       "      <td>0.780311</td>\n",
       "      <td>0.820594</td>\n",
       "    </tr>\n",
       "    <tr>\n",
       "      <th>d</th>\n",
       "      <td>0.603714</td>\n",
       "      <td>0.567000</td>\n",
       "      <td>0.578931</td>\n",
       "      <td>0.602490</td>\n",
       "      <td>0.780311</td>\n",
       "      <td>0.820594</td>\n",
       "    </tr>\n",
       "    <tr>\n",
       "      <th>e</th>\n",
       "      <td>0.635558</td>\n",
       "      <td>0.634524</td>\n",
       "      <td>0.779969</td>\n",
       "      <td>0.809336</td>\n",
       "      <td>0.780311</td>\n",
       "      <td>0.820594</td>\n",
       "    </tr>\n",
       "  </tbody>\n",
       "</table>\n",
       "</div>"
      ],
      "text/plain": [
       "          U         V         W         X         Y         Z\n",
       "a  0.742744  0.877962  0.657462  0.632981  0.567601  0.809915\n",
       "b  0.988959  0.639380  0.735095  0.934268  0.993021  0.831272\n",
       "c  0.742744  0.478033  0.924018  0.485344  0.780311  0.820594\n",
       "d  0.603714  0.567000  0.578931  0.602490  0.780311  0.820594\n",
       "e  0.635558  0.634524  0.779969  0.809336  0.780311  0.820594"
      ]
     },
     "execution_count": 174,
     "metadata": {},
     "output_type": "execute_result"
    }
   ],
   "source": [
    "table.fillna(value=table.mean())"
   ]
  },
  {
   "cell_type": "markdown",
   "metadata": {},
   "source": [
    "### Grupavimas"
   ]
  },
  {
   "cell_type": "markdown",
   "metadata": {},
   "source": [
    "Susikurkime pavyzdį:"
   ]
  },
  {
   "cell_type": "code",
   "execution_count": 175,
   "metadata": {
    "tags": []
   },
   "outputs": [],
   "source": [
    "duomenys = {'Šalis': ['Lietuva',\n",
    "  'Lietuva',\n",
    "  'Lietuva',\n",
    "  'Latvija',\n",
    "  'Latvija',\n",
    "  'Latvija',\n",
    "  'Estija',\n",
    "  'Estija',\n",
    "  'Estija'],\n",
    " 'Miestas': ['Vilnius',\n",
    "  'Kaunas',\n",
    "  'Klaipėda',\n",
    "  'Ryga',\n",
    "  'Ventspilis',\n",
    "  'Daugpilis',\n",
    "  'Talinas',\n",
    "  'Tartu',\n",
    "  'Pernu'],\n",
    " 'Gyventojai': [541, 287, 147, 716, 43, 105, 400, 101, 46]}"
   ]
  },
  {
   "cell_type": "code",
   "execution_count": 176,
   "metadata": {
    "tags": []
   },
   "outputs": [],
   "source": [
    "data = pd.DataFrame(duomenys)"
   ]
  },
  {
   "cell_type": "code",
   "execution_count": 177,
   "metadata": {
    "tags": []
   },
   "outputs": [
    {
     "data": {
      "text/html": [
       "<div>\n",
       "<style scoped>\n",
       "    .dataframe tbody tr th:only-of-type {\n",
       "        vertical-align: middle;\n",
       "    }\n",
       "\n",
       "    .dataframe tbody tr th {\n",
       "        vertical-align: top;\n",
       "    }\n",
       "\n",
       "    .dataframe thead th {\n",
       "        text-align: right;\n",
       "    }\n",
       "</style>\n",
       "<table border=\"1\" class=\"dataframe\">\n",
       "  <thead>\n",
       "    <tr style=\"text-align: right;\">\n",
       "      <th></th>\n",
       "      <th>Šalis</th>\n",
       "      <th>Miestas</th>\n",
       "      <th>Gyventojai</th>\n",
       "    </tr>\n",
       "  </thead>\n",
       "  <tbody>\n",
       "    <tr>\n",
       "      <th>0</th>\n",
       "      <td>Lietuva</td>\n",
       "      <td>Vilnius</td>\n",
       "      <td>541</td>\n",
       "    </tr>\n",
       "    <tr>\n",
       "      <th>1</th>\n",
       "      <td>Lietuva</td>\n",
       "      <td>Kaunas</td>\n",
       "      <td>287</td>\n",
       "    </tr>\n",
       "    <tr>\n",
       "      <th>2</th>\n",
       "      <td>Lietuva</td>\n",
       "      <td>Klaipėda</td>\n",
       "      <td>147</td>\n",
       "    </tr>\n",
       "    <tr>\n",
       "      <th>3</th>\n",
       "      <td>Latvija</td>\n",
       "      <td>Ryga</td>\n",
       "      <td>716</td>\n",
       "    </tr>\n",
       "    <tr>\n",
       "      <th>4</th>\n",
       "      <td>Latvija</td>\n",
       "      <td>Ventspilis</td>\n",
       "      <td>43</td>\n",
       "    </tr>\n",
       "    <tr>\n",
       "      <th>5</th>\n",
       "      <td>Latvija</td>\n",
       "      <td>Daugpilis</td>\n",
       "      <td>105</td>\n",
       "    </tr>\n",
       "    <tr>\n",
       "      <th>6</th>\n",
       "      <td>Estija</td>\n",
       "      <td>Talinas</td>\n",
       "      <td>400</td>\n",
       "    </tr>\n",
       "    <tr>\n",
       "      <th>7</th>\n",
       "      <td>Estija</td>\n",
       "      <td>Tartu</td>\n",
       "      <td>101</td>\n",
       "    </tr>\n",
       "    <tr>\n",
       "      <th>8</th>\n",
       "      <td>Estija</td>\n",
       "      <td>Pernu</td>\n",
       "      <td>46</td>\n",
       "    </tr>\n",
       "  </tbody>\n",
       "</table>\n",
       "</div>"
      ],
      "text/plain": [
       "     Šalis     Miestas  Gyventojai\n",
       "0  Lietuva     Vilnius         541\n",
       "1  Lietuva      Kaunas         287\n",
       "2  Lietuva    Klaipėda         147\n",
       "3  Latvija        Ryga         716\n",
       "4  Latvija  Ventspilis          43\n",
       "5  Latvija   Daugpilis         105\n",
       "6   Estija     Talinas         400\n",
       "7   Estija       Tartu         101\n",
       "8   Estija       Pernu          46"
      ]
     },
     "execution_count": 177,
     "metadata": {},
     "output_type": "execute_result"
    }
   ],
   "source": [
    "data"
   ]
  },
  {
   "cell_type": "markdown",
   "metadata": {},
   "source": [
    "panaudokime **.groupby()** metodą, viduje nurodydami stulpelį, pagal kurį grupuosime. "
   ]
  },
  {
   "cell_type": "code",
   "execution_count": 178,
   "metadata": {
    "tags": []
   },
   "outputs": [
    {
     "data": {
      "text/plain": [
       "<pandas.core.groupby.generic.DataFrameGroupBy object at 0x155b0d570>"
      ]
     },
     "execution_count": 178,
     "metadata": {},
     "output_type": "execute_result"
    }
   ],
   "source": [
    "data.groupby('Šalis')"
   ]
  },
  {
   "cell_type": "markdown",
   "metadata": {},
   "source": [
    "gavome groupby objektą, kuris turi savo metodus. Tam kad galėtumėm jais naudotis, priskirkime objektą kintamąjam:"
   ]
  },
  {
   "cell_type": "code",
   "execution_count": 179,
   "metadata": {
    "tags": []
   },
   "outputs": [],
   "source": [
    "baltic = data.groupby('Šalis')"
   ]
  },
  {
   "cell_type": "code",
   "execution_count": 180,
   "metadata": {
    "tags": []
   },
   "outputs": [
    {
     "data": {
      "text/plain": [
       "<pandas.core.groupby.generic.DataFrameGroupBy object at 0x155b0e6e0>"
      ]
     },
     "execution_count": 180,
     "metadata": {},
     "output_type": "execute_result"
    }
   ],
   "source": [
    "baltic\n"
   ]
  },
  {
   "cell_type": "markdown",
   "metadata": {},
   "source": [
    "**.mean()** skaičiuos mums vidurkį:"
   ]
  },
  {
   "cell_type": "code",
   "execution_count": 181,
   "metadata": {
    "tags": []
   },
   "outputs": [
    {
     "data": {
      "text/plain": [
       "Šalis\n",
       "Estija     182.333333\n",
       "Latvija    288.000000\n",
       "Lietuva    325.000000\n",
       "Name: Gyventojai, dtype: float64"
      ]
     },
     "execution_count": 181,
     "metadata": {},
     "output_type": "execute_result"
    }
   ],
   "source": [
    "baltic[\"Gyventojai\"].mean()"
   ]
  },
  {
   "cell_type": "markdown",
   "metadata": {},
   "source": [
    "**.sum()** sumuos:"
   ]
  },
  {
   "cell_type": "code",
   "execution_count": 182,
   "metadata": {
    "tags": []
   },
   "outputs": [
    {
     "data": {
      "text/html": [
       "<div>\n",
       "<style scoped>\n",
       "    .dataframe tbody tr th:only-of-type {\n",
       "        vertical-align: middle;\n",
       "    }\n",
       "\n",
       "    .dataframe tbody tr th {\n",
       "        vertical-align: top;\n",
       "    }\n",
       "\n",
       "    .dataframe thead th {\n",
       "        text-align: right;\n",
       "    }\n",
       "</style>\n",
       "<table border=\"1\" class=\"dataframe\">\n",
       "  <thead>\n",
       "    <tr style=\"text-align: right;\">\n",
       "      <th></th>\n",
       "      <th>Miestas</th>\n",
       "      <th>Gyventojai</th>\n",
       "    </tr>\n",
       "    <tr>\n",
       "      <th>Šalis</th>\n",
       "      <th></th>\n",
       "      <th></th>\n",
       "    </tr>\n",
       "  </thead>\n",
       "  <tbody>\n",
       "    <tr>\n",
       "      <th>Estija</th>\n",
       "      <td>TalinasTartuPernu</td>\n",
       "      <td>547</td>\n",
       "    </tr>\n",
       "    <tr>\n",
       "      <th>Latvija</th>\n",
       "      <td>RygaVentspilisDaugpilis</td>\n",
       "      <td>864</td>\n",
       "    </tr>\n",
       "    <tr>\n",
       "      <th>Lietuva</th>\n",
       "      <td>VilniusKaunasKlaipėda</td>\n",
       "      <td>975</td>\n",
       "    </tr>\n",
       "  </tbody>\n",
       "</table>\n",
       "</div>"
      ],
      "text/plain": [
       "                         Miestas  Gyventojai\n",
       "Šalis                                       \n",
       "Estija         TalinasTartuPernu         547\n",
       "Latvija  RygaVentspilisDaugpilis         864\n",
       "Lietuva    VilniusKaunasKlaipėda         975"
      ]
     },
     "execution_count": 182,
     "metadata": {},
     "output_type": "execute_result"
    }
   ],
   "source": [
    "baltic.sum()"
   ]
  },
  {
   "cell_type": "markdown",
   "metadata": {},
   "source": [
    "iš groupby objekto galime trukti reikšmes tokiu būdu:"
   ]
  },
  {
   "cell_type": "markdown",
   "metadata": {},
   "source": [
    "**.count()** suskaičiuos kiek yra įrašų grupės stulpeliuose:"
   ]
  },
  {
   "cell_type": "code",
   "execution_count": 183,
   "metadata": {
    "tags": []
   },
   "outputs": [
    {
     "data": {
      "text/html": [
       "<div>\n",
       "<style scoped>\n",
       "    .dataframe tbody tr th:only-of-type {\n",
       "        vertical-align: middle;\n",
       "    }\n",
       "\n",
       "    .dataframe tbody tr th {\n",
       "        vertical-align: top;\n",
       "    }\n",
       "\n",
       "    .dataframe thead th {\n",
       "        text-align: right;\n",
       "    }\n",
       "</style>\n",
       "<table border=\"1\" class=\"dataframe\">\n",
       "  <thead>\n",
       "    <tr style=\"text-align: right;\">\n",
       "      <th></th>\n",
       "      <th>Miestas</th>\n",
       "      <th>Gyventojai</th>\n",
       "    </tr>\n",
       "    <tr>\n",
       "      <th>Šalis</th>\n",
       "      <th></th>\n",
       "      <th></th>\n",
       "    </tr>\n",
       "  </thead>\n",
       "  <tbody>\n",
       "    <tr>\n",
       "      <th>Estija</th>\n",
       "      <td>3</td>\n",
       "      <td>3</td>\n",
       "    </tr>\n",
       "    <tr>\n",
       "      <th>Latvija</th>\n",
       "      <td>3</td>\n",
       "      <td>3</td>\n",
       "    </tr>\n",
       "    <tr>\n",
       "      <th>Lietuva</th>\n",
       "      <td>3</td>\n",
       "      <td>3</td>\n",
       "    </tr>\n",
       "  </tbody>\n",
       "</table>\n",
       "</div>"
      ],
      "text/plain": [
       "         Miestas  Gyventojai\n",
       "Šalis                       \n",
       "Estija         3           3\n",
       "Latvija        3           3\n",
       "Lietuva        3           3"
      ]
     },
     "execution_count": 183,
     "metadata": {},
     "output_type": "execute_result"
    }
   ],
   "source": [
    "baltic.count()"
   ]
  },
  {
   "cell_type": "markdown",
   "metadata": {},
   "source": [
    "*atkreipkite dėmesį, kad jeigu metodas negali atlikti veiksmo su stulpelio įrašais, rezultate to stulpelio ir nerodo. šiuo atveju galime suskaičiuoti string įrašus, todėl stulpelis 'Miestas' įtrauktas į rezultatą*"
   ]
  },
  {
   "cell_type": "markdown",
   "metadata": {},
   "source": [
    "**.max()** duos eilutę su maksimaliu, **.min()** su minimaliu rezultatais:"
   ]
  },
  {
   "cell_type": "code",
   "execution_count": 184,
   "metadata": {
    "tags": []
   },
   "outputs": [
    {
     "data": {
      "text/html": [
       "<div>\n",
       "<style scoped>\n",
       "    .dataframe tbody tr th:only-of-type {\n",
       "        vertical-align: middle;\n",
       "    }\n",
       "\n",
       "    .dataframe tbody tr th {\n",
       "        vertical-align: top;\n",
       "    }\n",
       "\n",
       "    .dataframe thead th {\n",
       "        text-align: right;\n",
       "    }\n",
       "</style>\n",
       "<table border=\"1\" class=\"dataframe\">\n",
       "  <thead>\n",
       "    <tr style=\"text-align: right;\">\n",
       "      <th></th>\n",
       "      <th>Miestas</th>\n",
       "      <th>Gyventojai</th>\n",
       "    </tr>\n",
       "    <tr>\n",
       "      <th>Šalis</th>\n",
       "      <th></th>\n",
       "      <th></th>\n",
       "    </tr>\n",
       "  </thead>\n",
       "  <tbody>\n",
       "    <tr>\n",
       "      <th>Estija</th>\n",
       "      <td>Tartu</td>\n",
       "      <td>400</td>\n",
       "    </tr>\n",
       "    <tr>\n",
       "      <th>Latvija</th>\n",
       "      <td>Ventspilis</td>\n",
       "      <td>716</td>\n",
       "    </tr>\n",
       "    <tr>\n",
       "      <th>Lietuva</th>\n",
       "      <td>Vilnius</td>\n",
       "      <td>541</td>\n",
       "    </tr>\n",
       "  </tbody>\n",
       "</table>\n",
       "</div>"
      ],
      "text/plain": [
       "            Miestas  Gyventojai\n",
       "Šalis                          \n",
       "Estija        Tartu         400\n",
       "Latvija  Ventspilis         716\n",
       "Lietuva     Vilnius         541"
      ]
     },
     "execution_count": 184,
     "metadata": {},
     "output_type": "execute_result"
    }
   ],
   "source": [
    "baltic.max()"
   ]
  },
  {
   "cell_type": "code",
   "execution_count": 185,
   "metadata": {
    "tags": []
   },
   "outputs": [
    {
     "data": {
      "text/html": [
       "<div>\n",
       "<style scoped>\n",
       "    .dataframe tbody tr th:only-of-type {\n",
       "        vertical-align: middle;\n",
       "    }\n",
       "\n",
       "    .dataframe tbody tr th {\n",
       "        vertical-align: top;\n",
       "    }\n",
       "\n",
       "    .dataframe thead th {\n",
       "        text-align: right;\n",
       "    }\n",
       "</style>\n",
       "<table border=\"1\" class=\"dataframe\">\n",
       "  <thead>\n",
       "    <tr style=\"text-align: right;\">\n",
       "      <th></th>\n",
       "      <th>Miestas</th>\n",
       "      <th>Gyventojai</th>\n",
       "    </tr>\n",
       "    <tr>\n",
       "      <th>Šalis</th>\n",
       "      <th></th>\n",
       "      <th></th>\n",
       "    </tr>\n",
       "  </thead>\n",
       "  <tbody>\n",
       "    <tr>\n",
       "      <th>Estija</th>\n",
       "      <td>Pernu</td>\n",
       "      <td>46</td>\n",
       "    </tr>\n",
       "    <tr>\n",
       "      <th>Latvija</th>\n",
       "      <td>Daugpilis</td>\n",
       "      <td>43</td>\n",
       "    </tr>\n",
       "    <tr>\n",
       "      <th>Lietuva</th>\n",
       "      <td>Kaunas</td>\n",
       "      <td>147</td>\n",
       "    </tr>\n",
       "  </tbody>\n",
       "</table>\n",
       "</div>"
      ],
      "text/plain": [
       "           Miestas  Gyventojai\n",
       "Šalis                         \n",
       "Estija       Pernu          46\n",
       "Latvija  Daugpilis          43\n",
       "Lietuva     Kaunas         147"
      ]
     },
     "execution_count": 185,
     "metadata": {},
     "output_type": "execute_result"
    }
   ],
   "source": [
    "baltic.min()"
   ]
  },
  {
   "cell_type": "markdown",
   "metadata": {},
   "source": [
    "šiuo atveju matome, kad miestų stulpelį išrūšiavo pagal abėcelę, o skaičius, kaip ir tikėjomės. Max ir min nėra labai praktiški su *string* tipo reikšmėmis."
   ]
  },
  {
   "cell_type": "markdown",
   "metadata": {},
   "source": [
    "iš **groupby** objektų galime traukti reikšmes:"
   ]
  },
  {
   "cell_type": "code",
   "execution_count": 186,
   "metadata": {
    "tags": []
   },
   "outputs": [
    {
     "data": {
      "text/plain": [
       "Miestas       VilniusKaunasKlaipėda\n",
       "Gyventojai                      975\n",
       "Name: Lietuva, dtype: object"
      ]
     },
     "execution_count": 186,
     "metadata": {},
     "output_type": "execute_result"
    }
   ],
   "source": [
    "baltic.sum().loc['Lietuva']"
   ]
  },
  {
   "cell_type": "markdown",
   "metadata": {},
   "source": [
    "**.describe()** metodas duoda pagrindinę informaciją apie lentelės duomenis:"
   ]
  },
  {
   "cell_type": "code",
   "execution_count": 187,
   "metadata": {
    "tags": []
   },
   "outputs": [
    {
     "data": {
      "text/html": [
       "<div>\n",
       "<style scoped>\n",
       "    .dataframe tbody tr th:only-of-type {\n",
       "        vertical-align: middle;\n",
       "    }\n",
       "\n",
       "    .dataframe tbody tr th {\n",
       "        vertical-align: top;\n",
       "    }\n",
       "\n",
       "    .dataframe thead tr th {\n",
       "        text-align: left;\n",
       "    }\n",
       "\n",
       "    .dataframe thead tr:last-of-type th {\n",
       "        text-align: right;\n",
       "    }\n",
       "</style>\n",
       "<table border=\"1\" class=\"dataframe\">\n",
       "  <thead>\n",
       "    <tr>\n",
       "      <th></th>\n",
       "      <th colspan=\"8\" halign=\"left\">Gyventojai</th>\n",
       "    </tr>\n",
       "    <tr>\n",
       "      <th></th>\n",
       "      <th>count</th>\n",
       "      <th>mean</th>\n",
       "      <th>std</th>\n",
       "      <th>min</th>\n",
       "      <th>25%</th>\n",
       "      <th>50%</th>\n",
       "      <th>75%</th>\n",
       "      <th>max</th>\n",
       "    </tr>\n",
       "    <tr>\n",
       "      <th>Šalis</th>\n",
       "      <th></th>\n",
       "      <th></th>\n",
       "      <th></th>\n",
       "      <th></th>\n",
       "      <th></th>\n",
       "      <th></th>\n",
       "      <th></th>\n",
       "      <th></th>\n",
       "    </tr>\n",
       "  </thead>\n",
       "  <tbody>\n",
       "    <tr>\n",
       "      <th>Estija</th>\n",
       "      <td>3.0</td>\n",
       "      <td>182.333333</td>\n",
       "      <td>190.500219</td>\n",
       "      <td>46.0</td>\n",
       "      <td>73.5</td>\n",
       "      <td>101.0</td>\n",
       "      <td>250.5</td>\n",
       "      <td>400.0</td>\n",
       "    </tr>\n",
       "    <tr>\n",
       "      <th>Latvija</th>\n",
       "      <td>3.0</td>\n",
       "      <td>288.000000</td>\n",
       "      <td>371.952954</td>\n",
       "      <td>43.0</td>\n",
       "      <td>74.0</td>\n",
       "      <td>105.0</td>\n",
       "      <td>410.5</td>\n",
       "      <td>716.0</td>\n",
       "    </tr>\n",
       "    <tr>\n",
       "      <th>Lietuva</th>\n",
       "      <td>3.0</td>\n",
       "      <td>325.000000</td>\n",
       "      <td>199.729818</td>\n",
       "      <td>147.0</td>\n",
       "      <td>217.0</td>\n",
       "      <td>287.0</td>\n",
       "      <td>414.0</td>\n",
       "      <td>541.0</td>\n",
       "    </tr>\n",
       "  </tbody>\n",
       "</table>\n",
       "</div>"
      ],
      "text/plain": [
       "        Gyventojai                                                           \n",
       "             count        mean         std    min    25%    50%    75%    max\n",
       "Šalis                                                                        \n",
       "Estija         3.0  182.333333  190.500219   46.0   73.5  101.0  250.5  400.0\n",
       "Latvija        3.0  288.000000  371.952954   43.0   74.0  105.0  410.5  716.0\n",
       "Lietuva        3.0  325.000000  199.729818  147.0  217.0  287.0  414.0  541.0"
      ]
     },
     "execution_count": 187,
     "metadata": {},
     "output_type": "execute_result"
    }
   ],
   "source": [
    "baltic.describe()"
   ]
  },
  {
   "cell_type": "code",
   "execution_count": 188,
   "metadata": {},
   "outputs": [
    {
     "data": {
      "text/html": [
       "<div>\n",
       "<style scoped>\n",
       "    .dataframe tbody tr th:only-of-type {\n",
       "        vertical-align: middle;\n",
       "    }\n",
       "\n",
       "    .dataframe tbody tr th {\n",
       "        vertical-align: top;\n",
       "    }\n",
       "\n",
       "    .dataframe thead tr th {\n",
       "        text-align: left;\n",
       "    }\n",
       "\n",
       "    .dataframe thead tr:last-of-type th {\n",
       "        text-align: right;\n",
       "    }\n",
       "</style>\n",
       "<table border=\"1\" class=\"dataframe\">\n",
       "  <thead>\n",
       "    <tr>\n",
       "      <th></th>\n",
       "      <th colspan=\"10\" halign=\"left\">Miestas</th>\n",
       "      <th>...</th>\n",
       "      <th colspan=\"10\" halign=\"left\">Gyventojai</th>\n",
       "    </tr>\n",
       "    <tr>\n",
       "      <th></th>\n",
       "      <th>count</th>\n",
       "      <th>unique</th>\n",
       "      <th>top</th>\n",
       "      <th>freq</th>\n",
       "      <th>mean</th>\n",
       "      <th>std</th>\n",
       "      <th>min</th>\n",
       "      <th>25%</th>\n",
       "      <th>50%</th>\n",
       "      <th>75%</th>\n",
       "      <th>...</th>\n",
       "      <th>unique</th>\n",
       "      <th>top</th>\n",
       "      <th>freq</th>\n",
       "      <th>mean</th>\n",
       "      <th>std</th>\n",
       "      <th>min</th>\n",
       "      <th>25%</th>\n",
       "      <th>50%</th>\n",
       "      <th>75%</th>\n",
       "      <th>max</th>\n",
       "    </tr>\n",
       "    <tr>\n",
       "      <th>Šalis</th>\n",
       "      <th></th>\n",
       "      <th></th>\n",
       "      <th></th>\n",
       "      <th></th>\n",
       "      <th></th>\n",
       "      <th></th>\n",
       "      <th></th>\n",
       "      <th></th>\n",
       "      <th></th>\n",
       "      <th></th>\n",
       "      <th></th>\n",
       "      <th></th>\n",
       "      <th></th>\n",
       "      <th></th>\n",
       "      <th></th>\n",
       "      <th></th>\n",
       "      <th></th>\n",
       "      <th></th>\n",
       "      <th></th>\n",
       "      <th></th>\n",
       "      <th></th>\n",
       "    </tr>\n",
       "  </thead>\n",
       "  <tbody>\n",
       "    <tr>\n",
       "      <th>Estija</th>\n",
       "      <td>3</td>\n",
       "      <td>3</td>\n",
       "      <td>Talinas</td>\n",
       "      <td>1</td>\n",
       "      <td>NaN</td>\n",
       "      <td>NaN</td>\n",
       "      <td>NaN</td>\n",
       "      <td>NaN</td>\n",
       "      <td>NaN</td>\n",
       "      <td>NaN</td>\n",
       "      <td>...</td>\n",
       "      <td>NaN</td>\n",
       "      <td>NaN</td>\n",
       "      <td>NaN</td>\n",
       "      <td>182.333333</td>\n",
       "      <td>190.500219</td>\n",
       "      <td>46.0</td>\n",
       "      <td>73.5</td>\n",
       "      <td>101.0</td>\n",
       "      <td>250.5</td>\n",
       "      <td>400.0</td>\n",
       "    </tr>\n",
       "    <tr>\n",
       "      <th>Latvija</th>\n",
       "      <td>3</td>\n",
       "      <td>3</td>\n",
       "      <td>Ryga</td>\n",
       "      <td>1</td>\n",
       "      <td>NaN</td>\n",
       "      <td>NaN</td>\n",
       "      <td>NaN</td>\n",
       "      <td>NaN</td>\n",
       "      <td>NaN</td>\n",
       "      <td>NaN</td>\n",
       "      <td>...</td>\n",
       "      <td>NaN</td>\n",
       "      <td>NaN</td>\n",
       "      <td>NaN</td>\n",
       "      <td>288.000000</td>\n",
       "      <td>371.952954</td>\n",
       "      <td>43.0</td>\n",
       "      <td>74.0</td>\n",
       "      <td>105.0</td>\n",
       "      <td>410.5</td>\n",
       "      <td>716.0</td>\n",
       "    </tr>\n",
       "    <tr>\n",
       "      <th>Lietuva</th>\n",
       "      <td>3</td>\n",
       "      <td>3</td>\n",
       "      <td>Vilnius</td>\n",
       "      <td>1</td>\n",
       "      <td>NaN</td>\n",
       "      <td>NaN</td>\n",
       "      <td>NaN</td>\n",
       "      <td>NaN</td>\n",
       "      <td>NaN</td>\n",
       "      <td>NaN</td>\n",
       "      <td>...</td>\n",
       "      <td>NaN</td>\n",
       "      <td>NaN</td>\n",
       "      <td>NaN</td>\n",
       "      <td>325.000000</td>\n",
       "      <td>199.729818</td>\n",
       "      <td>147.0</td>\n",
       "      <td>217.0</td>\n",
       "      <td>287.0</td>\n",
       "      <td>414.0</td>\n",
       "      <td>541.0</td>\n",
       "    </tr>\n",
       "  </tbody>\n",
       "</table>\n",
       "<p>3 rows × 22 columns</p>\n",
       "</div>"
      ],
      "text/plain": [
       "        Miestas                                                     ...  \\\n",
       "          count unique      top freq mean  std  min  25%  50%  75%  ...   \n",
       "Šalis                                                               ...   \n",
       "Estija        3      3  Talinas    1  NaN  NaN  NaN  NaN  NaN  NaN  ...   \n",
       "Latvija       3      3     Ryga    1  NaN  NaN  NaN  NaN  NaN  NaN  ...   \n",
       "Lietuva       3      3  Vilnius    1  NaN  NaN  NaN  NaN  NaN  NaN  ...   \n",
       "\n",
       "        Gyventojai                                                        \\\n",
       "            unique top freq        mean         std    min    25%    50%   \n",
       "Šalis                                                                      \n",
       "Estija         NaN NaN  NaN  182.333333  190.500219   46.0   73.5  101.0   \n",
       "Latvija        NaN NaN  NaN  288.000000  371.952954   43.0   74.0  105.0   \n",
       "Lietuva        NaN NaN  NaN  325.000000  199.729818  147.0  217.0  287.0   \n",
       "\n",
       "                       \n",
       "           75%    max  \n",
       "Šalis                  \n",
       "Estija   250.5  400.0  \n",
       "Latvija  410.5  716.0  \n",
       "Lietuva  414.0  541.0  \n",
       "\n",
       "[3 rows x 22 columns]"
      ]
     },
     "execution_count": 188,
     "metadata": {},
     "output_type": "execute_result"
    }
   ],
   "source": [
    "baltic.describe(include='all')"
   ]
  },
  {
   "cell_type": "markdown",
   "metadata": {},
   "source": [
    "galime sukeisti stulpelius su eilutėmis su **.transpose()**:"
   ]
  },
  {
   "cell_type": "code",
   "execution_count": 189,
   "metadata": {
    "tags": []
   },
   "outputs": [
    {
     "data": {
      "text/html": [
       "<div>\n",
       "<style scoped>\n",
       "    .dataframe tbody tr th:only-of-type {\n",
       "        vertical-align: middle;\n",
       "    }\n",
       "\n",
       "    .dataframe tbody tr th {\n",
       "        vertical-align: top;\n",
       "    }\n",
       "\n",
       "    .dataframe thead th {\n",
       "        text-align: right;\n",
       "    }\n",
       "</style>\n",
       "<table border=\"1\" class=\"dataframe\">\n",
       "  <thead>\n",
       "    <tr style=\"text-align: right;\">\n",
       "      <th></th>\n",
       "      <th>Šalis</th>\n",
       "      <th>Estija</th>\n",
       "      <th>Latvija</th>\n",
       "      <th>Lietuva</th>\n",
       "    </tr>\n",
       "  </thead>\n",
       "  <tbody>\n",
       "    <tr>\n",
       "      <th rowspan=\"8\" valign=\"top\">Gyventojai</th>\n",
       "      <th>count</th>\n",
       "      <td>3.000000</td>\n",
       "      <td>3.000000</td>\n",
       "      <td>3.000000</td>\n",
       "    </tr>\n",
       "    <tr>\n",
       "      <th>mean</th>\n",
       "      <td>182.333333</td>\n",
       "      <td>288.000000</td>\n",
       "      <td>325.000000</td>\n",
       "    </tr>\n",
       "    <tr>\n",
       "      <th>std</th>\n",
       "      <td>190.500219</td>\n",
       "      <td>371.952954</td>\n",
       "      <td>199.729818</td>\n",
       "    </tr>\n",
       "    <tr>\n",
       "      <th>min</th>\n",
       "      <td>46.000000</td>\n",
       "      <td>43.000000</td>\n",
       "      <td>147.000000</td>\n",
       "    </tr>\n",
       "    <tr>\n",
       "      <th>25%</th>\n",
       "      <td>73.500000</td>\n",
       "      <td>74.000000</td>\n",
       "      <td>217.000000</td>\n",
       "    </tr>\n",
       "    <tr>\n",
       "      <th>50%</th>\n",
       "      <td>101.000000</td>\n",
       "      <td>105.000000</td>\n",
       "      <td>287.000000</td>\n",
       "    </tr>\n",
       "    <tr>\n",
       "      <th>75%</th>\n",
       "      <td>250.500000</td>\n",
       "      <td>410.500000</td>\n",
       "      <td>414.000000</td>\n",
       "    </tr>\n",
       "    <tr>\n",
       "      <th>max</th>\n",
       "      <td>400.000000</td>\n",
       "      <td>716.000000</td>\n",
       "      <td>541.000000</td>\n",
       "    </tr>\n",
       "  </tbody>\n",
       "</table>\n",
       "</div>"
      ],
      "text/plain": [
       "Šalis                 Estija     Latvija     Lietuva\n",
       "Gyventojai count    3.000000    3.000000    3.000000\n",
       "           mean   182.333333  288.000000  325.000000\n",
       "           std    190.500219  371.952954  199.729818\n",
       "           min     46.000000   43.000000  147.000000\n",
       "           25%     73.500000   74.000000  217.000000\n",
       "           50%    101.000000  105.000000  287.000000\n",
       "           75%    250.500000  410.500000  414.000000\n",
       "           max    400.000000  716.000000  541.000000"
      ]
     },
     "execution_count": 189,
     "metadata": {},
     "output_type": "execute_result"
    }
   ],
   "source": [
    "baltic.describe().transpose()"
   ]
  },
  {
   "cell_type": "markdown",
   "metadata": {},
   "source": [
    "jeigu domina vieno kurio nors stulpelio statistika, galime ją ištraukti taip:"
   ]
  },
  {
   "cell_type": "code",
   "execution_count": 190,
   "metadata": {
    "tags": []
   },
   "outputs": [
    {
     "data": {
      "text/plain": [
       "Gyventojai  count      3.000000\n",
       "            mean     182.333333\n",
       "            std      190.500219\n",
       "            min       46.000000\n",
       "            25%       73.500000\n",
       "            50%      101.000000\n",
       "            75%      250.500000\n",
       "            max      400.000000\n",
       "Name: Estija, dtype: float64"
      ]
     },
     "execution_count": 190,
     "metadata": {},
     "output_type": "execute_result"
    }
   ],
   "source": [
    "baltic.describe().transpose()['Estija']"
   ]
  },
  {
   "cell_type": "markdown",
   "metadata": {},
   "source": [
    "### DF Jungimas"
   ]
  },
  {
   "cell_type": "markdown",
   "metadata": {},
   "source": [
    "susikurkime pavyzdžius:"
   ]
  },
  {
   "cell_type": "code",
   "execution_count": 191,
   "metadata": {
    "tags": []
   },
   "outputs": [],
   "source": [
    "data_main = data[0:6].copy()"
   ]
  },
  {
   "cell_type": "code",
   "execution_count": 192,
   "metadata": {
    "tags": []
   },
   "outputs": [
    {
     "data": {
      "text/html": [
       "<div>\n",
       "<style scoped>\n",
       "    .dataframe tbody tr th:only-of-type {\n",
       "        vertical-align: middle;\n",
       "    }\n",
       "\n",
       "    .dataframe tbody tr th {\n",
       "        vertical-align: top;\n",
       "    }\n",
       "\n",
       "    .dataframe thead th {\n",
       "        text-align: right;\n",
       "    }\n",
       "</style>\n",
       "<table border=\"1\" class=\"dataframe\">\n",
       "  <thead>\n",
       "    <tr style=\"text-align: right;\">\n",
       "      <th></th>\n",
       "      <th>Šalis</th>\n",
       "      <th>Miestas</th>\n",
       "      <th>Gyventojai</th>\n",
       "    </tr>\n",
       "  </thead>\n",
       "  <tbody>\n",
       "    <tr>\n",
       "      <th>0</th>\n",
       "      <td>Lietuva</td>\n",
       "      <td>Vilnius</td>\n",
       "      <td>541</td>\n",
       "    </tr>\n",
       "    <tr>\n",
       "      <th>1</th>\n",
       "      <td>Lietuva</td>\n",
       "      <td>Kaunas</td>\n",
       "      <td>287</td>\n",
       "    </tr>\n",
       "    <tr>\n",
       "      <th>2</th>\n",
       "      <td>Lietuva</td>\n",
       "      <td>Klaipėda</td>\n",
       "      <td>147</td>\n",
       "    </tr>\n",
       "    <tr>\n",
       "      <th>3</th>\n",
       "      <td>Latvija</td>\n",
       "      <td>Ryga</td>\n",
       "      <td>716</td>\n",
       "    </tr>\n",
       "    <tr>\n",
       "      <th>4</th>\n",
       "      <td>Latvija</td>\n",
       "      <td>Ventspilis</td>\n",
       "      <td>43</td>\n",
       "    </tr>\n",
       "    <tr>\n",
       "      <th>5</th>\n",
       "      <td>Latvija</td>\n",
       "      <td>Daugpilis</td>\n",
       "      <td>105</td>\n",
       "    </tr>\n",
       "  </tbody>\n",
       "</table>\n",
       "</div>"
      ],
      "text/plain": [
       "     Šalis     Miestas  Gyventojai\n",
       "0  Lietuva     Vilnius         541\n",
       "1  Lietuva      Kaunas         287\n",
       "2  Lietuva    Klaipėda         147\n",
       "3  Latvija        Ryga         716\n",
       "4  Latvija  Ventspilis          43\n",
       "5  Latvija   Daugpilis         105"
      ]
     },
     "execution_count": 192,
     "metadata": {},
     "output_type": "execute_result"
    }
   ],
   "source": [
    "data_main"
   ]
  },
  {
   "cell_type": "code",
   "execution_count": 193,
   "metadata": {
    "tags": []
   },
   "outputs": [],
   "source": [
    "data_bottom = data[6:].copy()"
   ]
  },
  {
   "cell_type": "code",
   "execution_count": 194,
   "metadata": {
    "tags": []
   },
   "outputs": [
    {
     "data": {
      "text/html": [
       "<div>\n",
       "<style scoped>\n",
       "    .dataframe tbody tr th:only-of-type {\n",
       "        vertical-align: middle;\n",
       "    }\n",
       "\n",
       "    .dataframe tbody tr th {\n",
       "        vertical-align: top;\n",
       "    }\n",
       "\n",
       "    .dataframe thead th {\n",
       "        text-align: right;\n",
       "    }\n",
       "</style>\n",
       "<table border=\"1\" class=\"dataframe\">\n",
       "  <thead>\n",
       "    <tr style=\"text-align: right;\">\n",
       "      <th></th>\n",
       "      <th>Šalis</th>\n",
       "      <th>Miestas</th>\n",
       "      <th>Gyventojai</th>\n",
       "    </tr>\n",
       "  </thead>\n",
       "  <tbody>\n",
       "    <tr>\n",
       "      <th>6</th>\n",
       "      <td>Estija</td>\n",
       "      <td>Talinas</td>\n",
       "      <td>400</td>\n",
       "    </tr>\n",
       "    <tr>\n",
       "      <th>7</th>\n",
       "      <td>Estija</td>\n",
       "      <td>Tartu</td>\n",
       "      <td>101</td>\n",
       "    </tr>\n",
       "    <tr>\n",
       "      <th>8</th>\n",
       "      <td>Estija</td>\n",
       "      <td>Pernu</td>\n",
       "      <td>46</td>\n",
       "    </tr>\n",
       "  </tbody>\n",
       "</table>\n",
       "</div>"
      ],
      "text/plain": [
       "    Šalis  Miestas  Gyventojai\n",
       "6  Estija  Talinas         400\n",
       "7  Estija    Tartu         101\n",
       "8  Estija    Pernu          46"
      ]
     },
     "execution_count": 194,
     "metadata": {},
     "output_type": "execute_result"
    }
   ],
   "source": [
    "data_bottom"
   ]
  },
  {
   "cell_type": "markdown",
   "metadata": {},
   "source": [
    "norėdami sujungti data_main su data_bottom naudosime **.concat()** metodą, viduje įrašydami lentelių, kurias jungsime sąrašą:"
   ]
  },
  {
   "cell_type": "code",
   "execution_count": 195,
   "metadata": {
    "tags": []
   },
   "outputs": [
    {
     "data": {
      "text/html": [
       "<div>\n",
       "<style scoped>\n",
       "    .dataframe tbody tr th:only-of-type {\n",
       "        vertical-align: middle;\n",
       "    }\n",
       "\n",
       "    .dataframe tbody tr th {\n",
       "        vertical-align: top;\n",
       "    }\n",
       "\n",
       "    .dataframe thead th {\n",
       "        text-align: right;\n",
       "    }\n",
       "</style>\n",
       "<table border=\"1\" class=\"dataframe\">\n",
       "  <thead>\n",
       "    <tr style=\"text-align: right;\">\n",
       "      <th></th>\n",
       "      <th>Šalis</th>\n",
       "      <th>Miestas</th>\n",
       "      <th>Gyventojai</th>\n",
       "    </tr>\n",
       "  </thead>\n",
       "  <tbody>\n",
       "    <tr>\n",
       "      <th>0</th>\n",
       "      <td>Lietuva</td>\n",
       "      <td>Vilnius</td>\n",
       "      <td>541</td>\n",
       "    </tr>\n",
       "    <tr>\n",
       "      <th>1</th>\n",
       "      <td>Lietuva</td>\n",
       "      <td>Kaunas</td>\n",
       "      <td>287</td>\n",
       "    </tr>\n",
       "    <tr>\n",
       "      <th>2</th>\n",
       "      <td>Lietuva</td>\n",
       "      <td>Klaipėda</td>\n",
       "      <td>147</td>\n",
       "    </tr>\n",
       "    <tr>\n",
       "      <th>3</th>\n",
       "      <td>Latvija</td>\n",
       "      <td>Ryga</td>\n",
       "      <td>716</td>\n",
       "    </tr>\n",
       "    <tr>\n",
       "      <th>4</th>\n",
       "      <td>Latvija</td>\n",
       "      <td>Ventspilis</td>\n",
       "      <td>43</td>\n",
       "    </tr>\n",
       "    <tr>\n",
       "      <th>5</th>\n",
       "      <td>Latvija</td>\n",
       "      <td>Daugpilis</td>\n",
       "      <td>105</td>\n",
       "    </tr>\n",
       "    <tr>\n",
       "      <th>6</th>\n",
       "      <td>Estija</td>\n",
       "      <td>Talinas</td>\n",
       "      <td>400</td>\n",
       "    </tr>\n",
       "    <tr>\n",
       "      <th>7</th>\n",
       "      <td>Estija</td>\n",
       "      <td>Tartu</td>\n",
       "      <td>101</td>\n",
       "    </tr>\n",
       "    <tr>\n",
       "      <th>8</th>\n",
       "      <td>Estija</td>\n",
       "      <td>Pernu</td>\n",
       "      <td>46</td>\n",
       "    </tr>\n",
       "  </tbody>\n",
       "</table>\n",
       "</div>"
      ],
      "text/plain": [
       "     Šalis     Miestas  Gyventojai\n",
       "0  Lietuva     Vilnius         541\n",
       "1  Lietuva      Kaunas         287\n",
       "2  Lietuva    Klaipėda         147\n",
       "3  Latvija        Ryga         716\n",
       "4  Latvija  Ventspilis          43\n",
       "5  Latvija   Daugpilis         105\n",
       "6   Estija     Talinas         400\n",
       "7   Estija       Tartu         101\n",
       "8   Estija       Pernu          46"
      ]
     },
     "execution_count": 195,
     "metadata": {},
     "output_type": "execute_result"
    }
   ],
   "source": [
    "pd.concat([data_main, data_bottom])"
   ]
  },
  {
   "cell_type": "markdown",
   "metadata": {},
   "source": [
    "galime prijungti lentelę iš dešinės:"
   ]
  },
  {
   "cell_type": "code",
   "execution_count": 196,
   "metadata": {
    "tags": []
   },
   "outputs": [
    {
     "data": {
      "text/html": [
       "<div>\n",
       "<style scoped>\n",
       "    .dataframe tbody tr th:only-of-type {\n",
       "        vertical-align: middle;\n",
       "    }\n",
       "\n",
       "    .dataframe tbody tr th {\n",
       "        vertical-align: top;\n",
       "    }\n",
       "\n",
       "    .dataframe thead th {\n",
       "        text-align: right;\n",
       "    }\n",
       "</style>\n",
       "<table border=\"1\" class=\"dataframe\">\n",
       "  <thead>\n",
       "    <tr style=\"text-align: right;\">\n",
       "      <th></th>\n",
       "      <th>Šalis</th>\n",
       "      <th>Miestas</th>\n",
       "      <th>Gyventojai</th>\n",
       "      <th>Šalis</th>\n",
       "      <th>Miestas</th>\n",
       "      <th>Gyventojai</th>\n",
       "    </tr>\n",
       "  </thead>\n",
       "  <tbody>\n",
       "    <tr>\n",
       "      <th>0</th>\n",
       "      <td>Lietuva</td>\n",
       "      <td>Vilnius</td>\n",
       "      <td>541.0</td>\n",
       "      <td>NaN</td>\n",
       "      <td>NaN</td>\n",
       "      <td>NaN</td>\n",
       "    </tr>\n",
       "    <tr>\n",
       "      <th>1</th>\n",
       "      <td>Lietuva</td>\n",
       "      <td>Kaunas</td>\n",
       "      <td>287.0</td>\n",
       "      <td>NaN</td>\n",
       "      <td>NaN</td>\n",
       "      <td>NaN</td>\n",
       "    </tr>\n",
       "    <tr>\n",
       "      <th>2</th>\n",
       "      <td>Lietuva</td>\n",
       "      <td>Klaipėda</td>\n",
       "      <td>147.0</td>\n",
       "      <td>NaN</td>\n",
       "      <td>NaN</td>\n",
       "      <td>NaN</td>\n",
       "    </tr>\n",
       "    <tr>\n",
       "      <th>3</th>\n",
       "      <td>Latvija</td>\n",
       "      <td>Ryga</td>\n",
       "      <td>716.0</td>\n",
       "      <td>NaN</td>\n",
       "      <td>NaN</td>\n",
       "      <td>NaN</td>\n",
       "    </tr>\n",
       "    <tr>\n",
       "      <th>4</th>\n",
       "      <td>Latvija</td>\n",
       "      <td>Ventspilis</td>\n",
       "      <td>43.0</td>\n",
       "      <td>NaN</td>\n",
       "      <td>NaN</td>\n",
       "      <td>NaN</td>\n",
       "    </tr>\n",
       "    <tr>\n",
       "      <th>5</th>\n",
       "      <td>Latvija</td>\n",
       "      <td>Daugpilis</td>\n",
       "      <td>105.0</td>\n",
       "      <td>NaN</td>\n",
       "      <td>NaN</td>\n",
       "      <td>NaN</td>\n",
       "    </tr>\n",
       "    <tr>\n",
       "      <th>6</th>\n",
       "      <td>NaN</td>\n",
       "      <td>NaN</td>\n",
       "      <td>NaN</td>\n",
       "      <td>Estija</td>\n",
       "      <td>Talinas</td>\n",
       "      <td>400.0</td>\n",
       "    </tr>\n",
       "    <tr>\n",
       "      <th>7</th>\n",
       "      <td>NaN</td>\n",
       "      <td>NaN</td>\n",
       "      <td>NaN</td>\n",
       "      <td>Estija</td>\n",
       "      <td>Tartu</td>\n",
       "      <td>101.0</td>\n",
       "    </tr>\n",
       "    <tr>\n",
       "      <th>8</th>\n",
       "      <td>NaN</td>\n",
       "      <td>NaN</td>\n",
       "      <td>NaN</td>\n",
       "      <td>Estija</td>\n",
       "      <td>Pernu</td>\n",
       "      <td>46.0</td>\n",
       "    </tr>\n",
       "  </tbody>\n",
       "</table>\n",
       "</div>"
      ],
      "text/plain": [
       "     Šalis     Miestas  Gyventojai   Šalis  Miestas  Gyventojai\n",
       "0  Lietuva     Vilnius       541.0     NaN      NaN         NaN\n",
       "1  Lietuva      Kaunas       287.0     NaN      NaN         NaN\n",
       "2  Lietuva    Klaipėda       147.0     NaN      NaN         NaN\n",
       "3  Latvija        Ryga       716.0     NaN      NaN         NaN\n",
       "4  Latvija  Ventspilis        43.0     NaN      NaN         NaN\n",
       "5  Latvija   Daugpilis       105.0     NaN      NaN         NaN\n",
       "6      NaN         NaN         NaN  Estija  Talinas       400.0\n",
       "7      NaN         NaN         NaN  Estija    Tartu       101.0\n",
       "8      NaN         NaN         NaN  Estija    Pernu        46.0"
      ]
     },
     "execution_count": 196,
     "metadata": {},
     "output_type": "execute_result"
    }
   ],
   "source": [
    "pd.concat([data_main, data_bottom], axis=1)"
   ]
  },
  {
   "cell_type": "markdown",
   "metadata": {},
   "source": [
    "matome, kad pandas ieškojo antroje lentelėje sutampančių indeksų, ir neradus atliko jungimą užpildant tuščias vietas NaN. Todėl jungiant, reikia įsitikinti, kad jungimui tinka abi pusės. Pertvarkykime data_right indeksą:"
   ]
  },
  {
   "cell_type": "code",
   "execution_count": 197,
   "metadata": {
    "tags": []
   },
   "outputs": [
    {
     "data": {
      "text/html": [
       "<div>\n",
       "<style scoped>\n",
       "    .dataframe tbody tr th:only-of-type {\n",
       "        vertical-align: middle;\n",
       "    }\n",
       "\n",
       "    .dataframe tbody tr th {\n",
       "        vertical-align: top;\n",
       "    }\n",
       "\n",
       "    .dataframe thead th {\n",
       "        text-align: right;\n",
       "    }\n",
       "</style>\n",
       "<table border=\"1\" class=\"dataframe\">\n",
       "  <thead>\n",
       "    <tr style=\"text-align: right;\">\n",
       "      <th></th>\n",
       "      <th>index</th>\n",
       "      <th>Šalis</th>\n",
       "      <th>Miestas</th>\n",
       "      <th>Gyventojai</th>\n",
       "    </tr>\n",
       "  </thead>\n",
       "  <tbody>\n",
       "    <tr>\n",
       "      <th>0</th>\n",
       "      <td>6</td>\n",
       "      <td>Estija</td>\n",
       "      <td>Talinas</td>\n",
       "      <td>400</td>\n",
       "    </tr>\n",
       "    <tr>\n",
       "      <th>1</th>\n",
       "      <td>7</td>\n",
       "      <td>Estija</td>\n",
       "      <td>Tartu</td>\n",
       "      <td>101</td>\n",
       "    </tr>\n",
       "    <tr>\n",
       "      <th>2</th>\n",
       "      <td>8</td>\n",
       "      <td>Estija</td>\n",
       "      <td>Pernu</td>\n",
       "      <td>46</td>\n",
       "    </tr>\n",
       "  </tbody>\n",
       "</table>\n",
       "</div>"
      ],
      "text/plain": [
       "   index   Šalis  Miestas  Gyventojai\n",
       "0      6  Estija  Talinas         400\n",
       "1      7  Estija    Tartu         101\n",
       "2      8  Estija    Pernu          46"
      ]
     },
     "execution_count": 197,
     "metadata": {},
     "output_type": "execute_result"
    }
   ],
   "source": [
    "data_right = data_bottom.reset_index()\n",
    "data_right"
   ]
  },
  {
   "cell_type": "code",
   "execution_count": 198,
   "metadata": {
    "tags": []
   },
   "outputs": [
    {
     "data": {
      "text/html": [
       "<div>\n",
       "<style scoped>\n",
       "    .dataframe tbody tr th:only-of-type {\n",
       "        vertical-align: middle;\n",
       "    }\n",
       "\n",
       "    .dataframe tbody tr th {\n",
       "        vertical-align: top;\n",
       "    }\n",
       "\n",
       "    .dataframe thead th {\n",
       "        text-align: right;\n",
       "    }\n",
       "</style>\n",
       "<table border=\"1\" class=\"dataframe\">\n",
       "  <thead>\n",
       "    <tr style=\"text-align: right;\">\n",
       "      <th></th>\n",
       "      <th>Šalis</th>\n",
       "      <th>Miestas</th>\n",
       "      <th>Gyventojai</th>\n",
       "    </tr>\n",
       "  </thead>\n",
       "  <tbody>\n",
       "    <tr>\n",
       "      <th>0</th>\n",
       "      <td>Estija</td>\n",
       "      <td>Talinas</td>\n",
       "      <td>400</td>\n",
       "    </tr>\n",
       "    <tr>\n",
       "      <th>1</th>\n",
       "      <td>Estija</td>\n",
       "      <td>Tartu</td>\n",
       "      <td>101</td>\n",
       "    </tr>\n",
       "    <tr>\n",
       "      <th>2</th>\n",
       "      <td>Estija</td>\n",
       "      <td>Pernu</td>\n",
       "      <td>46</td>\n",
       "    </tr>\n",
       "  </tbody>\n",
       "</table>\n",
       "</div>"
      ],
      "text/plain": [
       "    Šalis  Miestas  Gyventojai\n",
       "0  Estija  Talinas         400\n",
       "1  Estija    Tartu         101\n",
       "2  Estija    Pernu          46"
      ]
     },
     "execution_count": 198,
     "metadata": {},
     "output_type": "execute_result"
    }
   ],
   "source": [
    "data_right.drop(columns='index', inplace=True)\n",
    "data_right"
   ]
  },
  {
   "cell_type": "code",
   "execution_count": 199,
   "metadata": {
    "tags": []
   },
   "outputs": [
    {
     "data": {
      "text/html": [
       "<div>\n",
       "<style scoped>\n",
       "    .dataframe tbody tr th:only-of-type {\n",
       "        vertical-align: middle;\n",
       "    }\n",
       "\n",
       "    .dataframe tbody tr th {\n",
       "        vertical-align: top;\n",
       "    }\n",
       "\n",
       "    .dataframe thead th {\n",
       "        text-align: right;\n",
       "    }\n",
       "</style>\n",
       "<table border=\"1\" class=\"dataframe\">\n",
       "  <thead>\n",
       "    <tr style=\"text-align: right;\">\n",
       "      <th></th>\n",
       "      <th>Šalis</th>\n",
       "      <th>Miestas</th>\n",
       "      <th>Gyventojai</th>\n",
       "      <th>Šalis</th>\n",
       "      <th>Miestas</th>\n",
       "      <th>Gyventojai</th>\n",
       "    </tr>\n",
       "  </thead>\n",
       "  <tbody>\n",
       "    <tr>\n",
       "      <th>0</th>\n",
       "      <td>Lietuva</td>\n",
       "      <td>Vilnius</td>\n",
       "      <td>541</td>\n",
       "      <td>Estija</td>\n",
       "      <td>Talinas</td>\n",
       "      <td>400.0</td>\n",
       "    </tr>\n",
       "    <tr>\n",
       "      <th>1</th>\n",
       "      <td>Lietuva</td>\n",
       "      <td>Kaunas</td>\n",
       "      <td>287</td>\n",
       "      <td>Estija</td>\n",
       "      <td>Tartu</td>\n",
       "      <td>101.0</td>\n",
       "    </tr>\n",
       "    <tr>\n",
       "      <th>2</th>\n",
       "      <td>Lietuva</td>\n",
       "      <td>Klaipėda</td>\n",
       "      <td>147</td>\n",
       "      <td>Estija</td>\n",
       "      <td>Pernu</td>\n",
       "      <td>46.0</td>\n",
       "    </tr>\n",
       "    <tr>\n",
       "      <th>3</th>\n",
       "      <td>Latvija</td>\n",
       "      <td>Ryga</td>\n",
       "      <td>716</td>\n",
       "      <td>NaN</td>\n",
       "      <td>NaN</td>\n",
       "      <td>NaN</td>\n",
       "    </tr>\n",
       "    <tr>\n",
       "      <th>4</th>\n",
       "      <td>Latvija</td>\n",
       "      <td>Ventspilis</td>\n",
       "      <td>43</td>\n",
       "      <td>NaN</td>\n",
       "      <td>NaN</td>\n",
       "      <td>NaN</td>\n",
       "    </tr>\n",
       "    <tr>\n",
       "      <th>5</th>\n",
       "      <td>Latvija</td>\n",
       "      <td>Daugpilis</td>\n",
       "      <td>105</td>\n",
       "      <td>NaN</td>\n",
       "      <td>NaN</td>\n",
       "      <td>NaN</td>\n",
       "    </tr>\n",
       "  </tbody>\n",
       "</table>\n",
       "</div>"
      ],
      "text/plain": [
       "     Šalis     Miestas  Gyventojai   Šalis  Miestas  Gyventojai\n",
       "0  Lietuva     Vilnius         541  Estija  Talinas       400.0\n",
       "1  Lietuva      Kaunas         287  Estija    Tartu       101.0\n",
       "2  Lietuva    Klaipėda         147  Estija    Pernu        46.0\n",
       "3  Latvija        Ryga         716     NaN      NaN         NaN\n",
       "4  Latvija  Ventspilis          43     NaN      NaN         NaN\n",
       "5  Latvija   Daugpilis         105     NaN      NaN         NaN"
      ]
     },
     "execution_count": 199,
     "metadata": {},
     "output_type": "execute_result"
    }
   ],
   "source": [
    "pd.concat([data_main, data_right], axis=1)"
   ]
  },
  {
   "cell_type": "markdown",
   "metadata": {},
   "source": [
    "dabar pandas surado sutampančius indeksus, tačiau visvien turime NaN reikšmes, kadangi lentelėje trūksta duomenų. Pridėkime papildomų eilučių:"
   ]
  },
  {
   "cell_type": "code",
   "execution_count": 200,
   "metadata": {
    "tags": []
   },
   "outputs": [],
   "source": [
    "lenkija = {'Šalis': ['Lenkija', 'Lenkija', 'Lenkija'], \n",
    "           'Miestas':['Varšuva', 'Vroclavas', 'Gdanskas'], \n",
    "          'Gyventojai': [1688, 638, 461]}\n",
    "pl = pd.DataFrame(lenkija)\n",
    "data_right1 = pd.concat([data_right, pl])"
   ]
  },
  {
   "cell_type": "code",
   "execution_count": 201,
   "metadata": {
    "tags": []
   },
   "outputs": [],
   "source": [
    "data_right = data_right1.reset_index().drop(columns='index')"
   ]
  },
  {
   "cell_type": "code",
   "execution_count": 202,
   "metadata": {
    "tags": []
   },
   "outputs": [
    {
     "data": {
      "text/html": [
       "<div>\n",
       "<style scoped>\n",
       "    .dataframe tbody tr th:only-of-type {\n",
       "        vertical-align: middle;\n",
       "    }\n",
       "\n",
       "    .dataframe tbody tr th {\n",
       "        vertical-align: top;\n",
       "    }\n",
       "\n",
       "    .dataframe thead th {\n",
       "        text-align: right;\n",
       "    }\n",
       "</style>\n",
       "<table border=\"1\" class=\"dataframe\">\n",
       "  <thead>\n",
       "    <tr style=\"text-align: right;\">\n",
       "      <th></th>\n",
       "      <th>Šalis</th>\n",
       "      <th>Miestas</th>\n",
       "      <th>Gyventojai</th>\n",
       "    </tr>\n",
       "  </thead>\n",
       "  <tbody>\n",
       "    <tr>\n",
       "      <th>0</th>\n",
       "      <td>Estija</td>\n",
       "      <td>Talinas</td>\n",
       "      <td>400</td>\n",
       "    </tr>\n",
       "    <tr>\n",
       "      <th>1</th>\n",
       "      <td>Estija</td>\n",
       "      <td>Tartu</td>\n",
       "      <td>101</td>\n",
       "    </tr>\n",
       "    <tr>\n",
       "      <th>2</th>\n",
       "      <td>Estija</td>\n",
       "      <td>Pernu</td>\n",
       "      <td>46</td>\n",
       "    </tr>\n",
       "    <tr>\n",
       "      <th>3</th>\n",
       "      <td>Lenkija</td>\n",
       "      <td>Varšuva</td>\n",
       "      <td>1688</td>\n",
       "    </tr>\n",
       "    <tr>\n",
       "      <th>4</th>\n",
       "      <td>Lenkija</td>\n",
       "      <td>Vroclavas</td>\n",
       "      <td>638</td>\n",
       "    </tr>\n",
       "    <tr>\n",
       "      <th>5</th>\n",
       "      <td>Lenkija</td>\n",
       "      <td>Gdanskas</td>\n",
       "      <td>461</td>\n",
       "    </tr>\n",
       "  </tbody>\n",
       "</table>\n",
       "</div>"
      ],
      "text/plain": [
       "     Šalis    Miestas  Gyventojai\n",
       "0   Estija    Talinas         400\n",
       "1   Estija      Tartu         101\n",
       "2   Estija      Pernu          46\n",
       "3  Lenkija    Varšuva        1688\n",
       "4  Lenkija  Vroclavas         638\n",
       "5  Lenkija   Gdanskas         461"
      ]
     },
     "execution_count": 202,
     "metadata": {},
     "output_type": "execute_result"
    }
   ],
   "source": [
    "data_right"
   ]
  },
  {
   "cell_type": "markdown",
   "metadata": {},
   "source": [
    "Pabandykime sujungti data_main su data_right :)"
   ]
  },
  {
   "cell_type": "code",
   "execution_count": 203,
   "metadata": {
    "tags": []
   },
   "outputs": [
    {
     "data": {
      "text/html": [
       "<div>\n",
       "<style scoped>\n",
       "    .dataframe tbody tr th:only-of-type {\n",
       "        vertical-align: middle;\n",
       "    }\n",
       "\n",
       "    .dataframe tbody tr th {\n",
       "        vertical-align: top;\n",
       "    }\n",
       "\n",
       "    .dataframe thead th {\n",
       "        text-align: right;\n",
       "    }\n",
       "</style>\n",
       "<table border=\"1\" class=\"dataframe\">\n",
       "  <thead>\n",
       "    <tr style=\"text-align: right;\">\n",
       "      <th></th>\n",
       "      <th>Šalis</th>\n",
       "      <th>Miestas</th>\n",
       "      <th>Gyventojai</th>\n",
       "      <th>Šalis</th>\n",
       "      <th>Miestas</th>\n",
       "      <th>Gyventojai</th>\n",
       "    </tr>\n",
       "  </thead>\n",
       "  <tbody>\n",
       "    <tr>\n",
       "      <th>0</th>\n",
       "      <td>Lietuva</td>\n",
       "      <td>Vilnius</td>\n",
       "      <td>541</td>\n",
       "      <td>Estija</td>\n",
       "      <td>Talinas</td>\n",
       "      <td>400</td>\n",
       "    </tr>\n",
       "    <tr>\n",
       "      <th>1</th>\n",
       "      <td>Lietuva</td>\n",
       "      <td>Kaunas</td>\n",
       "      <td>287</td>\n",
       "      <td>Estija</td>\n",
       "      <td>Tartu</td>\n",
       "      <td>101</td>\n",
       "    </tr>\n",
       "    <tr>\n",
       "      <th>2</th>\n",
       "      <td>Lietuva</td>\n",
       "      <td>Klaipėda</td>\n",
       "      <td>147</td>\n",
       "      <td>Estija</td>\n",
       "      <td>Pernu</td>\n",
       "      <td>46</td>\n",
       "    </tr>\n",
       "    <tr>\n",
       "      <th>3</th>\n",
       "      <td>Latvija</td>\n",
       "      <td>Ryga</td>\n",
       "      <td>716</td>\n",
       "      <td>Lenkija</td>\n",
       "      <td>Varšuva</td>\n",
       "      <td>1688</td>\n",
       "    </tr>\n",
       "    <tr>\n",
       "      <th>4</th>\n",
       "      <td>Latvija</td>\n",
       "      <td>Ventspilis</td>\n",
       "      <td>43</td>\n",
       "      <td>Lenkija</td>\n",
       "      <td>Vroclavas</td>\n",
       "      <td>638</td>\n",
       "    </tr>\n",
       "    <tr>\n",
       "      <th>5</th>\n",
       "      <td>Latvija</td>\n",
       "      <td>Daugpilis</td>\n",
       "      <td>105</td>\n",
       "      <td>Lenkija</td>\n",
       "      <td>Gdanskas</td>\n",
       "      <td>461</td>\n",
       "    </tr>\n",
       "  </tbody>\n",
       "</table>\n",
       "</div>"
      ],
      "text/plain": [
       "     Šalis     Miestas  Gyventojai    Šalis    Miestas  Gyventojai\n",
       "0  Lietuva     Vilnius         541   Estija    Talinas         400\n",
       "1  Lietuva      Kaunas         287   Estija      Tartu         101\n",
       "2  Lietuva    Klaipėda         147   Estija      Pernu          46\n",
       "3  Latvija        Ryga         716  Lenkija    Varšuva        1688\n",
       "4  Latvija  Ventspilis          43  Lenkija  Vroclavas         638\n",
       "5  Latvija   Daugpilis         105  Lenkija   Gdanskas         461"
      ]
     },
     "execution_count": 203,
     "metadata": {},
     "output_type": "execute_result"
    }
   ],
   "source": [
    "pd.concat([data_main, data_right], axis=1)"
   ]
  },
  {
   "cell_type": "markdown",
   "metadata": {},
   "source": [
    "**.merge()**"
   ]
  },
  {
   "cell_type": "markdown",
   "metadata": {},
   "source": [
    "Jeigu *data_main* ir *data_right* turėtų po vieną sutampantį stulpelį, pvz.:"
   ]
  },
  {
   "cell_type": "code",
   "execution_count": 205,
   "metadata": {
    "tags": []
   },
   "outputs": [],
   "source": [
    "key = 'A B C D E F'.split()\n",
    "data_main['key'] = key\n",
    "data_right['key'] = key"
   ]
  },
  {
   "cell_type": "code",
   "execution_count": 206,
   "metadata": {
    "tags": []
   },
   "outputs": [
    {
     "data": {
      "text/html": [
       "<div>\n",
       "<style scoped>\n",
       "    .dataframe tbody tr th:only-of-type {\n",
       "        vertical-align: middle;\n",
       "    }\n",
       "\n",
       "    .dataframe tbody tr th {\n",
       "        vertical-align: top;\n",
       "    }\n",
       "\n",
       "    .dataframe thead th {\n",
       "        text-align: right;\n",
       "    }\n",
       "</style>\n",
       "<table border=\"1\" class=\"dataframe\">\n",
       "  <thead>\n",
       "    <tr style=\"text-align: right;\">\n",
       "      <th></th>\n",
       "      <th>Šalis</th>\n",
       "      <th>Miestas</th>\n",
       "      <th>Gyventojai</th>\n",
       "      <th>key</th>\n",
       "    </tr>\n",
       "  </thead>\n",
       "  <tbody>\n",
       "    <tr>\n",
       "      <th>0</th>\n",
       "      <td>Lietuva</td>\n",
       "      <td>Vilnius</td>\n",
       "      <td>541</td>\n",
       "      <td>A</td>\n",
       "    </tr>\n",
       "    <tr>\n",
       "      <th>1</th>\n",
       "      <td>Lietuva</td>\n",
       "      <td>Kaunas</td>\n",
       "      <td>287</td>\n",
       "      <td>B</td>\n",
       "    </tr>\n",
       "    <tr>\n",
       "      <th>2</th>\n",
       "      <td>Lietuva</td>\n",
       "      <td>Klaipėda</td>\n",
       "      <td>147</td>\n",
       "      <td>C</td>\n",
       "    </tr>\n",
       "    <tr>\n",
       "      <th>3</th>\n",
       "      <td>Latvija</td>\n",
       "      <td>Ryga</td>\n",
       "      <td>716</td>\n",
       "      <td>D</td>\n",
       "    </tr>\n",
       "    <tr>\n",
       "      <th>4</th>\n",
       "      <td>Latvija</td>\n",
       "      <td>Ventspilis</td>\n",
       "      <td>43</td>\n",
       "      <td>E</td>\n",
       "    </tr>\n",
       "    <tr>\n",
       "      <th>5</th>\n",
       "      <td>Latvija</td>\n",
       "      <td>Daugpilis</td>\n",
       "      <td>105</td>\n",
       "      <td>F</td>\n",
       "    </tr>\n",
       "  </tbody>\n",
       "</table>\n",
       "</div>"
      ],
      "text/plain": [
       "     Šalis     Miestas  Gyventojai key\n",
       "0  Lietuva     Vilnius         541   A\n",
       "1  Lietuva      Kaunas         287   B\n",
       "2  Lietuva    Klaipėda         147   C\n",
       "3  Latvija        Ryga         716   D\n",
       "4  Latvija  Ventspilis          43   E\n",
       "5  Latvija   Daugpilis         105   F"
      ]
     },
     "execution_count": 206,
     "metadata": {},
     "output_type": "execute_result"
    }
   ],
   "source": [
    "data_main"
   ]
  },
  {
   "cell_type": "code",
   "execution_count": 207,
   "metadata": {
    "tags": []
   },
   "outputs": [
    {
     "data": {
      "text/html": [
       "<div>\n",
       "<style scoped>\n",
       "    .dataframe tbody tr th:only-of-type {\n",
       "        vertical-align: middle;\n",
       "    }\n",
       "\n",
       "    .dataframe tbody tr th {\n",
       "        vertical-align: top;\n",
       "    }\n",
       "\n",
       "    .dataframe thead th {\n",
       "        text-align: right;\n",
       "    }\n",
       "</style>\n",
       "<table border=\"1\" class=\"dataframe\">\n",
       "  <thead>\n",
       "    <tr style=\"text-align: right;\">\n",
       "      <th></th>\n",
       "      <th>Šalis</th>\n",
       "      <th>Miestas</th>\n",
       "      <th>Gyventojai</th>\n",
       "      <th>key</th>\n",
       "    </tr>\n",
       "  </thead>\n",
       "  <tbody>\n",
       "    <tr>\n",
       "      <th>0</th>\n",
       "      <td>Estija</td>\n",
       "      <td>Talinas</td>\n",
       "      <td>400</td>\n",
       "      <td>A</td>\n",
       "    </tr>\n",
       "    <tr>\n",
       "      <th>1</th>\n",
       "      <td>Estija</td>\n",
       "      <td>Tartu</td>\n",
       "      <td>101</td>\n",
       "      <td>B</td>\n",
       "    </tr>\n",
       "    <tr>\n",
       "      <th>2</th>\n",
       "      <td>Estija</td>\n",
       "      <td>Pernu</td>\n",
       "      <td>46</td>\n",
       "      <td>C</td>\n",
       "    </tr>\n",
       "    <tr>\n",
       "      <th>3</th>\n",
       "      <td>Lenkija</td>\n",
       "      <td>Varšuva</td>\n",
       "      <td>1688</td>\n",
       "      <td>D</td>\n",
       "    </tr>\n",
       "    <tr>\n",
       "      <th>4</th>\n",
       "      <td>Lenkija</td>\n",
       "      <td>Vroclavas</td>\n",
       "      <td>638</td>\n",
       "      <td>E</td>\n",
       "    </tr>\n",
       "    <tr>\n",
       "      <th>5</th>\n",
       "      <td>Lenkija</td>\n",
       "      <td>Gdanskas</td>\n",
       "      <td>461</td>\n",
       "      <td>F</td>\n",
       "    </tr>\n",
       "  </tbody>\n",
       "</table>\n",
       "</div>"
      ],
      "text/plain": [
       "     Šalis    Miestas  Gyventojai key\n",
       "0   Estija    Talinas         400   A\n",
       "1   Estija      Tartu         101   B\n",
       "2   Estija      Pernu          46   C\n",
       "3  Lenkija    Varšuva        1688   D\n",
       "4  Lenkija  Vroclavas         638   E\n",
       "5  Lenkija   Gdanskas         461   F"
      ]
     },
     "execution_count": 207,
     "metadata": {},
     "output_type": "execute_result"
    }
   ],
   "source": [
    "data_right"
   ]
  },
  {
   "cell_type": "markdown",
   "metadata": {},
   "source": [
    "galima jas sulieti to bendro stulpelio pagrindu:"
   ]
  },
  {
   "cell_type": "code",
   "execution_count": 208,
   "metadata": {
    "tags": []
   },
   "outputs": [
    {
     "data": {
      "text/html": [
       "<div>\n",
       "<style scoped>\n",
       "    .dataframe tbody tr th:only-of-type {\n",
       "        vertical-align: middle;\n",
       "    }\n",
       "\n",
       "    .dataframe tbody tr th {\n",
       "        vertical-align: top;\n",
       "    }\n",
       "\n",
       "    .dataframe thead th {\n",
       "        text-align: right;\n",
       "    }\n",
       "</style>\n",
       "<table border=\"1\" class=\"dataframe\">\n",
       "  <thead>\n",
       "    <tr style=\"text-align: right;\">\n",
       "      <th></th>\n",
       "      <th>Šalis_x</th>\n",
       "      <th>Miestas_x</th>\n",
       "      <th>Gyventojai_x</th>\n",
       "      <th>key</th>\n",
       "      <th>Šalis_y</th>\n",
       "      <th>Miestas_y</th>\n",
       "      <th>Gyventojai_y</th>\n",
       "    </tr>\n",
       "  </thead>\n",
       "  <tbody>\n",
       "    <tr>\n",
       "      <th>0</th>\n",
       "      <td>Lietuva</td>\n",
       "      <td>Vilnius</td>\n",
       "      <td>541</td>\n",
       "      <td>A</td>\n",
       "      <td>Estija</td>\n",
       "      <td>Talinas</td>\n",
       "      <td>400</td>\n",
       "    </tr>\n",
       "    <tr>\n",
       "      <th>1</th>\n",
       "      <td>Lietuva</td>\n",
       "      <td>Kaunas</td>\n",
       "      <td>287</td>\n",
       "      <td>B</td>\n",
       "      <td>Estija</td>\n",
       "      <td>Tartu</td>\n",
       "      <td>101</td>\n",
       "    </tr>\n",
       "    <tr>\n",
       "      <th>2</th>\n",
       "      <td>Lietuva</td>\n",
       "      <td>Klaipėda</td>\n",
       "      <td>147</td>\n",
       "      <td>C</td>\n",
       "      <td>Estija</td>\n",
       "      <td>Pernu</td>\n",
       "      <td>46</td>\n",
       "    </tr>\n",
       "    <tr>\n",
       "      <th>3</th>\n",
       "      <td>Latvija</td>\n",
       "      <td>Ryga</td>\n",
       "      <td>716</td>\n",
       "      <td>D</td>\n",
       "      <td>Lenkija</td>\n",
       "      <td>Varšuva</td>\n",
       "      <td>1688</td>\n",
       "    </tr>\n",
       "    <tr>\n",
       "      <th>4</th>\n",
       "      <td>Latvija</td>\n",
       "      <td>Ventspilis</td>\n",
       "      <td>43</td>\n",
       "      <td>E</td>\n",
       "      <td>Lenkija</td>\n",
       "      <td>Vroclavas</td>\n",
       "      <td>638</td>\n",
       "    </tr>\n",
       "    <tr>\n",
       "      <th>5</th>\n",
       "      <td>Latvija</td>\n",
       "      <td>Daugpilis</td>\n",
       "      <td>105</td>\n",
       "      <td>F</td>\n",
       "      <td>Lenkija</td>\n",
       "      <td>Gdanskas</td>\n",
       "      <td>461</td>\n",
       "    </tr>\n",
       "  </tbody>\n",
       "</table>\n",
       "</div>"
      ],
      "text/plain": [
       "   Šalis_x   Miestas_x  Gyventojai_x key  Šalis_y  Miestas_y  Gyventojai_y\n",
       "0  Lietuva     Vilnius           541   A   Estija    Talinas           400\n",
       "1  Lietuva      Kaunas           287   B   Estija      Tartu           101\n",
       "2  Lietuva    Klaipėda           147   C   Estija      Pernu            46\n",
       "3  Latvija        Ryga           716   D  Lenkija    Varšuva          1688\n",
       "4  Latvija  Ventspilis            43   E  Lenkija  Vroclavas           638\n",
       "5  Latvija   Daugpilis           105   F  Lenkija   Gdanskas           461"
      ]
     },
     "execution_count": 208,
     "metadata": {},
     "output_type": "execute_result"
    }
   ],
   "source": [
    "pd.merge(data_main, data_right, on='key')"
   ]
  },
  {
   "cell_type": "markdown",
   "metadata": {},
   "source": [
    "matome, kad lentelės suklijuotos, tačiau stulpelis 'key' nesikartoja (*stulpeliai pervadinti, kad nesidubliuotų pavadinimai*). Stulpelį 'key' teko nurodyti parametre **on**."
   ]
  },
  {
   "cell_type": "markdown",
   "metadata": {},
   "source": [
    "papildykime pavyzdį dar vienu stulpeliu:"
   ]
  },
  {
   "cell_type": "code",
   "execution_count": 209,
   "metadata": {
    "tags": []
   },
   "outputs": [],
   "source": [
    "key2 = 'B C D E F G'.split()\n",
    "data_main['key2'] = key2\n",
    "data_right['key2'] = key2"
   ]
  },
  {
   "cell_type": "markdown",
   "metadata": {},
   "source": [
    "*tai ne klaida, tai perspėjimas, ignoruokite. čia tiesiog greituoju būdu sukurta dummy data*"
   ]
  },
  {
   "cell_type": "code",
   "execution_count": 210,
   "metadata": {
    "tags": []
   },
   "outputs": [
    {
     "data": {
      "text/html": [
       "<div>\n",
       "<style scoped>\n",
       "    .dataframe tbody tr th:only-of-type {\n",
       "        vertical-align: middle;\n",
       "    }\n",
       "\n",
       "    .dataframe tbody tr th {\n",
       "        vertical-align: top;\n",
       "    }\n",
       "\n",
       "    .dataframe thead th {\n",
       "        text-align: right;\n",
       "    }\n",
       "</style>\n",
       "<table border=\"1\" class=\"dataframe\">\n",
       "  <thead>\n",
       "    <tr style=\"text-align: right;\">\n",
       "      <th></th>\n",
       "      <th>Šalis</th>\n",
       "      <th>Miestas</th>\n",
       "      <th>Gyventojai</th>\n",
       "      <th>key</th>\n",
       "      <th>key2</th>\n",
       "    </tr>\n",
       "  </thead>\n",
       "  <tbody>\n",
       "    <tr>\n",
       "      <th>0</th>\n",
       "      <td>Lietuva</td>\n",
       "      <td>Vilnius</td>\n",
       "      <td>541</td>\n",
       "      <td>A</td>\n",
       "      <td>B</td>\n",
       "    </tr>\n",
       "    <tr>\n",
       "      <th>1</th>\n",
       "      <td>Lietuva</td>\n",
       "      <td>Kaunas</td>\n",
       "      <td>287</td>\n",
       "      <td>B</td>\n",
       "      <td>C</td>\n",
       "    </tr>\n",
       "    <tr>\n",
       "      <th>2</th>\n",
       "      <td>Lietuva</td>\n",
       "      <td>Klaipėda</td>\n",
       "      <td>147</td>\n",
       "      <td>C</td>\n",
       "      <td>D</td>\n",
       "    </tr>\n",
       "    <tr>\n",
       "      <th>3</th>\n",
       "      <td>Latvija</td>\n",
       "      <td>Ryga</td>\n",
       "      <td>716</td>\n",
       "      <td>D</td>\n",
       "      <td>E</td>\n",
       "    </tr>\n",
       "    <tr>\n",
       "      <th>4</th>\n",
       "      <td>Latvija</td>\n",
       "      <td>Ventspilis</td>\n",
       "      <td>43</td>\n",
       "      <td>E</td>\n",
       "      <td>F</td>\n",
       "    </tr>\n",
       "    <tr>\n",
       "      <th>5</th>\n",
       "      <td>Latvija</td>\n",
       "      <td>Daugpilis</td>\n",
       "      <td>105</td>\n",
       "      <td>F</td>\n",
       "      <td>G</td>\n",
       "    </tr>\n",
       "  </tbody>\n",
       "</table>\n",
       "</div>"
      ],
      "text/plain": [
       "     Šalis     Miestas  Gyventojai key key2\n",
       "0  Lietuva     Vilnius         541   A    B\n",
       "1  Lietuva      Kaunas         287   B    C\n",
       "2  Lietuva    Klaipėda         147   C    D\n",
       "3  Latvija        Ryga         716   D    E\n",
       "4  Latvija  Ventspilis          43   E    F\n",
       "5  Latvija   Daugpilis         105   F    G"
      ]
     },
     "execution_count": 210,
     "metadata": {},
     "output_type": "execute_result"
    }
   ],
   "source": [
    "data_main"
   ]
  },
  {
   "cell_type": "code",
   "execution_count": 211,
   "metadata": {
    "tags": []
   },
   "outputs": [
    {
     "data": {
      "text/html": [
       "<div>\n",
       "<style scoped>\n",
       "    .dataframe tbody tr th:only-of-type {\n",
       "        vertical-align: middle;\n",
       "    }\n",
       "\n",
       "    .dataframe tbody tr th {\n",
       "        vertical-align: top;\n",
       "    }\n",
       "\n",
       "    .dataframe thead th {\n",
       "        text-align: right;\n",
       "    }\n",
       "</style>\n",
       "<table border=\"1\" class=\"dataframe\">\n",
       "  <thead>\n",
       "    <tr style=\"text-align: right;\">\n",
       "      <th></th>\n",
       "      <th>Šalis</th>\n",
       "      <th>Miestas</th>\n",
       "      <th>Gyventojai</th>\n",
       "      <th>key</th>\n",
       "      <th>key2</th>\n",
       "    </tr>\n",
       "  </thead>\n",
       "  <tbody>\n",
       "    <tr>\n",
       "      <th>0</th>\n",
       "      <td>Estija</td>\n",
       "      <td>Talinas</td>\n",
       "      <td>400</td>\n",
       "      <td>A</td>\n",
       "      <td>B</td>\n",
       "    </tr>\n",
       "    <tr>\n",
       "      <th>1</th>\n",
       "      <td>Estija</td>\n",
       "      <td>Tartu</td>\n",
       "      <td>101</td>\n",
       "      <td>B</td>\n",
       "      <td>C</td>\n",
       "    </tr>\n",
       "    <tr>\n",
       "      <th>2</th>\n",
       "      <td>Estija</td>\n",
       "      <td>Pernu</td>\n",
       "      <td>46</td>\n",
       "      <td>C</td>\n",
       "      <td>D</td>\n",
       "    </tr>\n",
       "    <tr>\n",
       "      <th>3</th>\n",
       "      <td>Lenkija</td>\n",
       "      <td>Varšuva</td>\n",
       "      <td>1688</td>\n",
       "      <td>D</td>\n",
       "      <td>E</td>\n",
       "    </tr>\n",
       "    <tr>\n",
       "      <th>4</th>\n",
       "      <td>Lenkija</td>\n",
       "      <td>Vroclavas</td>\n",
       "      <td>638</td>\n",
       "      <td>E</td>\n",
       "      <td>F</td>\n",
       "    </tr>\n",
       "    <tr>\n",
       "      <th>5</th>\n",
       "      <td>Lenkija</td>\n",
       "      <td>Gdanskas</td>\n",
       "      <td>461</td>\n",
       "      <td>F</td>\n",
       "      <td>G</td>\n",
       "    </tr>\n",
       "  </tbody>\n",
       "</table>\n",
       "</div>"
      ],
      "text/plain": [
       "     Šalis    Miestas  Gyventojai key key2\n",
       "0   Estija    Talinas         400   A    B\n",
       "1   Estija      Tartu         101   B    C\n",
       "2   Estija      Pernu          46   C    D\n",
       "3  Lenkija    Varšuva        1688   D    E\n",
       "4  Lenkija  Vroclavas         638   E    F\n",
       "5  Lenkija   Gdanskas         461   F    G"
      ]
     },
     "execution_count": 211,
     "metadata": {},
     "output_type": "execute_result"
    }
   ],
   "source": [
    "data_right"
   ]
  },
  {
   "cell_type": "code",
   "execution_count": 212,
   "metadata": {
    "tags": []
   },
   "outputs": [
    {
     "data": {
      "text/html": [
       "<div>\n",
       "<style scoped>\n",
       "    .dataframe tbody tr th:only-of-type {\n",
       "        vertical-align: middle;\n",
       "    }\n",
       "\n",
       "    .dataframe tbody tr th {\n",
       "        vertical-align: top;\n",
       "    }\n",
       "\n",
       "    .dataframe thead th {\n",
       "        text-align: right;\n",
       "    }\n",
       "</style>\n",
       "<table border=\"1\" class=\"dataframe\">\n",
       "  <thead>\n",
       "    <tr style=\"text-align: right;\">\n",
       "      <th></th>\n",
       "      <th>Šalis_x</th>\n",
       "      <th>Miestas_x</th>\n",
       "      <th>Gyventojai_x</th>\n",
       "      <th>key</th>\n",
       "      <th>key2</th>\n",
       "      <th>Šalis_y</th>\n",
       "      <th>Miestas_y</th>\n",
       "      <th>Gyventojai_y</th>\n",
       "    </tr>\n",
       "  </thead>\n",
       "  <tbody>\n",
       "    <tr>\n",
       "      <th>0</th>\n",
       "      <td>Lietuva</td>\n",
       "      <td>Vilnius</td>\n",
       "      <td>541</td>\n",
       "      <td>A</td>\n",
       "      <td>B</td>\n",
       "      <td>Estija</td>\n",
       "      <td>Talinas</td>\n",
       "      <td>400</td>\n",
       "    </tr>\n",
       "    <tr>\n",
       "      <th>1</th>\n",
       "      <td>Lietuva</td>\n",
       "      <td>Kaunas</td>\n",
       "      <td>287</td>\n",
       "      <td>B</td>\n",
       "      <td>C</td>\n",
       "      <td>Estija</td>\n",
       "      <td>Tartu</td>\n",
       "      <td>101</td>\n",
       "    </tr>\n",
       "    <tr>\n",
       "      <th>2</th>\n",
       "      <td>Lietuva</td>\n",
       "      <td>Klaipėda</td>\n",
       "      <td>147</td>\n",
       "      <td>C</td>\n",
       "      <td>D</td>\n",
       "      <td>Estija</td>\n",
       "      <td>Pernu</td>\n",
       "      <td>46</td>\n",
       "    </tr>\n",
       "    <tr>\n",
       "      <th>3</th>\n",
       "      <td>Latvija</td>\n",
       "      <td>Ryga</td>\n",
       "      <td>716</td>\n",
       "      <td>D</td>\n",
       "      <td>E</td>\n",
       "      <td>Lenkija</td>\n",
       "      <td>Varšuva</td>\n",
       "      <td>1688</td>\n",
       "    </tr>\n",
       "    <tr>\n",
       "      <th>4</th>\n",
       "      <td>Latvija</td>\n",
       "      <td>Ventspilis</td>\n",
       "      <td>43</td>\n",
       "      <td>E</td>\n",
       "      <td>F</td>\n",
       "      <td>Lenkija</td>\n",
       "      <td>Vroclavas</td>\n",
       "      <td>638</td>\n",
       "    </tr>\n",
       "    <tr>\n",
       "      <th>5</th>\n",
       "      <td>Latvija</td>\n",
       "      <td>Daugpilis</td>\n",
       "      <td>105</td>\n",
       "      <td>F</td>\n",
       "      <td>G</td>\n",
       "      <td>Lenkija</td>\n",
       "      <td>Gdanskas</td>\n",
       "      <td>461</td>\n",
       "    </tr>\n",
       "  </tbody>\n",
       "</table>\n",
       "</div>"
      ],
      "text/plain": [
       "   Šalis_x   Miestas_x  Gyventojai_x key key2  Šalis_y  Miestas_y  \\\n",
       "0  Lietuva     Vilnius           541   A    B   Estija    Talinas   \n",
       "1  Lietuva      Kaunas           287   B    C   Estija      Tartu   \n",
       "2  Lietuva    Klaipėda           147   C    D   Estija      Pernu   \n",
       "3  Latvija        Ryga           716   D    E  Lenkija    Varšuva   \n",
       "4  Latvija  Ventspilis            43   E    F  Lenkija  Vroclavas   \n",
       "5  Latvija   Daugpilis           105   F    G  Lenkija   Gdanskas   \n",
       "\n",
       "   Gyventojai_y  \n",
       "0           400  \n",
       "1           101  \n",
       "2            46  \n",
       "3          1688  \n",
       "4           638  \n",
       "5           461  "
      ]
     },
     "execution_count": 212,
     "metadata": {},
     "output_type": "execute_result"
    }
   ],
   "source": [
    "pd.merge(data_main, data_right, on=['key', 'key2'])"
   ]
  },
  {
   "cell_type": "markdown",
   "metadata": {},
   "source": [
    "Matome, kad į parametrą **on** galima perduoti ir daugiau reikšmių, sąraše."
   ]
  },
  {
   "cell_type": "markdown",
   "metadata": {},
   "source": [
    "Jeigu, pvz. stulpelis 'key2' vienoje lentelėje skiriasi nuo kitos lentelės 'key2' stulpelio:"
   ]
  },
  {
   "cell_type": "code",
   "execution_count": 215,
   "metadata": {
    "tags": []
   },
   "outputs": [],
   "source": [
    "keyX = 'W C D E F W'.split()\n",
    "data_right['key2'] = keyX"
   ]
  },
  {
   "cell_type": "code",
   "execution_count": 216,
   "metadata": {
    "tags": []
   },
   "outputs": [
    {
     "data": {
      "text/html": [
       "<div>\n",
       "<style scoped>\n",
       "    .dataframe tbody tr th:only-of-type {\n",
       "        vertical-align: middle;\n",
       "    }\n",
       "\n",
       "    .dataframe tbody tr th {\n",
       "        vertical-align: top;\n",
       "    }\n",
       "\n",
       "    .dataframe thead th {\n",
       "        text-align: right;\n",
       "    }\n",
       "</style>\n",
       "<table border=\"1\" class=\"dataframe\">\n",
       "  <thead>\n",
       "    <tr style=\"text-align: right;\">\n",
       "      <th></th>\n",
       "      <th>Šalis</th>\n",
       "      <th>Miestas</th>\n",
       "      <th>Gyventojai</th>\n",
       "      <th>key</th>\n",
       "      <th>key2</th>\n",
       "    </tr>\n",
       "  </thead>\n",
       "  <tbody>\n",
       "    <tr>\n",
       "      <th>0</th>\n",
       "      <td>Estija</td>\n",
       "      <td>Talinas</td>\n",
       "      <td>400</td>\n",
       "      <td>A</td>\n",
       "      <td>W</td>\n",
       "    </tr>\n",
       "    <tr>\n",
       "      <th>1</th>\n",
       "      <td>Estija</td>\n",
       "      <td>Tartu</td>\n",
       "      <td>101</td>\n",
       "      <td>B</td>\n",
       "      <td>C</td>\n",
       "    </tr>\n",
       "    <tr>\n",
       "      <th>2</th>\n",
       "      <td>Estija</td>\n",
       "      <td>Pernu</td>\n",
       "      <td>46</td>\n",
       "      <td>C</td>\n",
       "      <td>D</td>\n",
       "    </tr>\n",
       "    <tr>\n",
       "      <th>3</th>\n",
       "      <td>Lenkija</td>\n",
       "      <td>Varšuva</td>\n",
       "      <td>1688</td>\n",
       "      <td>D</td>\n",
       "      <td>E</td>\n",
       "    </tr>\n",
       "    <tr>\n",
       "      <th>4</th>\n",
       "      <td>Lenkija</td>\n",
       "      <td>Vroclavas</td>\n",
       "      <td>638</td>\n",
       "      <td>E</td>\n",
       "      <td>F</td>\n",
       "    </tr>\n",
       "    <tr>\n",
       "      <th>5</th>\n",
       "      <td>Lenkija</td>\n",
       "      <td>Gdanskas</td>\n",
       "      <td>461</td>\n",
       "      <td>F</td>\n",
       "      <td>W</td>\n",
       "    </tr>\n",
       "  </tbody>\n",
       "</table>\n",
       "</div>"
      ],
      "text/plain": [
       "     Šalis    Miestas  Gyventojai key key2\n",
       "0   Estija    Talinas         400   A    W\n",
       "1   Estija      Tartu         101   B    C\n",
       "2   Estija      Pernu          46   C    D\n",
       "3  Lenkija    Varšuva        1688   D    E\n",
       "4  Lenkija  Vroclavas         638   E    F\n",
       "5  Lenkija   Gdanskas         461   F    W"
      ]
     },
     "execution_count": 216,
     "metadata": {},
     "output_type": "execute_result"
    }
   ],
   "source": [
    "data_right"
   ]
  },
  {
   "cell_type": "code",
   "execution_count": 217,
   "metadata": {
    "tags": []
   },
   "outputs": [
    {
     "data": {
      "text/html": [
       "<div>\n",
       "<style scoped>\n",
       "    .dataframe tbody tr th:only-of-type {\n",
       "        vertical-align: middle;\n",
       "    }\n",
       "\n",
       "    .dataframe tbody tr th {\n",
       "        vertical-align: top;\n",
       "    }\n",
       "\n",
       "    .dataframe thead th {\n",
       "        text-align: right;\n",
       "    }\n",
       "</style>\n",
       "<table border=\"1\" class=\"dataframe\">\n",
       "  <thead>\n",
       "    <tr style=\"text-align: right;\">\n",
       "      <th></th>\n",
       "      <th>Šalis_x</th>\n",
       "      <th>Miestas_x</th>\n",
       "      <th>Gyventojai_x</th>\n",
       "      <th>key</th>\n",
       "      <th>key2</th>\n",
       "      <th>Šalis_y</th>\n",
       "      <th>Miestas_y</th>\n",
       "      <th>Gyventojai_y</th>\n",
       "    </tr>\n",
       "  </thead>\n",
       "  <tbody>\n",
       "    <tr>\n",
       "      <th>0</th>\n",
       "      <td>Lietuva</td>\n",
       "      <td>Kaunas</td>\n",
       "      <td>287</td>\n",
       "      <td>B</td>\n",
       "      <td>C</td>\n",
       "      <td>Estija</td>\n",
       "      <td>Tartu</td>\n",
       "      <td>101</td>\n",
       "    </tr>\n",
       "    <tr>\n",
       "      <th>1</th>\n",
       "      <td>Lietuva</td>\n",
       "      <td>Klaipėda</td>\n",
       "      <td>147</td>\n",
       "      <td>C</td>\n",
       "      <td>D</td>\n",
       "      <td>Estija</td>\n",
       "      <td>Pernu</td>\n",
       "      <td>46</td>\n",
       "    </tr>\n",
       "    <tr>\n",
       "      <th>2</th>\n",
       "      <td>Latvija</td>\n",
       "      <td>Ryga</td>\n",
       "      <td>716</td>\n",
       "      <td>D</td>\n",
       "      <td>E</td>\n",
       "      <td>Lenkija</td>\n",
       "      <td>Varšuva</td>\n",
       "      <td>1688</td>\n",
       "    </tr>\n",
       "    <tr>\n",
       "      <th>3</th>\n",
       "      <td>Latvija</td>\n",
       "      <td>Ventspilis</td>\n",
       "      <td>43</td>\n",
       "      <td>E</td>\n",
       "      <td>F</td>\n",
       "      <td>Lenkija</td>\n",
       "      <td>Vroclavas</td>\n",
       "      <td>638</td>\n",
       "    </tr>\n",
       "  </tbody>\n",
       "</table>\n",
       "</div>"
      ],
      "text/plain": [
       "   Šalis_x   Miestas_x  Gyventojai_x key key2  Šalis_y  Miestas_y  \\\n",
       "0  Lietuva      Kaunas           287   B    C   Estija      Tartu   \n",
       "1  Lietuva    Klaipėda           147   C    D   Estija      Pernu   \n",
       "2  Latvija        Ryga           716   D    E  Lenkija    Varšuva   \n",
       "3  Latvija  Ventspilis            43   E    F  Lenkija  Vroclavas   \n",
       "\n",
       "   Gyventojai_y  \n",
       "0           101  \n",
       "1            46  \n",
       "2          1688  \n",
       "3           638  "
      ]
     },
     "execution_count": 217,
     "metadata": {},
     "output_type": "execute_result"
    }
   ],
   "source": [
    "pd.merge(data_main, data_right, on=['key', 'key2'])"
   ]
  },
  {
   "cell_type": "markdown",
   "metadata": {},
   "source": [
    "...gauname tik tas eilutes, kuriose 'key2' reikšmių sekos dalis sutampa."
   ]
  },
  {
   "cell_type": "markdown",
   "metadata": {},
   "source": [
    "Yra ir metodas **.join()**. Jis daro tą patį, ką ir merge, tik indekso pagrindu. Pvz.:"
   ]
  },
  {
   "cell_type": "code",
   "execution_count": 218,
   "metadata": {
    "tags": []
   },
   "outputs": [
    {
     "data": {
      "text/html": [
       "<div>\n",
       "<style scoped>\n",
       "    .dataframe tbody tr th:only-of-type {\n",
       "        vertical-align: middle;\n",
       "    }\n",
       "\n",
       "    .dataframe tbody tr th {\n",
       "        vertical-align: top;\n",
       "    }\n",
       "\n",
       "    .dataframe thead th {\n",
       "        text-align: right;\n",
       "    }\n",
       "</style>\n",
       "<table border=\"1\" class=\"dataframe\">\n",
       "  <thead>\n",
       "    <tr style=\"text-align: right;\">\n",
       "      <th></th>\n",
       "      <th>ŠalisL</th>\n",
       "      <th>MiestasL</th>\n",
       "      <th>GyventojaiL</th>\n",
       "      <th>keyL</th>\n",
       "      <th>key2L</th>\n",
       "      <th>ŠalisR</th>\n",
       "      <th>MiestasR</th>\n",
       "      <th>GyventojaiR</th>\n",
       "      <th>keyR</th>\n",
       "      <th>key2R</th>\n",
       "    </tr>\n",
       "  </thead>\n",
       "  <tbody>\n",
       "    <tr>\n",
       "      <th>0</th>\n",
       "      <td>Lietuva</td>\n",
       "      <td>Vilnius</td>\n",
       "      <td>541</td>\n",
       "      <td>A</td>\n",
       "      <td>B</td>\n",
       "      <td>Estija</td>\n",
       "      <td>Talinas</td>\n",
       "      <td>400</td>\n",
       "      <td>A</td>\n",
       "      <td>W</td>\n",
       "    </tr>\n",
       "    <tr>\n",
       "      <th>1</th>\n",
       "      <td>Lietuva</td>\n",
       "      <td>Kaunas</td>\n",
       "      <td>287</td>\n",
       "      <td>B</td>\n",
       "      <td>C</td>\n",
       "      <td>Estija</td>\n",
       "      <td>Tartu</td>\n",
       "      <td>101</td>\n",
       "      <td>B</td>\n",
       "      <td>C</td>\n",
       "    </tr>\n",
       "    <tr>\n",
       "      <th>2</th>\n",
       "      <td>Lietuva</td>\n",
       "      <td>Klaipėda</td>\n",
       "      <td>147</td>\n",
       "      <td>C</td>\n",
       "      <td>D</td>\n",
       "      <td>Estija</td>\n",
       "      <td>Pernu</td>\n",
       "      <td>46</td>\n",
       "      <td>C</td>\n",
       "      <td>D</td>\n",
       "    </tr>\n",
       "    <tr>\n",
       "      <th>3</th>\n",
       "      <td>Latvija</td>\n",
       "      <td>Ryga</td>\n",
       "      <td>716</td>\n",
       "      <td>D</td>\n",
       "      <td>E</td>\n",
       "      <td>Lenkija</td>\n",
       "      <td>Varšuva</td>\n",
       "      <td>1688</td>\n",
       "      <td>D</td>\n",
       "      <td>E</td>\n",
       "    </tr>\n",
       "    <tr>\n",
       "      <th>4</th>\n",
       "      <td>Latvija</td>\n",
       "      <td>Ventspilis</td>\n",
       "      <td>43</td>\n",
       "      <td>E</td>\n",
       "      <td>F</td>\n",
       "      <td>Lenkija</td>\n",
       "      <td>Vroclavas</td>\n",
       "      <td>638</td>\n",
       "      <td>E</td>\n",
       "      <td>F</td>\n",
       "    </tr>\n",
       "    <tr>\n",
       "      <th>5</th>\n",
       "      <td>Latvija</td>\n",
       "      <td>Daugpilis</td>\n",
       "      <td>105</td>\n",
       "      <td>F</td>\n",
       "      <td>G</td>\n",
       "      <td>Lenkija</td>\n",
       "      <td>Gdanskas</td>\n",
       "      <td>461</td>\n",
       "      <td>F</td>\n",
       "      <td>W</td>\n",
       "    </tr>\n",
       "  </tbody>\n",
       "</table>\n",
       "</div>"
      ],
      "text/plain": [
       "    ŠalisL    MiestasL  GyventojaiL keyL key2L   ŠalisR   MiestasR  \\\n",
       "0  Lietuva     Vilnius          541    A     B   Estija    Talinas   \n",
       "1  Lietuva      Kaunas          287    B     C   Estija      Tartu   \n",
       "2  Lietuva    Klaipėda          147    C     D   Estija      Pernu   \n",
       "3  Latvija        Ryga          716    D     E  Lenkija    Varšuva   \n",
       "4  Latvija  Ventspilis           43    E     F  Lenkija  Vroclavas   \n",
       "5  Latvija   Daugpilis          105    F     G  Lenkija   Gdanskas   \n",
       "\n",
       "   GyventojaiR keyR key2R  \n",
       "0          400    A     W  \n",
       "1          101    B     C  \n",
       "2           46    C     D  \n",
       "3         1688    D     E  \n",
       "4          638    E     F  \n",
       "5          461    F     W  "
      ]
     },
     "execution_count": 218,
     "metadata": {},
     "output_type": "execute_result"
    }
   ],
   "source": [
    "data_main.join(data_right, lsuffix='L', rsuffix='R')"
   ]
  },
  {
   "cell_type": "markdown",
   "metadata": {},
   "source": [
    "Kadangi sutampa stulpelių pavadinimai, teko nurodyti lsuffix ir rsuffix. Jeigu indeksas nebūtų identiškas, rezultate gautumėm tik tas eilutes, kurių indeksas persidengia. Dažniausiai vis tik naudosime **.merge()**"
   ]
  }
 ],
 "metadata": {
  "kernelspec": {
   "display_name": "Python 3 (ipykernel)",
   "language": "python",
   "name": "python3"
  },
  "language_info": {
   "codemirror_mode": {
    "name": "ipython",
    "version": 3
   },
   "file_extension": ".py",
   "mimetype": "text/x-python",
   "name": "python",
   "nbconvert_exporter": "python",
   "pygments_lexer": "ipython3",
   "version": "3.10.8"
  }
 },
 "nbformat": 4,
 "nbformat_minor": 4
}
