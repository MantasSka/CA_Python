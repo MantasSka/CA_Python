{
 "cells": [
  {
   "cell_type": "markdown",
   "id": "627c4fc1",
   "metadata": {},
   "source": [
    "# Pandas 1\n",
    "\n",
    "Pandas yra duomenų analizės biblioteka, sukurta NumPy pagrindu. Pandas yra pagrindinis įrankis Python aplinkoje, skirtas duomenų analizei, išvalymui ir paruošimui. Pandas pasižymi sparta ir produktyvumu. Galima dirbti su duomenimis iš įvairių šaltinių.\n",
    "\n",
    "Pandas diegiasi conda install pandas arba pip install pandas"
   ]
  },
  {
   "cell_type": "code",
   "execution_count": 300,
   "id": "c7f56b99",
   "metadata": {},
   "outputs": [],
   "source": [
    "import pandas as pd\n",
    "import numpy as np"
   ]
  },
  {
   "cell_type": "markdown",
   "id": "b20e922c",
   "metadata": {},
   "source": [
    "# Serijos\n",
    "\n",
    "Serijos (Series) yra smulkus pandas duomenų darinys, sukurtas ant NumPy array pagrindo. "
   ]
  },
  {
   "cell_type": "code",
   "execution_count": 301,
   "id": "f5629a0b",
   "metadata": {},
   "outputs": [
    {
     "data": {
      "text/plain": [
       "0    20\n",
       "1    30\n",
       "2    40\n",
       "dtype: int64"
      ]
     },
     "execution_count": 301,
     "metadata": {},
     "output_type": "execute_result"
    }
   ],
   "source": [
    "labels = ['x', 'y', 'z']\n",
    "data = [20, 30, 40]\n",
    "pd.Series(data=data)"
   ]
  },
  {
   "cell_type": "markdown",
   "id": "4ec8502b",
   "metadata": {},
   "source": [
    "Matyti, kad nuo įprastų masyvų, pandas serija skiriasi tuo, kad turi indeksaciją. Vienas iš parametrų, kuriuos galime perduoti kurdami seriją yra index."
   ]
  },
  {
   "cell_type": "code",
   "execution_count": 302,
   "id": "36068d0a",
   "metadata": {},
   "outputs": [
    {
     "data": {
      "text/plain": [
       "x    20\n",
       "y    30\n",
       "z    40\n",
       "dtype: int64"
      ]
     },
     "execution_count": 302,
     "metadata": {},
     "output_type": "execute_result"
    }
   ],
   "source": [
    "pd.Series(data=data, index=labels)\n"
   ]
  },
  {
   "cell_type": "markdown",
   "id": "a83d31ef",
   "metadata": {},
   "source": [
    "Pandas series galima kurti ir su python žodynais:\n",
    "\n"
   ]
  },
  {
   "cell_type": "code",
   "execution_count": 303,
   "id": "6757638a",
   "metadata": {},
   "outputs": [
    {
     "data": {
      "text/plain": [
       "x    20\n",
       "y    30\n",
       "z    40\n",
       "dtype: int64"
      ]
     },
     "execution_count": 303,
     "metadata": {},
     "output_type": "execute_result"
    }
   ],
   "source": [
    "zodynas = {'x':20, 'y':30, 'z':40}\n",
    "pd.Series(zodynas)"
   ]
  },
  {
   "cell_type": "markdown",
   "id": "9d607a94",
   "metadata": {},
   "source": [
    "#### Reikšmės traukimas iš serijos"
   ]
  },
  {
   "cell_type": "code",
   "execution_count": 304,
   "id": "70b9f0e9",
   "metadata": {},
   "outputs": [],
   "source": [
    "serija = pd.Series(data=[1,2,3,4,5], index=['Vilnius', 'Kaunas', 'Klaipėda', 'Panevėžys', 'Šiauliai'])"
   ]
  },
  {
   "cell_type": "code",
   "execution_count": 305,
   "id": "740c81c1",
   "metadata": {},
   "outputs": [
    {
     "data": {
      "text/plain": [
       "Vilnius      1\n",
       "Kaunas       2\n",
       "Klaipėda     3\n",
       "Panevėžys    4\n",
       "Šiauliai     5\n",
       "dtype: int64"
      ]
     },
     "execution_count": 305,
     "metadata": {},
     "output_type": "execute_result"
    }
   ],
   "source": [
    "serija"
   ]
  },
  {
   "cell_type": "code",
   "execution_count": 306,
   "id": "8ab3ac8c",
   "metadata": {},
   "outputs": [
    {
     "data": {
      "text/plain": [
       "1"
      ]
     },
     "execution_count": 306,
     "metadata": {},
     "output_type": "execute_result"
    }
   ],
   "source": [
    "serija[\"Vilnius\"]"
   ]
  },
  {
   "cell_type": "markdown",
   "id": "c8ffaa13",
   "metadata": {},
   "source": [
    "#### Operacijos su serijomis"
   ]
  },
  {
   "cell_type": "code",
   "execution_count": 307,
   "id": "6e8a4f8c",
   "metadata": {},
   "outputs": [],
   "source": [
    "serija2 = pd.Series([1,2,3,4,5], ['Vilnius', 'Kaunas', 'Lentvaris', 'Šiauliai', 'Klaipėda'])"
   ]
  },
  {
   "cell_type": "code",
   "execution_count": 308,
   "id": "01a4105c",
   "metadata": {},
   "outputs": [
    {
     "data": {
      "text/plain": [
       "Vilnius      1\n",
       "Kaunas       2\n",
       "Lentvaris    3\n",
       "Šiauliai     4\n",
       "Klaipėda     5\n",
       "dtype: int64"
      ]
     },
     "execution_count": 308,
     "metadata": {},
     "output_type": "execute_result"
    }
   ],
   "source": [
    "serija2"
   ]
  },
  {
   "cell_type": "markdown",
   "id": "52cedb46",
   "metadata": {},
   "source": [
    "naudojant sudėtį, pandas pagal galimybes bandys sumuoti reikšmes:"
   ]
  },
  {
   "cell_type": "code",
   "execution_count": 309,
   "id": "a38cee82",
   "metadata": {},
   "outputs": [
    {
     "data": {
      "text/plain": [
       "Kaunas       4.0\n",
       "Klaipėda     8.0\n",
       "Lentvaris    NaN\n",
       "Panevėžys    NaN\n",
       "Vilnius      2.0\n",
       "Šiauliai     9.0\n",
       "dtype: float64"
      ]
     },
     "execution_count": 309,
     "metadata": {},
     "output_type": "execute_result"
    }
   ],
   "source": [
    "serija + serija2"
   ]
  },
  {
   "cell_type": "markdown",
   "id": "de9b4634",
   "metadata": {},
   "source": [
    "Ten, kur pandos negalėjo atlikti sudėties veiksmo, sugeneravo NaN - not a number. Tiek Pandas, tiek NumPy mėgsta integer reikšmes versti į float, kad išlaikytų kiek įmanoma tikslesnę informaciją.\n",
    "\n",
    "Galime atlikti ir kitas operacijas:"
   ]
  },
  {
   "cell_type": "code",
   "execution_count": 310,
   "id": "33b00eb5",
   "metadata": {},
   "outputs": [
    {
     "data": {
      "text/plain": [
       "Kaunas       0.0\n",
       "Klaipėda    -2.0\n",
       "Lentvaris    NaN\n",
       "Panevėžys    NaN\n",
       "Vilnius      0.0\n",
       "Šiauliai     1.0\n",
       "dtype: float64"
      ]
     },
     "execution_count": 310,
     "metadata": {},
     "output_type": "execute_result"
    }
   ],
   "source": [
    "serija - serija2"
   ]
  },
  {
   "cell_type": "code",
   "execution_count": 311,
   "id": "9edef331",
   "metadata": {},
   "outputs": [
    {
     "data": {
      "text/plain": [
       "Kaunas        4.0\n",
       "Klaipėda     15.0\n",
       "Lentvaris     NaN\n",
       "Panevėžys     NaN\n",
       "Vilnius       1.0\n",
       "Šiauliai     20.0\n",
       "dtype: float64"
      ]
     },
     "execution_count": 311,
     "metadata": {},
     "output_type": "execute_result"
    }
   ],
   "source": [
    "serija * serija2"
   ]
  },
  {
   "cell_type": "code",
   "execution_count": 312,
   "id": "46f469ba",
   "metadata": {},
   "outputs": [
    {
     "data": {
      "text/plain": [
       "Kaunas       1.00\n",
       "Klaipėda     0.60\n",
       "Lentvaris     NaN\n",
       "Panevėžys     NaN\n",
       "Vilnius      1.00\n",
       "Šiauliai     1.25\n",
       "dtype: float64"
      ]
     },
     "execution_count": 312,
     "metadata": {},
     "output_type": "execute_result"
    }
   ],
   "source": [
    "serija / serija2"
   ]
  },
  {
   "cell_type": "markdown",
   "id": "bb4ecb36",
   "metadata": {},
   "source": [
    "# DataFrames\n",
    "\n",
    "DataFrames yra pagrindinis pandas operacijų objektas. Jeigu norime susikurti naują DF, reikia į parametrus perduoti data, index, columns:\n",
    "\n"
   ]
  },
  {
   "cell_type": "code",
   "execution_count": 313,
   "id": "043d7e4c",
   "metadata": {},
   "outputs": [
    {
     "data": {
      "text/html": [
       "<div>\n",
       "<style scoped>\n",
       "    .dataframe tbody tr th:only-of-type {\n",
       "        vertical-align: middle;\n",
       "    }\n",
       "\n",
       "    .dataframe tbody tr th {\n",
       "        vertical-align: top;\n",
       "    }\n",
       "\n",
       "    .dataframe thead th {\n",
       "        text-align: right;\n",
       "    }\n",
       "</style>\n",
       "<table border=\"1\" class=\"dataframe\">\n",
       "  <thead>\n",
       "    <tr style=\"text-align: right;\">\n",
       "      <th></th>\n",
       "      <th>U</th>\n",
       "      <th>V</th>\n",
       "      <th>W</th>\n",
       "      <th>X</th>\n",
       "      <th>Y</th>\n",
       "      <th>Z</th>\n",
       "    </tr>\n",
       "  </thead>\n",
       "  <tbody>\n",
       "    <tr>\n",
       "      <th>a</th>\n",
       "      <td>0.975097</td>\n",
       "      <td>0.908093</td>\n",
       "      <td>0.336792</td>\n",
       "      <td>0.594996</td>\n",
       "      <td>0.172400</td>\n",
       "      <td>0.819233</td>\n",
       "    </tr>\n",
       "    <tr>\n",
       "      <th>b</th>\n",
       "      <td>0.583449</td>\n",
       "      <td>0.984551</td>\n",
       "      <td>0.803541</td>\n",
       "      <td>0.694863</td>\n",
       "      <td>0.959989</td>\n",
       "      <td>0.511862</td>\n",
       "    </tr>\n",
       "    <tr>\n",
       "      <th>c</th>\n",
       "      <td>0.600700</td>\n",
       "      <td>0.275267</td>\n",
       "      <td>0.312654</td>\n",
       "      <td>0.015492</td>\n",
       "      <td>0.890436</td>\n",
       "      <td>0.506157</td>\n",
       "    </tr>\n",
       "    <tr>\n",
       "      <th>d</th>\n",
       "      <td>0.772712</td>\n",
       "      <td>0.159734</td>\n",
       "      <td>0.313451</td>\n",
       "      <td>0.293376</td>\n",
       "      <td>0.992515</td>\n",
       "      <td>0.069996</td>\n",
       "    </tr>\n",
       "    <tr>\n",
       "      <th>e</th>\n",
       "      <td>0.404471</td>\n",
       "      <td>0.261135</td>\n",
       "      <td>0.286117</td>\n",
       "      <td>0.621187</td>\n",
       "      <td>0.044638</td>\n",
       "      <td>0.721126</td>\n",
       "    </tr>\n",
       "  </tbody>\n",
       "</table>\n",
       "</div>"
      ],
      "text/plain": [
       "          U         V         W         X         Y         Z\n",
       "a  0.975097  0.908093  0.336792  0.594996  0.172400  0.819233\n",
       "b  0.583449  0.984551  0.803541  0.694863  0.959989  0.511862\n",
       "c  0.600700  0.275267  0.312654  0.015492  0.890436  0.506157\n",
       "d  0.772712  0.159734  0.313451  0.293376  0.992515  0.069996\n",
       "e  0.404471  0.261135  0.286117  0.621187  0.044638  0.721126"
      ]
     },
     "execution_count": 313,
     "metadata": {},
     "output_type": "execute_result"
    }
   ],
   "source": [
    "df = pd.DataFrame(np.random.rand(5,6), \n",
    "                  ['a', 'b', 'c', 'd', 'e'], \n",
    "                  ['U', 'V', 'W', 'X', 'Y', 'Z'])\n",
    "df"
   ]
  },
  {
   "cell_type": "markdown",
   "id": "d2c3bc45",
   "metadata": {},
   "source": [
    "Kiekvienas stulpelis yra pandas serija, jos tarpusavyje dalijasi indeksais (a, b, c, d, e), pvz.:\n",
    "\n"
   ]
  },
  {
   "cell_type": "code",
   "execution_count": 314,
   "id": "5f1a8f3e",
   "metadata": {},
   "outputs": [
    {
     "data": {
      "text/plain": [
       "a    0.975097\n",
       "b    0.583449\n",
       "c    0.600700\n",
       "d    0.772712\n",
       "e    0.404471\n",
       "Name: U, dtype: float64"
      ]
     },
     "execution_count": 314,
     "metadata": {},
     "output_type": "execute_result"
    }
   ],
   "source": [
    "df['U']"
   ]
  },
  {
   "cell_type": "code",
   "execution_count": 315,
   "id": "2115dac1",
   "metadata": {},
   "outputs": [
    {
     "data": {
      "text/plain": [
       "pandas.core.series.Series"
      ]
     },
     "execution_count": 315,
     "metadata": {},
     "output_type": "execute_result"
    }
   ],
   "source": [
    "type(df['U'])"
   ]
  },
  {
   "cell_type": "markdown",
   "id": "fdde7e53",
   "metadata": {},
   "source": [
    "Jei norime daugiau stulpelių:"
   ]
  },
  {
   "cell_type": "code",
   "execution_count": 316,
   "id": "8a492aa0",
   "metadata": {},
   "outputs": [
    {
     "data": {
      "text/html": [
       "<div>\n",
       "<style scoped>\n",
       "    .dataframe tbody tr th:only-of-type {\n",
       "        vertical-align: middle;\n",
       "    }\n",
       "\n",
       "    .dataframe tbody tr th {\n",
       "        vertical-align: top;\n",
       "    }\n",
       "\n",
       "    .dataframe thead th {\n",
       "        text-align: right;\n",
       "    }\n",
       "</style>\n",
       "<table border=\"1\" class=\"dataframe\">\n",
       "  <thead>\n",
       "    <tr style=\"text-align: right;\">\n",
       "      <th></th>\n",
       "      <th>U</th>\n",
       "      <th>Y</th>\n",
       "      <th>Z</th>\n",
       "    </tr>\n",
       "  </thead>\n",
       "  <tbody>\n",
       "    <tr>\n",
       "      <th>a</th>\n",
       "      <td>0.975097</td>\n",
       "      <td>0.172400</td>\n",
       "      <td>0.819233</td>\n",
       "    </tr>\n",
       "    <tr>\n",
       "      <th>b</th>\n",
       "      <td>0.583449</td>\n",
       "      <td>0.959989</td>\n",
       "      <td>0.511862</td>\n",
       "    </tr>\n",
       "    <tr>\n",
       "      <th>c</th>\n",
       "      <td>0.600700</td>\n",
       "      <td>0.890436</td>\n",
       "      <td>0.506157</td>\n",
       "    </tr>\n",
       "    <tr>\n",
       "      <th>d</th>\n",
       "      <td>0.772712</td>\n",
       "      <td>0.992515</td>\n",
       "      <td>0.069996</td>\n",
       "    </tr>\n",
       "    <tr>\n",
       "      <th>e</th>\n",
       "      <td>0.404471</td>\n",
       "      <td>0.044638</td>\n",
       "      <td>0.721126</td>\n",
       "    </tr>\n",
       "  </tbody>\n",
       "</table>\n",
       "</div>"
      ],
      "text/plain": [
       "          U         Y         Z\n",
       "a  0.975097  0.172400  0.819233\n",
       "b  0.583449  0.959989  0.511862\n",
       "c  0.600700  0.890436  0.506157\n",
       "d  0.772712  0.992515  0.069996\n",
       "e  0.404471  0.044638  0.721126"
      ]
     },
     "execution_count": 316,
     "metadata": {},
     "output_type": "execute_result"
    }
   ],
   "source": [
    "df[['U', 'Y', 'Z']]"
   ]
  },
  {
   "cell_type": "markdown",
   "id": "73726bda",
   "metadata": {},
   "source": [
    "Tik reikia turėti omenyje, kad čia jau dataframe, o ne serija"
   ]
  },
  {
   "cell_type": "code",
   "execution_count": 317,
   "id": "a278ffbd",
   "metadata": {},
   "outputs": [
    {
     "data": {
      "text/plain": [
       "pandas.core.frame.DataFrame"
      ]
     },
     "execution_count": 317,
     "metadata": {},
     "output_type": "execute_result"
    }
   ],
   "source": [
    "type(df[['U', 'Y', 'Z']])"
   ]
  },
  {
   "cell_type": "markdown",
   "id": "f46af5b1",
   "metadata": {},
   "source": [
    "#### Naujo stulpelio sukūrimas\n"
   ]
  },
  {
   "cell_type": "code",
   "execution_count": 318,
   "id": "cacf6b53",
   "metadata": {},
   "outputs": [
    {
     "data": {
      "text/html": [
       "<div>\n",
       "<style scoped>\n",
       "    .dataframe tbody tr th:only-of-type {\n",
       "        vertical-align: middle;\n",
       "    }\n",
       "\n",
       "    .dataframe tbody tr th {\n",
       "        vertical-align: top;\n",
       "    }\n",
       "\n",
       "    .dataframe thead th {\n",
       "        text-align: right;\n",
       "    }\n",
       "</style>\n",
       "<table border=\"1\" class=\"dataframe\">\n",
       "  <thead>\n",
       "    <tr style=\"text-align: right;\">\n",
       "      <th></th>\n",
       "      <th>U</th>\n",
       "      <th>V</th>\n",
       "      <th>W</th>\n",
       "      <th>X</th>\n",
       "      <th>Y</th>\n",
       "      <th>Z</th>\n",
       "      <th>naujas</th>\n",
       "    </tr>\n",
       "  </thead>\n",
       "  <tbody>\n",
       "    <tr>\n",
       "      <th>a</th>\n",
       "      <td>0.975097</td>\n",
       "      <td>0.908093</td>\n",
       "      <td>0.336792</td>\n",
       "      <td>0.594996</td>\n",
       "      <td>0.172400</td>\n",
       "      <td>0.819233</td>\n",
       "      <td>1</td>\n",
       "    </tr>\n",
       "    <tr>\n",
       "      <th>b</th>\n",
       "      <td>0.583449</td>\n",
       "      <td>0.984551</td>\n",
       "      <td>0.803541</td>\n",
       "      <td>0.694863</td>\n",
       "      <td>0.959989</td>\n",
       "      <td>0.511862</td>\n",
       "      <td>2</td>\n",
       "    </tr>\n",
       "    <tr>\n",
       "      <th>c</th>\n",
       "      <td>0.600700</td>\n",
       "      <td>0.275267</td>\n",
       "      <td>0.312654</td>\n",
       "      <td>0.015492</td>\n",
       "      <td>0.890436</td>\n",
       "      <td>0.506157</td>\n",
       "      <td>3</td>\n",
       "    </tr>\n",
       "    <tr>\n",
       "      <th>d</th>\n",
       "      <td>0.772712</td>\n",
       "      <td>0.159734</td>\n",
       "      <td>0.313451</td>\n",
       "      <td>0.293376</td>\n",
       "      <td>0.992515</td>\n",
       "      <td>0.069996</td>\n",
       "      <td>4</td>\n",
       "    </tr>\n",
       "    <tr>\n",
       "      <th>e</th>\n",
       "      <td>0.404471</td>\n",
       "      <td>0.261135</td>\n",
       "      <td>0.286117</td>\n",
       "      <td>0.621187</td>\n",
       "      <td>0.044638</td>\n",
       "      <td>0.721126</td>\n",
       "      <td>5</td>\n",
       "    </tr>\n",
       "  </tbody>\n",
       "</table>\n",
       "</div>"
      ],
      "text/plain": [
       "          U         V         W         X         Y         Z  naujas\n",
       "a  0.975097  0.908093  0.336792  0.594996  0.172400  0.819233       1\n",
       "b  0.583449  0.984551  0.803541  0.694863  0.959989  0.511862       2\n",
       "c  0.600700  0.275267  0.312654  0.015492  0.890436  0.506157       3\n",
       "d  0.772712  0.159734  0.313451  0.293376  0.992515  0.069996       4\n",
       "e  0.404471  0.261135  0.286117  0.621187  0.044638  0.721126       5"
      ]
     },
     "execution_count": 318,
     "metadata": {},
     "output_type": "execute_result"
    }
   ],
   "source": [
    "df['naujas'] = [1, 2, 3, 4, 5]\n",
    "df"
   ]
  },
  {
   "cell_type": "markdown",
   "id": "b62ffb29",
   "metadata": {},
   "source": [
    "#### Stulpelio ištrynimas\n",
    "\n"
   ]
  },
  {
   "cell_type": "code",
   "execution_count": 319,
   "id": "27946f46",
   "metadata": {},
   "outputs": [
    {
     "data": {
      "text/html": [
       "<div>\n",
       "<style scoped>\n",
       "    .dataframe tbody tr th:only-of-type {\n",
       "        vertical-align: middle;\n",
       "    }\n",
       "\n",
       "    .dataframe tbody tr th {\n",
       "        vertical-align: top;\n",
       "    }\n",
       "\n",
       "    .dataframe thead th {\n",
       "        text-align: right;\n",
       "    }\n",
       "</style>\n",
       "<table border=\"1\" class=\"dataframe\">\n",
       "  <thead>\n",
       "    <tr style=\"text-align: right;\">\n",
       "      <th></th>\n",
       "      <th>U</th>\n",
       "      <th>V</th>\n",
       "      <th>W</th>\n",
       "      <th>X</th>\n",
       "      <th>Y</th>\n",
       "      <th>Z</th>\n",
       "    </tr>\n",
       "  </thead>\n",
       "  <tbody>\n",
       "    <tr>\n",
       "      <th>a</th>\n",
       "      <td>0.975097</td>\n",
       "      <td>0.908093</td>\n",
       "      <td>0.336792</td>\n",
       "      <td>0.594996</td>\n",
       "      <td>0.172400</td>\n",
       "      <td>0.819233</td>\n",
       "    </tr>\n",
       "    <tr>\n",
       "      <th>b</th>\n",
       "      <td>0.583449</td>\n",
       "      <td>0.984551</td>\n",
       "      <td>0.803541</td>\n",
       "      <td>0.694863</td>\n",
       "      <td>0.959989</td>\n",
       "      <td>0.511862</td>\n",
       "    </tr>\n",
       "    <tr>\n",
       "      <th>c</th>\n",
       "      <td>0.600700</td>\n",
       "      <td>0.275267</td>\n",
       "      <td>0.312654</td>\n",
       "      <td>0.015492</td>\n",
       "      <td>0.890436</td>\n",
       "      <td>0.506157</td>\n",
       "    </tr>\n",
       "    <tr>\n",
       "      <th>d</th>\n",
       "      <td>0.772712</td>\n",
       "      <td>0.159734</td>\n",
       "      <td>0.313451</td>\n",
       "      <td>0.293376</td>\n",
       "      <td>0.992515</td>\n",
       "      <td>0.069996</td>\n",
       "    </tr>\n",
       "    <tr>\n",
       "      <th>e</th>\n",
       "      <td>0.404471</td>\n",
       "      <td>0.261135</td>\n",
       "      <td>0.286117</td>\n",
       "      <td>0.621187</td>\n",
       "      <td>0.044638</td>\n",
       "      <td>0.721126</td>\n",
       "    </tr>\n",
       "  </tbody>\n",
       "</table>\n",
       "</div>"
      ],
      "text/plain": [
       "          U         V         W         X         Y         Z\n",
       "a  0.975097  0.908093  0.336792  0.594996  0.172400  0.819233\n",
       "b  0.583449  0.984551  0.803541  0.694863  0.959989  0.511862\n",
       "c  0.600700  0.275267  0.312654  0.015492  0.890436  0.506157\n",
       "d  0.772712  0.159734  0.313451  0.293376  0.992515  0.069996\n",
       "e  0.404471  0.261135  0.286117  0.621187  0.044638  0.721126"
      ]
     },
     "execution_count": 319,
     "metadata": {},
     "output_type": "execute_result"
    }
   ],
   "source": [
    "df.drop('naujas', axis=1)\n"
   ]
  },
  {
   "cell_type": "markdown",
   "id": "b144fbf3",
   "metadata": {},
   "source": [
    "axis=0 reikštų, kad atliekame veiksmą su eilute. 1 tuo tarpu reiškia stulpelį.\n",
    "\n"
   ]
  },
  {
   "cell_type": "markdown",
   "id": "4d2a80e0",
   "metadata": {},
   "source": [
    "#### Inplace parametras\n",
    "\n"
   ]
  },
  {
   "cell_type": "markdown",
   "id": "3a3f24f0",
   "metadata": {},
   "source": [
    "paskutinis mūsų veiksmas originalaus šaltinio nepakeitė, jeigu dabar išsikviesime df, matysime, kad jis koks buvo, toks ir liko:\n",
    "\n"
   ]
  },
  {
   "cell_type": "code",
   "execution_count": 320,
   "id": "e69a5cbf",
   "metadata": {},
   "outputs": [
    {
     "data": {
      "text/html": [
       "<div>\n",
       "<style scoped>\n",
       "    .dataframe tbody tr th:only-of-type {\n",
       "        vertical-align: middle;\n",
       "    }\n",
       "\n",
       "    .dataframe tbody tr th {\n",
       "        vertical-align: top;\n",
       "    }\n",
       "\n",
       "    .dataframe thead th {\n",
       "        text-align: right;\n",
       "    }\n",
       "</style>\n",
       "<table border=\"1\" class=\"dataframe\">\n",
       "  <thead>\n",
       "    <tr style=\"text-align: right;\">\n",
       "      <th></th>\n",
       "      <th>U</th>\n",
       "      <th>V</th>\n",
       "      <th>W</th>\n",
       "      <th>X</th>\n",
       "      <th>Y</th>\n",
       "      <th>Z</th>\n",
       "      <th>naujas</th>\n",
       "    </tr>\n",
       "  </thead>\n",
       "  <tbody>\n",
       "    <tr>\n",
       "      <th>a</th>\n",
       "      <td>0.975097</td>\n",
       "      <td>0.908093</td>\n",
       "      <td>0.336792</td>\n",
       "      <td>0.594996</td>\n",
       "      <td>0.172400</td>\n",
       "      <td>0.819233</td>\n",
       "      <td>1</td>\n",
       "    </tr>\n",
       "    <tr>\n",
       "      <th>b</th>\n",
       "      <td>0.583449</td>\n",
       "      <td>0.984551</td>\n",
       "      <td>0.803541</td>\n",
       "      <td>0.694863</td>\n",
       "      <td>0.959989</td>\n",
       "      <td>0.511862</td>\n",
       "      <td>2</td>\n",
       "    </tr>\n",
       "    <tr>\n",
       "      <th>c</th>\n",
       "      <td>0.600700</td>\n",
       "      <td>0.275267</td>\n",
       "      <td>0.312654</td>\n",
       "      <td>0.015492</td>\n",
       "      <td>0.890436</td>\n",
       "      <td>0.506157</td>\n",
       "      <td>3</td>\n",
       "    </tr>\n",
       "    <tr>\n",
       "      <th>d</th>\n",
       "      <td>0.772712</td>\n",
       "      <td>0.159734</td>\n",
       "      <td>0.313451</td>\n",
       "      <td>0.293376</td>\n",
       "      <td>0.992515</td>\n",
       "      <td>0.069996</td>\n",
       "      <td>4</td>\n",
       "    </tr>\n",
       "    <tr>\n",
       "      <th>e</th>\n",
       "      <td>0.404471</td>\n",
       "      <td>0.261135</td>\n",
       "      <td>0.286117</td>\n",
       "      <td>0.621187</td>\n",
       "      <td>0.044638</td>\n",
       "      <td>0.721126</td>\n",
       "      <td>5</td>\n",
       "    </tr>\n",
       "  </tbody>\n",
       "</table>\n",
       "</div>"
      ],
      "text/plain": [
       "          U         V         W         X         Y         Z  naujas\n",
       "a  0.975097  0.908093  0.336792  0.594996  0.172400  0.819233       1\n",
       "b  0.583449  0.984551  0.803541  0.694863  0.959989  0.511862       2\n",
       "c  0.600700  0.275267  0.312654  0.015492  0.890436  0.506157       3\n",
       "d  0.772712  0.159734  0.313451  0.293376  0.992515  0.069996       4\n",
       "e  0.404471  0.261135  0.286117  0.621187  0.044638  0.721126       5"
      ]
     },
     "execution_count": 320,
     "metadata": {},
     "output_type": "execute_result"
    }
   ],
   "source": [
    "df"
   ]
  },
  {
   "cell_type": "markdown",
   "id": "7ab1abd4",
   "metadata": {},
   "source": [
    "df funkcijos (pvz: df drop) paties dataframe'o nekeičia, o tik grąžina atnaujintą informaciją.\n",
    "\n",
    "Tai reikia arba išsaugoti į kitą kintamąjį:\n",
    "\n"
   ]
  },
  {
   "cell_type": "code",
   "execution_count": 321,
   "id": "122404a7",
   "metadata": {},
   "outputs": [
    {
     "data": {
      "text/html": [
       "<div>\n",
       "<style scoped>\n",
       "    .dataframe tbody tr th:only-of-type {\n",
       "        vertical-align: middle;\n",
       "    }\n",
       "\n",
       "    .dataframe tbody tr th {\n",
       "        vertical-align: top;\n",
       "    }\n",
       "\n",
       "    .dataframe thead th {\n",
       "        text-align: right;\n",
       "    }\n",
       "</style>\n",
       "<table border=\"1\" class=\"dataframe\">\n",
       "  <thead>\n",
       "    <tr style=\"text-align: right;\">\n",
       "      <th></th>\n",
       "      <th>U</th>\n",
       "      <th>V</th>\n",
       "      <th>W</th>\n",
       "      <th>X</th>\n",
       "      <th>Y</th>\n",
       "      <th>Z</th>\n",
       "    </tr>\n",
       "  </thead>\n",
       "  <tbody>\n",
       "    <tr>\n",
       "      <th>a</th>\n",
       "      <td>0.975097</td>\n",
       "      <td>0.908093</td>\n",
       "      <td>0.336792</td>\n",
       "      <td>0.594996</td>\n",
       "      <td>0.172400</td>\n",
       "      <td>0.819233</td>\n",
       "    </tr>\n",
       "    <tr>\n",
       "      <th>b</th>\n",
       "      <td>0.583449</td>\n",
       "      <td>0.984551</td>\n",
       "      <td>0.803541</td>\n",
       "      <td>0.694863</td>\n",
       "      <td>0.959989</td>\n",
       "      <td>0.511862</td>\n",
       "    </tr>\n",
       "    <tr>\n",
       "      <th>c</th>\n",
       "      <td>0.600700</td>\n",
       "      <td>0.275267</td>\n",
       "      <td>0.312654</td>\n",
       "      <td>0.015492</td>\n",
       "      <td>0.890436</td>\n",
       "      <td>0.506157</td>\n",
       "    </tr>\n",
       "    <tr>\n",
       "      <th>d</th>\n",
       "      <td>0.772712</td>\n",
       "      <td>0.159734</td>\n",
       "      <td>0.313451</td>\n",
       "      <td>0.293376</td>\n",
       "      <td>0.992515</td>\n",
       "      <td>0.069996</td>\n",
       "    </tr>\n",
       "    <tr>\n",
       "      <th>e</th>\n",
       "      <td>0.404471</td>\n",
       "      <td>0.261135</td>\n",
       "      <td>0.286117</td>\n",
       "      <td>0.621187</td>\n",
       "      <td>0.044638</td>\n",
       "      <td>0.721126</td>\n",
       "    </tr>\n",
       "  </tbody>\n",
       "</table>\n",
       "</div>"
      ],
      "text/plain": [
       "          U         V         W         X         Y         Z\n",
       "a  0.975097  0.908093  0.336792  0.594996  0.172400  0.819233\n",
       "b  0.583449  0.984551  0.803541  0.694863  0.959989  0.511862\n",
       "c  0.600700  0.275267  0.312654  0.015492  0.890436  0.506157\n",
       "d  0.772712  0.159734  0.313451  0.293376  0.992515  0.069996\n",
       "e  0.404471  0.261135  0.286117  0.621187  0.044638  0.721126"
      ]
     },
     "execution_count": 321,
     "metadata": {},
     "output_type": "execute_result"
    }
   ],
   "source": [
    "df2 = df.drop('naujas', axis=1)\n",
    "df2"
   ]
  },
  {
   "cell_type": "markdown",
   "id": "38172146",
   "metadata": {},
   "source": [
    "\n",
    "\n",
    "arba, jeigu norime pakeisti originalą, turime nurodyti parametrą inplace=True:"
   ]
  },
  {
   "cell_type": "code",
   "execution_count": 322,
   "id": "20a2ec36",
   "metadata": {},
   "outputs": [
    {
     "data": {
      "text/html": [
       "<div>\n",
       "<style scoped>\n",
       "    .dataframe tbody tr th:only-of-type {\n",
       "        vertical-align: middle;\n",
       "    }\n",
       "\n",
       "    .dataframe tbody tr th {\n",
       "        vertical-align: top;\n",
       "    }\n",
       "\n",
       "    .dataframe thead th {\n",
       "        text-align: right;\n",
       "    }\n",
       "</style>\n",
       "<table border=\"1\" class=\"dataframe\">\n",
       "  <thead>\n",
       "    <tr style=\"text-align: right;\">\n",
       "      <th></th>\n",
       "      <th>U</th>\n",
       "      <th>V</th>\n",
       "      <th>W</th>\n",
       "      <th>X</th>\n",
       "      <th>Y</th>\n",
       "      <th>Z</th>\n",
       "    </tr>\n",
       "  </thead>\n",
       "  <tbody>\n",
       "    <tr>\n",
       "      <th>a</th>\n",
       "      <td>0.975097</td>\n",
       "      <td>0.908093</td>\n",
       "      <td>0.336792</td>\n",
       "      <td>0.594996</td>\n",
       "      <td>0.172400</td>\n",
       "      <td>0.819233</td>\n",
       "    </tr>\n",
       "    <tr>\n",
       "      <th>b</th>\n",
       "      <td>0.583449</td>\n",
       "      <td>0.984551</td>\n",
       "      <td>0.803541</td>\n",
       "      <td>0.694863</td>\n",
       "      <td>0.959989</td>\n",
       "      <td>0.511862</td>\n",
       "    </tr>\n",
       "    <tr>\n",
       "      <th>c</th>\n",
       "      <td>0.600700</td>\n",
       "      <td>0.275267</td>\n",
       "      <td>0.312654</td>\n",
       "      <td>0.015492</td>\n",
       "      <td>0.890436</td>\n",
       "      <td>0.506157</td>\n",
       "    </tr>\n",
       "    <tr>\n",
       "      <th>d</th>\n",
       "      <td>0.772712</td>\n",
       "      <td>0.159734</td>\n",
       "      <td>0.313451</td>\n",
       "      <td>0.293376</td>\n",
       "      <td>0.992515</td>\n",
       "      <td>0.069996</td>\n",
       "    </tr>\n",
       "    <tr>\n",
       "      <th>e</th>\n",
       "      <td>0.404471</td>\n",
       "      <td>0.261135</td>\n",
       "      <td>0.286117</td>\n",
       "      <td>0.621187</td>\n",
       "      <td>0.044638</td>\n",
       "      <td>0.721126</td>\n",
       "    </tr>\n",
       "  </tbody>\n",
       "</table>\n",
       "</div>"
      ],
      "text/plain": [
       "          U         V         W         X         Y         Z\n",
       "a  0.975097  0.908093  0.336792  0.594996  0.172400  0.819233\n",
       "b  0.583449  0.984551  0.803541  0.694863  0.959989  0.511862\n",
       "c  0.600700  0.275267  0.312654  0.015492  0.890436  0.506157\n",
       "d  0.772712  0.159734  0.313451  0.293376  0.992515  0.069996\n",
       "e  0.404471  0.261135  0.286117  0.621187  0.044638  0.721126"
      ]
     },
     "execution_count": 322,
     "metadata": {},
     "output_type": "execute_result"
    }
   ],
   "source": [
    "df.drop('naujas', axis=1, inplace=True)\n",
    "df"
   ]
  },
  {
   "cell_type": "markdown",
   "id": "5c6e54e5",
   "metadata": {},
   "source": [
    "Tai padeda mums, kadangi jeigu inplace nėra True - mes netyčia nesugadiname duomenų"
   ]
  },
  {
   "cell_type": "markdown",
   "id": "3531874f",
   "metadata": {},
   "source": [
    "#### Pabandykime ištrinti eilutę:\n",
    "\n"
   ]
  },
  {
   "cell_type": "code",
   "execution_count": 323,
   "id": "bdd22080",
   "metadata": {},
   "outputs": [
    {
     "data": {
      "text/html": [
       "<div>\n",
       "<style scoped>\n",
       "    .dataframe tbody tr th:only-of-type {\n",
       "        vertical-align: middle;\n",
       "    }\n",
       "\n",
       "    .dataframe tbody tr th {\n",
       "        vertical-align: top;\n",
       "    }\n",
       "\n",
       "    .dataframe thead th {\n",
       "        text-align: right;\n",
       "    }\n",
       "</style>\n",
       "<table border=\"1\" class=\"dataframe\">\n",
       "  <thead>\n",
       "    <tr style=\"text-align: right;\">\n",
       "      <th></th>\n",
       "      <th>U</th>\n",
       "      <th>V</th>\n",
       "      <th>W</th>\n",
       "      <th>X</th>\n",
       "      <th>Y</th>\n",
       "      <th>Z</th>\n",
       "    </tr>\n",
       "  </thead>\n",
       "  <tbody>\n",
       "    <tr>\n",
       "      <th>a</th>\n",
       "      <td>0.975097</td>\n",
       "      <td>0.908093</td>\n",
       "      <td>0.336792</td>\n",
       "      <td>0.594996</td>\n",
       "      <td>0.172400</td>\n",
       "      <td>0.819233</td>\n",
       "    </tr>\n",
       "    <tr>\n",
       "      <th>b</th>\n",
       "      <td>0.583449</td>\n",
       "      <td>0.984551</td>\n",
       "      <td>0.803541</td>\n",
       "      <td>0.694863</td>\n",
       "      <td>0.959989</td>\n",
       "      <td>0.511862</td>\n",
       "    </tr>\n",
       "    <tr>\n",
       "      <th>c</th>\n",
       "      <td>0.600700</td>\n",
       "      <td>0.275267</td>\n",
       "      <td>0.312654</td>\n",
       "      <td>0.015492</td>\n",
       "      <td>0.890436</td>\n",
       "      <td>0.506157</td>\n",
       "    </tr>\n",
       "    <tr>\n",
       "      <th>d</th>\n",
       "      <td>0.772712</td>\n",
       "      <td>0.159734</td>\n",
       "      <td>0.313451</td>\n",
       "      <td>0.293376</td>\n",
       "      <td>0.992515</td>\n",
       "      <td>0.069996</td>\n",
       "    </tr>\n",
       "  </tbody>\n",
       "</table>\n",
       "</div>"
      ],
      "text/plain": [
       "          U         V         W         X         Y         Z\n",
       "a  0.975097  0.908093  0.336792  0.594996  0.172400  0.819233\n",
       "b  0.583449  0.984551  0.803541  0.694863  0.959989  0.511862\n",
       "c  0.600700  0.275267  0.312654  0.015492  0.890436  0.506157\n",
       "d  0.772712  0.159734  0.313451  0.293376  0.992515  0.069996"
      ]
     },
     "execution_count": 323,
     "metadata": {},
     "output_type": "execute_result"
    }
   ],
   "source": [
    "df.drop('e')"
   ]
  },
  {
   "cell_type": "markdown",
   "id": "8a169a7c",
   "metadata": {},
   "source": [
    "trinant eilutę parametro axis=0 nurodyti nebūtina, tai yra default reikšmė"
   ]
  },
  {
   "cell_type": "markdown",
   "id": "bfc91d48",
   "metadata": {},
   "source": [
    "#### Eilučių traukimas\n",
    "\n"
   ]
  },
  {
   "cell_type": "code",
   "execution_count": 324,
   "id": "478e6c29",
   "metadata": {},
   "outputs": [
    {
     "data": {
      "text/plain": [
       "U    0.404471\n",
       "V    0.261135\n",
       "W    0.286117\n",
       "X    0.621187\n",
       "Y    0.044638\n",
       "Z    0.721126\n",
       "Name: e, dtype: float64"
      ]
     },
     "execution_count": 324,
     "metadata": {},
     "output_type": "execute_result"
    }
   ],
   "source": [
    "df.loc['e']"
   ]
  },
  {
   "cell_type": "markdown",
   "id": "8fb135f2",
   "metadata": {},
   "source": [
    "eilutes galime traukti ir pagal indeksą:\n",
    "\n"
   ]
  },
  {
   "cell_type": "code",
   "execution_count": 325,
   "id": "86338ba9",
   "metadata": {},
   "outputs": [
    {
     "data": {
      "text/plain": [
       "U    0.404471\n",
       "V    0.261135\n",
       "W    0.286117\n",
       "X    0.621187\n",
       "Y    0.044638\n",
       "Z    0.721126\n",
       "Name: e, dtype: float64"
      ]
     },
     "execution_count": 325,
     "metadata": {},
     "output_type": "execute_result"
    }
   ],
   "source": [
    "df.iloc[4]"
   ]
  },
  {
   "cell_type": "markdown",
   "id": "12d34c27",
   "metadata": {},
   "source": [
    "#### Subsets"
   ]
  },
  {
   "cell_type": "markdown",
   "id": "8aa37b54",
   "metadata": {},
   "source": [
    "jeigu norime pavienės reikšmės iš lentelės:"
   ]
  },
  {
   "cell_type": "code",
   "execution_count": 326,
   "id": "52f1658c",
   "metadata": {},
   "outputs": [
    {
     "data": {
      "text/plain": [
       "0.6007004101357305"
      ]
     },
     "execution_count": 326,
     "metadata": {},
     "output_type": "execute_result"
    }
   ],
   "source": [
    "df.loc['c', 'U']"
   ]
  },
  {
   "cell_type": "markdown",
   "id": "158d574e",
   "metadata": {},
   "source": [
    "jeigu norime fragmento iš eilučių ir stulpelių (subset):"
   ]
  },
  {
   "cell_type": "code",
   "execution_count": 327,
   "id": "8acca49c",
   "metadata": {},
   "outputs": [
    {
     "data": {
      "text/html": [
       "<div>\n",
       "<style scoped>\n",
       "    .dataframe tbody tr th:only-of-type {\n",
       "        vertical-align: middle;\n",
       "    }\n",
       "\n",
       "    .dataframe tbody tr th {\n",
       "        vertical-align: top;\n",
       "    }\n",
       "\n",
       "    .dataframe thead th {\n",
       "        text-align: right;\n",
       "    }\n",
       "</style>\n",
       "<table border=\"1\" class=\"dataframe\">\n",
       "  <thead>\n",
       "    <tr style=\"text-align: right;\">\n",
       "      <th></th>\n",
       "      <th>U</th>\n",
       "      <th>V</th>\n",
       "      <th>Z</th>\n",
       "    </tr>\n",
       "  </thead>\n",
       "  <tbody>\n",
       "    <tr>\n",
       "      <th>a</th>\n",
       "      <td>0.975097</td>\n",
       "      <td>0.908093</td>\n",
       "      <td>0.819233</td>\n",
       "    </tr>\n",
       "    <tr>\n",
       "      <th>c</th>\n",
       "      <td>0.600700</td>\n",
       "      <td>0.275267</td>\n",
       "      <td>0.506157</td>\n",
       "    </tr>\n",
       "  </tbody>\n",
       "</table>\n",
       "</div>"
      ],
      "text/plain": [
       "          U         V         Z\n",
       "a  0.975097  0.908093  0.819233\n",
       "c  0.600700  0.275267  0.506157"
      ]
     },
     "execution_count": 327,
     "metadata": {},
     "output_type": "execute_result"
    }
   ],
   "source": [
    "df.loc[['a', 'c'], ['U', 'V', 'Z']]"
   ]
  },
  {
   "cell_type": "markdown",
   "id": "3914ea22",
   "metadata": {},
   "source": [
    "#### Duomenų traukimas pagal sąlygą:\n",
    "\n",
    "duomenų traukimas pagal sąlygą yra labai panašus, kaip ir numPy:\n",
    "\n"
   ]
  },
  {
   "cell_type": "code",
   "execution_count": 328,
   "id": "c8d71523",
   "metadata": {},
   "outputs": [
    {
     "data": {
      "text/html": [
       "<div>\n",
       "<style scoped>\n",
       "    .dataframe tbody tr th:only-of-type {\n",
       "        vertical-align: middle;\n",
       "    }\n",
       "\n",
       "    .dataframe tbody tr th {\n",
       "        vertical-align: top;\n",
       "    }\n",
       "\n",
       "    .dataframe thead th {\n",
       "        text-align: right;\n",
       "    }\n",
       "</style>\n",
       "<table border=\"1\" class=\"dataframe\">\n",
       "  <thead>\n",
       "    <tr style=\"text-align: right;\">\n",
       "      <th></th>\n",
       "      <th>U</th>\n",
       "      <th>V</th>\n",
       "      <th>W</th>\n",
       "      <th>X</th>\n",
       "      <th>Y</th>\n",
       "      <th>Z</th>\n",
       "    </tr>\n",
       "  </thead>\n",
       "  <tbody>\n",
       "    <tr>\n",
       "      <th>a</th>\n",
       "      <td>0.975097</td>\n",
       "      <td>0.908093</td>\n",
       "      <td>0.336792</td>\n",
       "      <td>0.594996</td>\n",
       "      <td>0.172400</td>\n",
       "      <td>0.819233</td>\n",
       "    </tr>\n",
       "    <tr>\n",
       "      <th>b</th>\n",
       "      <td>0.583449</td>\n",
       "      <td>0.984551</td>\n",
       "      <td>0.803541</td>\n",
       "      <td>0.694863</td>\n",
       "      <td>0.959989</td>\n",
       "      <td>0.511862</td>\n",
       "    </tr>\n",
       "    <tr>\n",
       "      <th>c</th>\n",
       "      <td>0.600700</td>\n",
       "      <td>0.275267</td>\n",
       "      <td>0.312654</td>\n",
       "      <td>0.015492</td>\n",
       "      <td>0.890436</td>\n",
       "      <td>0.506157</td>\n",
       "    </tr>\n",
       "    <tr>\n",
       "      <th>d</th>\n",
       "      <td>0.772712</td>\n",
       "      <td>0.159734</td>\n",
       "      <td>0.313451</td>\n",
       "      <td>0.293376</td>\n",
       "      <td>0.992515</td>\n",
       "      <td>0.069996</td>\n",
       "    </tr>\n",
       "    <tr>\n",
       "      <th>e</th>\n",
       "      <td>0.404471</td>\n",
       "      <td>0.261135</td>\n",
       "      <td>0.286117</td>\n",
       "      <td>0.621187</td>\n",
       "      <td>0.044638</td>\n",
       "      <td>0.721126</td>\n",
       "    </tr>\n",
       "  </tbody>\n",
       "</table>\n",
       "</div>"
      ],
      "text/plain": [
       "          U         V         W         X         Y         Z\n",
       "a  0.975097  0.908093  0.336792  0.594996  0.172400  0.819233\n",
       "b  0.583449  0.984551  0.803541  0.694863  0.959989  0.511862\n",
       "c  0.600700  0.275267  0.312654  0.015492  0.890436  0.506157\n",
       "d  0.772712  0.159734  0.313451  0.293376  0.992515  0.069996\n",
       "e  0.404471  0.261135  0.286117  0.621187  0.044638  0.721126"
      ]
     },
     "execution_count": 328,
     "metadata": {},
     "output_type": "execute_result"
    }
   ],
   "source": [
    "df"
   ]
  },
  {
   "cell_type": "code",
   "execution_count": 329,
   "id": "32bcabda",
   "metadata": {},
   "outputs": [
    {
     "data": {
      "text/html": [
       "<div>\n",
       "<style scoped>\n",
       "    .dataframe tbody tr th:only-of-type {\n",
       "        vertical-align: middle;\n",
       "    }\n",
       "\n",
       "    .dataframe tbody tr th {\n",
       "        vertical-align: top;\n",
       "    }\n",
       "\n",
       "    .dataframe thead th {\n",
       "        text-align: right;\n",
       "    }\n",
       "</style>\n",
       "<table border=\"1\" class=\"dataframe\">\n",
       "  <thead>\n",
       "    <tr style=\"text-align: right;\">\n",
       "      <th></th>\n",
       "      <th>U</th>\n",
       "      <th>V</th>\n",
       "      <th>W</th>\n",
       "      <th>X</th>\n",
       "      <th>Y</th>\n",
       "      <th>Z</th>\n",
       "    </tr>\n",
       "  </thead>\n",
       "  <tbody>\n",
       "    <tr>\n",
       "      <th>a</th>\n",
       "      <td>0.975097</td>\n",
       "      <td>0.908093</td>\n",
       "      <td>NaN</td>\n",
       "      <td>0.594996</td>\n",
       "      <td>NaN</td>\n",
       "      <td>0.819233</td>\n",
       "    </tr>\n",
       "    <tr>\n",
       "      <th>b</th>\n",
       "      <td>0.583449</td>\n",
       "      <td>0.984551</td>\n",
       "      <td>0.803541</td>\n",
       "      <td>0.694863</td>\n",
       "      <td>0.959989</td>\n",
       "      <td>0.511862</td>\n",
       "    </tr>\n",
       "    <tr>\n",
       "      <th>c</th>\n",
       "      <td>0.600700</td>\n",
       "      <td>NaN</td>\n",
       "      <td>NaN</td>\n",
       "      <td>NaN</td>\n",
       "      <td>0.890436</td>\n",
       "      <td>0.506157</td>\n",
       "    </tr>\n",
       "    <tr>\n",
       "      <th>d</th>\n",
       "      <td>0.772712</td>\n",
       "      <td>NaN</td>\n",
       "      <td>NaN</td>\n",
       "      <td>NaN</td>\n",
       "      <td>0.992515</td>\n",
       "      <td>NaN</td>\n",
       "    </tr>\n",
       "    <tr>\n",
       "      <th>e</th>\n",
       "      <td>0.404471</td>\n",
       "      <td>NaN</td>\n",
       "      <td>NaN</td>\n",
       "      <td>0.621187</td>\n",
       "      <td>NaN</td>\n",
       "      <td>0.721126</td>\n",
       "    </tr>\n",
       "  </tbody>\n",
       "</table>\n",
       "</div>"
      ],
      "text/plain": [
       "          U         V         W         X         Y         Z\n",
       "a  0.975097  0.908093       NaN  0.594996       NaN  0.819233\n",
       "b  0.583449  0.984551  0.803541  0.694863  0.959989  0.511862\n",
       "c  0.600700       NaN       NaN       NaN  0.890436  0.506157\n",
       "d  0.772712       NaN       NaN       NaN  0.992515       NaN\n",
       "e  0.404471       NaN       NaN  0.621187       NaN  0.721126"
      ]
     },
     "execution_count": 329,
     "metadata": {},
     "output_type": "execute_result"
    }
   ],
   "source": [
    "df[df>0.4] \n"
   ]
  },
  {
   "cell_type": "markdown",
   "id": "f4588bb4",
   "metadata": {},
   "source": [
    "kur reikšmės atitinką sąlygą, turime reikšmes, kur neatitinka - NaN.\n",
    "\n"
   ]
  },
  {
   "cell_type": "markdown",
   "id": "e5abd8bf",
   "metadata": {},
   "source": [
    "jeigu prireiktų subset'o, kur stulpelio 'W' reikšmės yra > 0.5:\n",
    "\n"
   ]
  },
  {
   "cell_type": "code",
   "execution_count": 330,
   "id": "cf82d0e7",
   "metadata": {},
   "outputs": [
    {
     "data": {
      "text/html": [
       "<div>\n",
       "<style scoped>\n",
       "    .dataframe tbody tr th:only-of-type {\n",
       "        vertical-align: middle;\n",
       "    }\n",
       "\n",
       "    .dataframe tbody tr th {\n",
       "        vertical-align: top;\n",
       "    }\n",
       "\n",
       "    .dataframe thead th {\n",
       "        text-align: right;\n",
       "    }\n",
       "</style>\n",
       "<table border=\"1\" class=\"dataframe\">\n",
       "  <thead>\n",
       "    <tr style=\"text-align: right;\">\n",
       "      <th></th>\n",
       "      <th>U</th>\n",
       "      <th>V</th>\n",
       "      <th>W</th>\n",
       "      <th>X</th>\n",
       "      <th>Y</th>\n",
       "      <th>Z</th>\n",
       "    </tr>\n",
       "  </thead>\n",
       "  <tbody>\n",
       "    <tr>\n",
       "      <th>b</th>\n",
       "      <td>0.583449</td>\n",
       "      <td>0.984551</td>\n",
       "      <td>0.803541</td>\n",
       "      <td>0.694863</td>\n",
       "      <td>0.959989</td>\n",
       "      <td>0.511862</td>\n",
       "    </tr>\n",
       "  </tbody>\n",
       "</table>\n",
       "</div>"
      ],
      "text/plain": [
       "          U         V         W         X         Y         Z\n",
       "b  0.583449  0.984551  0.803541  0.694863  0.959989  0.511862"
      ]
     },
     "execution_count": 330,
     "metadata": {},
     "output_type": "execute_result"
    }
   ],
   "source": [
    "kazkas = df[df['W']>0.5]\n",
    "kazkas2 = df[[True, True, True, False, False]]\n",
    "kazkas\n"
   ]
  },
  {
   "cell_type": "markdown",
   "id": "a7c5e35f",
   "metadata": {},
   "source": [
    "Skirtumas tarp šių operacijų toks, kad kai sąlygą taikome visam DataFrame'ui, gauname tą patį DataFrame su NaN reikšmėmis, tose vietose, kur originalios reikšmės neatitinka sąlygos. Kai sąlygą taikome stulpeliams, gauname tik tas eilutes, kurios atitinka sąlygą, t.y. vykdome filtravimą.\n",
    "\n"
   ]
  },
  {
   "cell_type": "markdown",
   "id": "64806852",
   "metadata": {},
   "source": [
    "#### Užklausų kombinavimas\n",
    "\n"
   ]
  },
  {
   "cell_type": "code",
   "execution_count": 331,
   "id": "c2180b77",
   "metadata": {},
   "outputs": [
    {
     "data": {
      "text/html": [
       "<div>\n",
       "<style scoped>\n",
       "    .dataframe tbody tr th:only-of-type {\n",
       "        vertical-align: middle;\n",
       "    }\n",
       "\n",
       "    .dataframe tbody tr th {\n",
       "        vertical-align: top;\n",
       "    }\n",
       "\n",
       "    .dataframe thead th {\n",
       "        text-align: right;\n",
       "    }\n",
       "</style>\n",
       "<table border=\"1\" class=\"dataframe\">\n",
       "  <thead>\n",
       "    <tr style=\"text-align: right;\">\n",
       "      <th></th>\n",
       "      <th>U</th>\n",
       "      <th>W</th>\n",
       "      <th>Z</th>\n",
       "    </tr>\n",
       "  </thead>\n",
       "  <tbody>\n",
       "    <tr>\n",
       "      <th>b</th>\n",
       "      <td>0.583449</td>\n",
       "      <td>0.803541</td>\n",
       "      <td>0.511862</td>\n",
       "    </tr>\n",
       "  </tbody>\n",
       "</table>\n",
       "</div>"
      ],
      "text/plain": [
       "          U         W         Z\n",
       "b  0.583449  0.803541  0.511862"
      ]
     },
     "execution_count": 331,
     "metadata": {},
     "output_type": "execute_result"
    }
   ],
   "source": [
    "df[df['W']>0.5][['U', 'W', 'Z']]\n"
   ]
  },
  {
   "cell_type": "markdown",
   "id": "a07c2fd3",
   "metadata": {},
   "source": [
    "šiame pavyzdyje gauname rezultatą, kokį gautumėm paeiliui ivykdę dvi atskiras eilutes: df1 = df[df['W']>0.5], df1[['U', 'W', 'Z']]. Užklausų kombinavimas leidžia mums nekurti atmintyje papildomų kintamųjų (kaip šiuo atveju df1).\n",
    "\n"
   ]
  },
  {
   "cell_type": "markdown",
   "id": "df80eefd",
   "metadata": {},
   "source": [
    "#### Sąlygų kombinavimas\n",
    "\n"
   ]
  },
  {
   "cell_type": "code",
   "execution_count": 332,
   "id": "ae7c7992",
   "metadata": {},
   "outputs": [
    {
     "data": {
      "text/html": [
       "<div>\n",
       "<style scoped>\n",
       "    .dataframe tbody tr th:only-of-type {\n",
       "        vertical-align: middle;\n",
       "    }\n",
       "\n",
       "    .dataframe tbody tr th {\n",
       "        vertical-align: top;\n",
       "    }\n",
       "\n",
       "    .dataframe thead th {\n",
       "        text-align: right;\n",
       "    }\n",
       "</style>\n",
       "<table border=\"1\" class=\"dataframe\">\n",
       "  <thead>\n",
       "    <tr style=\"text-align: right;\">\n",
       "      <th></th>\n",
       "      <th>U</th>\n",
       "      <th>V</th>\n",
       "      <th>W</th>\n",
       "      <th>X</th>\n",
       "      <th>Y</th>\n",
       "      <th>Z</th>\n",
       "    </tr>\n",
       "  </thead>\n",
       "  <tbody>\n",
       "    <tr>\n",
       "      <th>a</th>\n",
       "      <td>0.975097</td>\n",
       "      <td>0.908093</td>\n",
       "      <td>0.336792</td>\n",
       "      <td>0.594996</td>\n",
       "      <td>0.172400</td>\n",
       "      <td>0.819233</td>\n",
       "    </tr>\n",
       "    <tr>\n",
       "      <th>b</th>\n",
       "      <td>0.583449</td>\n",
       "      <td>0.984551</td>\n",
       "      <td>0.803541</td>\n",
       "      <td>0.694863</td>\n",
       "      <td>0.959989</td>\n",
       "      <td>0.511862</td>\n",
       "    </tr>\n",
       "    <tr>\n",
       "      <th>c</th>\n",
       "      <td>0.600700</td>\n",
       "      <td>0.275267</td>\n",
       "      <td>0.312654</td>\n",
       "      <td>0.015492</td>\n",
       "      <td>0.890436</td>\n",
       "      <td>0.506157</td>\n",
       "    </tr>\n",
       "    <tr>\n",
       "      <th>d</th>\n",
       "      <td>0.772712</td>\n",
       "      <td>0.159734</td>\n",
       "      <td>0.313451</td>\n",
       "      <td>0.293376</td>\n",
       "      <td>0.992515</td>\n",
       "      <td>0.069996</td>\n",
       "    </tr>\n",
       "    <tr>\n",
       "      <th>e</th>\n",
       "      <td>0.404471</td>\n",
       "      <td>0.261135</td>\n",
       "      <td>0.286117</td>\n",
       "      <td>0.621187</td>\n",
       "      <td>0.044638</td>\n",
       "      <td>0.721126</td>\n",
       "    </tr>\n",
       "  </tbody>\n",
       "</table>\n",
       "</div>"
      ],
      "text/plain": [
       "          U         V         W         X         Y         Z\n",
       "a  0.975097  0.908093  0.336792  0.594996  0.172400  0.819233\n",
       "b  0.583449  0.984551  0.803541  0.694863  0.959989  0.511862\n",
       "c  0.600700  0.275267  0.312654  0.015492  0.890436  0.506157\n",
       "d  0.772712  0.159734  0.313451  0.293376  0.992515  0.069996\n",
       "e  0.404471  0.261135  0.286117  0.621187  0.044638  0.721126"
      ]
     },
     "execution_count": 332,
     "metadata": {},
     "output_type": "execute_result"
    }
   ],
   "source": [
    "df"
   ]
  },
  {
   "cell_type": "code",
   "execution_count": 333,
   "id": "b83c0532",
   "metadata": {},
   "outputs": [
    {
     "data": {
      "text/html": [
       "<div>\n",
       "<style scoped>\n",
       "    .dataframe tbody tr th:only-of-type {\n",
       "        vertical-align: middle;\n",
       "    }\n",
       "\n",
       "    .dataframe tbody tr th {\n",
       "        vertical-align: top;\n",
       "    }\n",
       "\n",
       "    .dataframe thead th {\n",
       "        text-align: right;\n",
       "    }\n",
       "</style>\n",
       "<table border=\"1\" class=\"dataframe\">\n",
       "  <thead>\n",
       "    <tr style=\"text-align: right;\">\n",
       "      <th></th>\n",
       "      <th>U</th>\n",
       "      <th>V</th>\n",
       "      <th>W</th>\n",
       "      <th>X</th>\n",
       "      <th>Y</th>\n",
       "      <th>Z</th>\n",
       "    </tr>\n",
       "  </thead>\n",
       "  <tbody>\n",
       "    <tr>\n",
       "      <th>d</th>\n",
       "      <td>0.772712</td>\n",
       "      <td>0.159734</td>\n",
       "      <td>0.313451</td>\n",
       "      <td>0.293376</td>\n",
       "      <td>0.992515</td>\n",
       "      <td>0.069996</td>\n",
       "    </tr>\n",
       "  </tbody>\n",
       "</table>\n",
       "</div>"
      ],
      "text/plain": [
       "          U         V         W         X         Y         Z\n",
       "d  0.772712  0.159734  0.313451  0.293376  0.992515  0.069996"
      ]
     },
     "execution_count": 333,
     "metadata": {},
     "output_type": "execute_result"
    }
   ],
   "source": [
    "df[(df['U']>0.5) & (df['Z']<0.5)]"
   ]
  },
  {
   "cell_type": "markdown",
   "id": "4f294fb6",
   "metadata": {},
   "source": [
    "gavome tas eilutes, kuriose U stulpelyje reikšmės didesnės, o Z stulpelyje mažesnės už 0.5.\n",
    "\n"
   ]
  },
  {
   "cell_type": "markdown",
   "id": "0ceeb0d1",
   "metadata": {},
   "source": [
    "#### Operacijos su index stulpeliu\n",
    "\n",
    "reset_index paverčia mūsų seną indeksą dar vienu stulpeliu, ir sukuria naują indeksą iš skaičių. Reikia naudoti inplace=True, jei norime pakeisti originalą.\n",
    "\n"
   ]
  },
  {
   "cell_type": "code",
   "execution_count": 334,
   "id": "8e0f541d",
   "metadata": {},
   "outputs": [
    {
     "data": {
      "text/html": [
       "<div>\n",
       "<style scoped>\n",
       "    .dataframe tbody tr th:only-of-type {\n",
       "        vertical-align: middle;\n",
       "    }\n",
       "\n",
       "    .dataframe tbody tr th {\n",
       "        vertical-align: top;\n",
       "    }\n",
       "\n",
       "    .dataframe thead th {\n",
       "        text-align: right;\n",
       "    }\n",
       "</style>\n",
       "<table border=\"1\" class=\"dataframe\">\n",
       "  <thead>\n",
       "    <tr style=\"text-align: right;\">\n",
       "      <th></th>\n",
       "      <th>U</th>\n",
       "      <th>V</th>\n",
       "      <th>W</th>\n",
       "      <th>X</th>\n",
       "      <th>Y</th>\n",
       "      <th>Z</th>\n",
       "    </tr>\n",
       "  </thead>\n",
       "  <tbody>\n",
       "    <tr>\n",
       "      <th>a</th>\n",
       "      <td>0.975097</td>\n",
       "      <td>0.908093</td>\n",
       "      <td>0.336792</td>\n",
       "      <td>0.594996</td>\n",
       "      <td>0.172400</td>\n",
       "      <td>0.819233</td>\n",
       "    </tr>\n",
       "    <tr>\n",
       "      <th>b</th>\n",
       "      <td>0.583449</td>\n",
       "      <td>0.984551</td>\n",
       "      <td>0.803541</td>\n",
       "      <td>0.694863</td>\n",
       "      <td>0.959989</td>\n",
       "      <td>0.511862</td>\n",
       "    </tr>\n",
       "    <tr>\n",
       "      <th>c</th>\n",
       "      <td>0.600700</td>\n",
       "      <td>0.275267</td>\n",
       "      <td>0.312654</td>\n",
       "      <td>0.015492</td>\n",
       "      <td>0.890436</td>\n",
       "      <td>0.506157</td>\n",
       "    </tr>\n",
       "    <tr>\n",
       "      <th>d</th>\n",
       "      <td>0.772712</td>\n",
       "      <td>0.159734</td>\n",
       "      <td>0.313451</td>\n",
       "      <td>0.293376</td>\n",
       "      <td>0.992515</td>\n",
       "      <td>0.069996</td>\n",
       "    </tr>\n",
       "    <tr>\n",
       "      <th>e</th>\n",
       "      <td>0.404471</td>\n",
       "      <td>0.261135</td>\n",
       "      <td>0.286117</td>\n",
       "      <td>0.621187</td>\n",
       "      <td>0.044638</td>\n",
       "      <td>0.721126</td>\n",
       "    </tr>\n",
       "  </tbody>\n",
       "</table>\n",
       "</div>"
      ],
      "text/plain": [
       "          U         V         W         X         Y         Z\n",
       "a  0.975097  0.908093  0.336792  0.594996  0.172400  0.819233\n",
       "b  0.583449  0.984551  0.803541  0.694863  0.959989  0.511862\n",
       "c  0.600700  0.275267  0.312654  0.015492  0.890436  0.506157\n",
       "d  0.772712  0.159734  0.313451  0.293376  0.992515  0.069996\n",
       "e  0.404471  0.261135  0.286117  0.621187  0.044638  0.721126"
      ]
     },
     "execution_count": 334,
     "metadata": {},
     "output_type": "execute_result"
    }
   ],
   "source": [
    "df"
   ]
  },
  {
   "cell_type": "code",
   "execution_count": 335,
   "id": "d34edda9",
   "metadata": {},
   "outputs": [
    {
     "data": {
      "text/html": [
       "<div>\n",
       "<style scoped>\n",
       "    .dataframe tbody tr th:only-of-type {\n",
       "        vertical-align: middle;\n",
       "    }\n",
       "\n",
       "    .dataframe tbody tr th {\n",
       "        vertical-align: top;\n",
       "    }\n",
       "\n",
       "    .dataframe thead th {\n",
       "        text-align: right;\n",
       "    }\n",
       "</style>\n",
       "<table border=\"1\" class=\"dataframe\">\n",
       "  <thead>\n",
       "    <tr style=\"text-align: right;\">\n",
       "      <th></th>\n",
       "      <th>U</th>\n",
       "      <th>V</th>\n",
       "      <th>W</th>\n",
       "      <th>X</th>\n",
       "      <th>Y</th>\n",
       "      <th>Z</th>\n",
       "    </tr>\n",
       "  </thead>\n",
       "  <tbody>\n",
       "    <tr>\n",
       "      <th>a</th>\n",
       "      <td>0.975097</td>\n",
       "      <td>0.908093</td>\n",
       "      <td>0.336792</td>\n",
       "      <td>0.594996</td>\n",
       "      <td>0.172400</td>\n",
       "      <td>0.819233</td>\n",
       "    </tr>\n",
       "    <tr>\n",
       "      <th>b</th>\n",
       "      <td>0.583449</td>\n",
       "      <td>0.984551</td>\n",
       "      <td>0.803541</td>\n",
       "      <td>0.694863</td>\n",
       "      <td>0.959989</td>\n",
       "      <td>0.511862</td>\n",
       "    </tr>\n",
       "    <tr>\n",
       "      <th>c</th>\n",
       "      <td>0.600700</td>\n",
       "      <td>0.275267</td>\n",
       "      <td>0.312654</td>\n",
       "      <td>0.015492</td>\n",
       "      <td>0.890436</td>\n",
       "      <td>0.506157</td>\n",
       "    </tr>\n",
       "    <tr>\n",
       "      <th>d</th>\n",
       "      <td>0.772712</td>\n",
       "      <td>0.159734</td>\n",
       "      <td>0.313451</td>\n",
       "      <td>0.293376</td>\n",
       "      <td>0.992515</td>\n",
       "      <td>0.069996</td>\n",
       "    </tr>\n",
       "    <tr>\n",
       "      <th>e</th>\n",
       "      <td>0.404471</td>\n",
       "      <td>0.261135</td>\n",
       "      <td>0.286117</td>\n",
       "      <td>0.621187</td>\n",
       "      <td>0.044638</td>\n",
       "      <td>0.721126</td>\n",
       "    </tr>\n",
       "  </tbody>\n",
       "</table>\n",
       "</div>"
      ],
      "text/plain": [
       "          U         V         W         X         Y         Z\n",
       "a  0.975097  0.908093  0.336792  0.594996  0.172400  0.819233\n",
       "b  0.583449  0.984551  0.803541  0.694863  0.959989  0.511862\n",
       "c  0.600700  0.275267  0.312654  0.015492  0.890436  0.506157\n",
       "d  0.772712  0.159734  0.313451  0.293376  0.992515  0.069996\n",
       "e  0.404471  0.261135  0.286117  0.621187  0.044638  0.721126"
      ]
     },
     "execution_count": 335,
     "metadata": {},
     "output_type": "execute_result"
    }
   ],
   "source": [
    "df.reset_index()\n",
    "df"
   ]
  },
  {
   "cell_type": "markdown",
   "id": "bf33615e",
   "metadata": {},
   "source": [
    "Norint sukurti naują indeksą, reikia pridėti naują stulpelį:\n",
    "\n"
   ]
  },
  {
   "cell_type": "code",
   "execution_count": 336,
   "id": "39b492be",
   "metadata": {},
   "outputs": [
    {
     "data": {
      "text/plain": [
       "['Vilnius', 'Kaunas', 'Klaipėda', 'Šiauliai', 'Panevėžys']"
      ]
     },
     "execution_count": 336,
     "metadata": {},
     "output_type": "execute_result"
    }
   ],
   "source": [
    "naujas_indeksas = 'Vilnius Kaunas Klaipėda Šiauliai Panevėžys'.split()\n",
    "naujas_indeksas\n"
   ]
  },
  {
   "cell_type": "code",
   "execution_count": 337,
   "id": "5361197e",
   "metadata": {},
   "outputs": [
    {
     "data": {
      "text/html": [
       "<div>\n",
       "<style scoped>\n",
       "    .dataframe tbody tr th:only-of-type {\n",
       "        vertical-align: middle;\n",
       "    }\n",
       "\n",
       "    .dataframe tbody tr th {\n",
       "        vertical-align: top;\n",
       "    }\n",
       "\n",
       "    .dataframe thead th {\n",
       "        text-align: right;\n",
       "    }\n",
       "</style>\n",
       "<table border=\"1\" class=\"dataframe\">\n",
       "  <thead>\n",
       "    <tr style=\"text-align: right;\">\n",
       "      <th></th>\n",
       "      <th>U</th>\n",
       "      <th>V</th>\n",
       "      <th>W</th>\n",
       "      <th>X</th>\n",
       "      <th>Y</th>\n",
       "      <th>Z</th>\n",
       "      <th>Miestai</th>\n",
       "    </tr>\n",
       "  </thead>\n",
       "  <tbody>\n",
       "    <tr>\n",
       "      <th>a</th>\n",
       "      <td>0.975097</td>\n",
       "      <td>0.908093</td>\n",
       "      <td>0.336792</td>\n",
       "      <td>0.594996</td>\n",
       "      <td>0.172400</td>\n",
       "      <td>0.819233</td>\n",
       "      <td>Vilnius</td>\n",
       "    </tr>\n",
       "    <tr>\n",
       "      <th>b</th>\n",
       "      <td>0.583449</td>\n",
       "      <td>0.984551</td>\n",
       "      <td>0.803541</td>\n",
       "      <td>0.694863</td>\n",
       "      <td>0.959989</td>\n",
       "      <td>0.511862</td>\n",
       "      <td>Kaunas</td>\n",
       "    </tr>\n",
       "    <tr>\n",
       "      <th>c</th>\n",
       "      <td>0.600700</td>\n",
       "      <td>0.275267</td>\n",
       "      <td>0.312654</td>\n",
       "      <td>0.015492</td>\n",
       "      <td>0.890436</td>\n",
       "      <td>0.506157</td>\n",
       "      <td>Klaipėda</td>\n",
       "    </tr>\n",
       "    <tr>\n",
       "      <th>d</th>\n",
       "      <td>0.772712</td>\n",
       "      <td>0.159734</td>\n",
       "      <td>0.313451</td>\n",
       "      <td>0.293376</td>\n",
       "      <td>0.992515</td>\n",
       "      <td>0.069996</td>\n",
       "      <td>Šiauliai</td>\n",
       "    </tr>\n",
       "    <tr>\n",
       "      <th>e</th>\n",
       "      <td>0.404471</td>\n",
       "      <td>0.261135</td>\n",
       "      <td>0.286117</td>\n",
       "      <td>0.621187</td>\n",
       "      <td>0.044638</td>\n",
       "      <td>0.721126</td>\n",
       "      <td>Panevėžys</td>\n",
       "    </tr>\n",
       "  </tbody>\n",
       "</table>\n",
       "</div>"
      ],
      "text/plain": [
       "          U         V         W         X         Y         Z    Miestai\n",
       "a  0.975097  0.908093  0.336792  0.594996  0.172400  0.819233    Vilnius\n",
       "b  0.583449  0.984551  0.803541  0.694863  0.959989  0.511862     Kaunas\n",
       "c  0.600700  0.275267  0.312654  0.015492  0.890436  0.506157   Klaipėda\n",
       "d  0.772712  0.159734  0.313451  0.293376  0.992515  0.069996   Šiauliai\n",
       "e  0.404471  0.261135  0.286117  0.621187  0.044638  0.721126  Panevėžys"
      ]
     },
     "execution_count": 337,
     "metadata": {},
     "output_type": "execute_result"
    }
   ],
   "source": [
    "df['Miestai'] = naujas_indeksas\n",
    "df"
   ]
  },
  {
   "cell_type": "code",
   "execution_count": 338,
   "id": "dc85c451",
   "metadata": {},
   "outputs": [
    {
     "data": {
      "text/html": [
       "<div>\n",
       "<style scoped>\n",
       "    .dataframe tbody tr th:only-of-type {\n",
       "        vertical-align: middle;\n",
       "    }\n",
       "\n",
       "    .dataframe tbody tr th {\n",
       "        vertical-align: top;\n",
       "    }\n",
       "\n",
       "    .dataframe thead th {\n",
       "        text-align: right;\n",
       "    }\n",
       "</style>\n",
       "<table border=\"1\" class=\"dataframe\">\n",
       "  <thead>\n",
       "    <tr style=\"text-align: right;\">\n",
       "      <th></th>\n",
       "      <th>U</th>\n",
       "      <th>V</th>\n",
       "      <th>W</th>\n",
       "      <th>X</th>\n",
       "      <th>Y</th>\n",
       "      <th>Z</th>\n",
       "    </tr>\n",
       "    <tr>\n",
       "      <th>Miestai</th>\n",
       "      <th></th>\n",
       "      <th></th>\n",
       "      <th></th>\n",
       "      <th></th>\n",
       "      <th></th>\n",
       "      <th></th>\n",
       "    </tr>\n",
       "  </thead>\n",
       "  <tbody>\n",
       "    <tr>\n",
       "      <th>Vilnius</th>\n",
       "      <td>0.975097</td>\n",
       "      <td>0.908093</td>\n",
       "      <td>0.336792</td>\n",
       "      <td>0.594996</td>\n",
       "      <td>0.172400</td>\n",
       "      <td>0.819233</td>\n",
       "    </tr>\n",
       "    <tr>\n",
       "      <th>Kaunas</th>\n",
       "      <td>0.583449</td>\n",
       "      <td>0.984551</td>\n",
       "      <td>0.803541</td>\n",
       "      <td>0.694863</td>\n",
       "      <td>0.959989</td>\n",
       "      <td>0.511862</td>\n",
       "    </tr>\n",
       "    <tr>\n",
       "      <th>Klaipėda</th>\n",
       "      <td>0.600700</td>\n",
       "      <td>0.275267</td>\n",
       "      <td>0.312654</td>\n",
       "      <td>0.015492</td>\n",
       "      <td>0.890436</td>\n",
       "      <td>0.506157</td>\n",
       "    </tr>\n",
       "    <tr>\n",
       "      <th>Šiauliai</th>\n",
       "      <td>0.772712</td>\n",
       "      <td>0.159734</td>\n",
       "      <td>0.313451</td>\n",
       "      <td>0.293376</td>\n",
       "      <td>0.992515</td>\n",
       "      <td>0.069996</td>\n",
       "    </tr>\n",
       "    <tr>\n",
       "      <th>Panevėžys</th>\n",
       "      <td>0.404471</td>\n",
       "      <td>0.261135</td>\n",
       "      <td>0.286117</td>\n",
       "      <td>0.621187</td>\n",
       "      <td>0.044638</td>\n",
       "      <td>0.721126</td>\n",
       "    </tr>\n",
       "  </tbody>\n",
       "</table>\n",
       "</div>"
      ],
      "text/plain": [
       "                  U         V         W         X         Y         Z\n",
       "Miestai                                                              \n",
       "Vilnius    0.975097  0.908093  0.336792  0.594996  0.172400  0.819233\n",
       "Kaunas     0.583449  0.984551  0.803541  0.694863  0.959989  0.511862\n",
       "Klaipėda   0.600700  0.275267  0.312654  0.015492  0.890436  0.506157\n",
       "Šiauliai   0.772712  0.159734  0.313451  0.293376  0.992515  0.069996\n",
       "Panevėžys  0.404471  0.261135  0.286117  0.621187  0.044638  0.721126"
      ]
     },
     "execution_count": 338,
     "metadata": {},
     "output_type": "execute_result"
    }
   ],
   "source": [
    "df.set_index('Miestai')\n"
   ]
  },
  {
   "cell_type": "markdown",
   "id": "4ff7ec5a",
   "metadata": {},
   "source": [
    "#### Eilučių skaičius\n",
    "\n",
    "galime nurodyti kiek norime eilučių duomenų su metodu head()"
   ]
  },
  {
   "cell_type": "code",
   "execution_count": 341,
   "id": "512046aa",
   "metadata": {},
   "outputs": [
    {
     "data": {
      "text/html": [
       "<div>\n",
       "<style scoped>\n",
       "    .dataframe tbody tr th:only-of-type {\n",
       "        vertical-align: middle;\n",
       "    }\n",
       "\n",
       "    .dataframe tbody tr th {\n",
       "        vertical-align: top;\n",
       "    }\n",
       "\n",
       "    .dataframe thead th {\n",
       "        text-align: right;\n",
       "    }\n",
       "</style>\n",
       "<table border=\"1\" class=\"dataframe\">\n",
       "  <thead>\n",
       "    <tr style=\"text-align: right;\">\n",
       "      <th></th>\n",
       "      <th>U</th>\n",
       "      <th>V</th>\n",
       "      <th>W</th>\n",
       "      <th>X</th>\n",
       "      <th>Y</th>\n",
       "      <th>Z</th>\n",
       "      <th>Miestai</th>\n",
       "    </tr>\n",
       "  </thead>\n",
       "  <tbody>\n",
       "    <tr>\n",
       "      <th>a</th>\n",
       "      <td>0.975097</td>\n",
       "      <td>0.908093</td>\n",
       "      <td>0.336792</td>\n",
       "      <td>0.594996</td>\n",
       "      <td>0.172400</td>\n",
       "      <td>0.819233</td>\n",
       "      <td>Vilnius</td>\n",
       "    </tr>\n",
       "    <tr>\n",
       "      <th>b</th>\n",
       "      <td>0.583449</td>\n",
       "      <td>0.984551</td>\n",
       "      <td>0.803541</td>\n",
       "      <td>0.694863</td>\n",
       "      <td>0.959989</td>\n",
       "      <td>0.511862</td>\n",
       "      <td>Kaunas</td>\n",
       "    </tr>\n",
       "    <tr>\n",
       "      <th>c</th>\n",
       "      <td>0.600700</td>\n",
       "      <td>0.275267</td>\n",
       "      <td>0.312654</td>\n",
       "      <td>0.015492</td>\n",
       "      <td>0.890436</td>\n",
       "      <td>0.506157</td>\n",
       "      <td>Klaipėda</td>\n",
       "    </tr>\n",
       "    <tr>\n",
       "      <th>d</th>\n",
       "      <td>0.772712</td>\n",
       "      <td>0.159734</td>\n",
       "      <td>0.313451</td>\n",
       "      <td>0.293376</td>\n",
       "      <td>0.992515</td>\n",
       "      <td>0.069996</td>\n",
       "      <td>Šiauliai</td>\n",
       "    </tr>\n",
       "    <tr>\n",
       "      <th>e</th>\n",
       "      <td>0.404471</td>\n",
       "      <td>0.261135</td>\n",
       "      <td>0.286117</td>\n",
       "      <td>0.621187</td>\n",
       "      <td>0.044638</td>\n",
       "      <td>0.721126</td>\n",
       "      <td>Panevėžys</td>\n",
       "    </tr>\n",
       "  </tbody>\n",
       "</table>\n",
       "</div>"
      ],
      "text/plain": [
       "          U         V         W         X         Y         Z    Miestai\n",
       "a  0.975097  0.908093  0.336792  0.594996  0.172400  0.819233    Vilnius\n",
       "b  0.583449  0.984551  0.803541  0.694863  0.959989  0.511862     Kaunas\n",
       "c  0.600700  0.275267  0.312654  0.015492  0.890436  0.506157   Klaipėda\n",
       "d  0.772712  0.159734  0.313451  0.293376  0.992515  0.069996   Šiauliai\n",
       "e  0.404471  0.261135  0.286117  0.621187  0.044638  0.721126  Panevėžys"
      ]
     },
     "execution_count": 341,
     "metadata": {},
     "output_type": "execute_result"
    }
   ],
   "source": [
    "df.head()"
   ]
  },
  {
   "cell_type": "code",
   "execution_count": 342,
   "id": "c98093ec",
   "metadata": {},
   "outputs": [
    {
     "data": {
      "text/html": [
       "<div>\n",
       "<style scoped>\n",
       "    .dataframe tbody tr th:only-of-type {\n",
       "        vertical-align: middle;\n",
       "    }\n",
       "\n",
       "    .dataframe tbody tr th {\n",
       "        vertical-align: top;\n",
       "    }\n",
       "\n",
       "    .dataframe thead th {\n",
       "        text-align: right;\n",
       "    }\n",
       "</style>\n",
       "<table border=\"1\" class=\"dataframe\">\n",
       "  <thead>\n",
       "    <tr style=\"text-align: right;\">\n",
       "      <th></th>\n",
       "      <th>U</th>\n",
       "      <th>V</th>\n",
       "      <th>W</th>\n",
       "      <th>X</th>\n",
       "      <th>Y</th>\n",
       "      <th>Z</th>\n",
       "      <th>Miestai</th>\n",
       "    </tr>\n",
       "  </thead>\n",
       "  <tbody>\n",
       "    <tr>\n",
       "      <th>a</th>\n",
       "      <td>0.975097</td>\n",
       "      <td>0.908093</td>\n",
       "      <td>0.336792</td>\n",
       "      <td>0.594996</td>\n",
       "      <td>0.172400</td>\n",
       "      <td>0.819233</td>\n",
       "      <td>Vilnius</td>\n",
       "    </tr>\n",
       "    <tr>\n",
       "      <th>b</th>\n",
       "      <td>0.583449</td>\n",
       "      <td>0.984551</td>\n",
       "      <td>0.803541</td>\n",
       "      <td>0.694863</td>\n",
       "      <td>0.959989</td>\n",
       "      <td>0.511862</td>\n",
       "      <td>Kaunas</td>\n",
       "    </tr>\n",
       "    <tr>\n",
       "      <th>c</th>\n",
       "      <td>0.600700</td>\n",
       "      <td>0.275267</td>\n",
       "      <td>0.312654</td>\n",
       "      <td>0.015492</td>\n",
       "      <td>0.890436</td>\n",
       "      <td>0.506157</td>\n",
       "      <td>Klaipėda</td>\n",
       "    </tr>\n",
       "  </tbody>\n",
       "</table>\n",
       "</div>"
      ],
      "text/plain": [
       "          U         V         W         X         Y         Z   Miestai\n",
       "a  0.975097  0.908093  0.336792  0.594996  0.172400  0.819233   Vilnius\n",
       "b  0.583449  0.984551  0.803541  0.694863  0.959989  0.511862    Kaunas\n",
       "c  0.600700  0.275267  0.312654  0.015492  0.890436  0.506157  Klaipėda"
      ]
     },
     "execution_count": 342,
     "metadata": {},
     "output_type": "execute_result"
    }
   ],
   "source": [
    "df.head(3)"
   ]
  },
  {
   "cell_type": "code",
   "execution_count": 343,
   "id": "f4c1a3cd",
   "metadata": {},
   "outputs": [
    {
     "data": {
      "text/html": [
       "<div>\n",
       "<style scoped>\n",
       "    .dataframe tbody tr th:only-of-type {\n",
       "        vertical-align: middle;\n",
       "    }\n",
       "\n",
       "    .dataframe tbody tr th {\n",
       "        vertical-align: top;\n",
       "    }\n",
       "\n",
       "    .dataframe thead th {\n",
       "        text-align: right;\n",
       "    }\n",
       "</style>\n",
       "<table border=\"1\" class=\"dataframe\">\n",
       "  <thead>\n",
       "    <tr style=\"text-align: right;\">\n",
       "      <th></th>\n",
       "      <th>U</th>\n",
       "      <th>V</th>\n",
       "      <th>W</th>\n",
       "      <th>X</th>\n",
       "      <th>Y</th>\n",
       "      <th>Z</th>\n",
       "      <th>Miestai</th>\n",
       "    </tr>\n",
       "  </thead>\n",
       "  <tbody>\n",
       "    <tr>\n",
       "      <th>a</th>\n",
       "      <td>0.975097</td>\n",
       "      <td>0.908093</td>\n",
       "      <td>0.336792</td>\n",
       "      <td>0.594996</td>\n",
       "      <td>0.172400</td>\n",
       "      <td>0.819233</td>\n",
       "      <td>Vilnius</td>\n",
       "    </tr>\n",
       "    <tr>\n",
       "      <th>b</th>\n",
       "      <td>0.583449</td>\n",
       "      <td>0.984551</td>\n",
       "      <td>0.803541</td>\n",
       "      <td>0.694863</td>\n",
       "      <td>0.959989</td>\n",
       "      <td>0.511862</td>\n",
       "      <td>Kaunas</td>\n",
       "    </tr>\n",
       "    <tr>\n",
       "      <th>c</th>\n",
       "      <td>0.600700</td>\n",
       "      <td>0.275267</td>\n",
       "      <td>0.312654</td>\n",
       "      <td>0.015492</td>\n",
       "      <td>0.890436</td>\n",
       "      <td>0.506157</td>\n",
       "      <td>Klaipėda</td>\n",
       "    </tr>\n",
       "    <tr>\n",
       "      <th>d</th>\n",
       "      <td>0.772712</td>\n",
       "      <td>0.159734</td>\n",
       "      <td>0.313451</td>\n",
       "      <td>0.293376</td>\n",
       "      <td>0.992515</td>\n",
       "      <td>0.069996</td>\n",
       "      <td>Šiauliai</td>\n",
       "    </tr>\n",
       "  </tbody>\n",
       "</table>\n",
       "</div>"
      ],
      "text/plain": [
       "          U         V         W         X         Y         Z   Miestai\n",
       "a  0.975097  0.908093  0.336792  0.594996  0.172400  0.819233   Vilnius\n",
       "b  0.583449  0.984551  0.803541  0.694863  0.959989  0.511862    Kaunas\n",
       "c  0.600700  0.275267  0.312654  0.015492  0.890436  0.506157  Klaipėda\n",
       "d  0.772712  0.159734  0.313451  0.293376  0.992515  0.069996  Šiauliai"
      ]
     },
     "execution_count": 343,
     "metadata": {},
     "output_type": "execute_result"
    }
   ],
   "source": [
    "df.head(-1)"
   ]
  },
  {
   "cell_type": "markdown",
   "id": "f51dee3e",
   "metadata": {},
   "source": [
    "#### Failų nuskaitymas\n"
   ]
  },
  {
   "cell_type": "code",
   "execution_count": 376,
   "id": "f4611127",
   "metadata": {},
   "outputs": [
    {
     "data": {
      "text/html": [
       "<div>\n",
       "<style scoped>\n",
       "    .dataframe tbody tr th:only-of-type {\n",
       "        vertical-align: middle;\n",
       "    }\n",
       "\n",
       "    .dataframe tbody tr th {\n",
       "        vertical-align: top;\n",
       "    }\n",
       "\n",
       "    .dataframe thead th {\n",
       "        text-align: right;\n",
       "    }\n",
       "</style>\n",
       "<table border=\"1\" class=\"dataframe\">\n",
       "  <thead>\n",
       "    <tr style=\"text-align: right;\">\n",
       "      <th></th>\n",
       "      <th>firstname</th>\n",
       "      <th>lastname</th>\n",
       "      <th>email</th>\n",
       "      <th>email2</th>\n",
       "      <th>profession</th>\n",
       "    </tr>\n",
       "    <tr>\n",
       "      <th>id</th>\n",
       "      <th></th>\n",
       "      <th></th>\n",
       "      <th></th>\n",
       "      <th></th>\n",
       "      <th></th>\n",
       "    </tr>\n",
       "  </thead>\n",
       "  <tbody>\n",
       "    <tr>\n",
       "      <th>100</th>\n",
       "      <td>Anthia</td>\n",
       "      <td>O'Carroll</td>\n",
       "      <td>Anthia.O'Carroll@yopmail.com</td>\n",
       "      <td>Anthia.O'Carroll@gmail.com</td>\n",
       "      <td>worker</td>\n",
       "    </tr>\n",
       "    <tr>\n",
       "      <th>101</th>\n",
       "      <td>Tina</td>\n",
       "      <td>Noam</td>\n",
       "      <td>Tina.Noam@yopmail.com</td>\n",
       "      <td>Tina.Noam@gmail.com</td>\n",
       "      <td>worker</td>\n",
       "    </tr>\n",
       "    <tr>\n",
       "      <th>102</th>\n",
       "      <td>Bettine</td>\n",
       "      <td>Wildermuth</td>\n",
       "      <td>Bettine.Wildermuth@yopmail.com</td>\n",
       "      <td>Bettine.Wildermuth@gmail.com</td>\n",
       "      <td>developer</td>\n",
       "    </tr>\n",
       "    <tr>\n",
       "      <th>103</th>\n",
       "      <td>Zia</td>\n",
       "      <td>My</td>\n",
       "      <td>Zia.My@yopmail.com</td>\n",
       "      <td>Zia.My@gmail.com</td>\n",
       "      <td>firefighter</td>\n",
       "    </tr>\n",
       "    <tr>\n",
       "      <th>104</th>\n",
       "      <td>Nollie</td>\n",
       "      <td>Rooney</td>\n",
       "      <td>Nollie.Rooney@yopmail.com</td>\n",
       "      <td>Nollie.Rooney@gmail.com</td>\n",
       "      <td>developer</td>\n",
       "    </tr>\n",
       "    <tr>\n",
       "      <th>...</th>\n",
       "      <td>...</td>\n",
       "      <td>...</td>\n",
       "      <td>...</td>\n",
       "      <td>...</td>\n",
       "      <td>...</td>\n",
       "    </tr>\n",
       "    <tr>\n",
       "      <th>195</th>\n",
       "      <td>Rori</td>\n",
       "      <td>Firmin</td>\n",
       "      <td>Rori.Firmin@yopmail.com</td>\n",
       "      <td>Rori.Firmin@gmail.com</td>\n",
       "      <td>firefighter</td>\n",
       "    </tr>\n",
       "    <tr>\n",
       "      <th>196</th>\n",
       "      <td>Roberta</td>\n",
       "      <td>Alwin</td>\n",
       "      <td>Roberta.Alwin@yopmail.com</td>\n",
       "      <td>Roberta.Alwin@gmail.com</td>\n",
       "      <td>worker</td>\n",
       "    </tr>\n",
       "    <tr>\n",
       "      <th>197</th>\n",
       "      <td>Ofilia</td>\n",
       "      <td>Bebe</td>\n",
       "      <td>Ofilia.Bebe@yopmail.com</td>\n",
       "      <td>Ofilia.Bebe@gmail.com</td>\n",
       "      <td>doctor</td>\n",
       "    </tr>\n",
       "    <tr>\n",
       "      <th>198</th>\n",
       "      <td>Tiffie</td>\n",
       "      <td>Angelis</td>\n",
       "      <td>Tiffie.Angelis@yopmail.com</td>\n",
       "      <td>Tiffie.Angelis@gmail.com</td>\n",
       "      <td>worker</td>\n",
       "    </tr>\n",
       "    <tr>\n",
       "      <th>199</th>\n",
       "      <td>Constance</td>\n",
       "      <td>Ammann</td>\n",
       "      <td>Constance.Ammann@yopmail.com</td>\n",
       "      <td>Constance.Ammann@gmail.com</td>\n",
       "      <td>worker</td>\n",
       "    </tr>\n",
       "  </tbody>\n",
       "</table>\n",
       "<p>100 rows × 5 columns</p>\n",
       "</div>"
      ],
      "text/plain": [
       "     firstname    lastname                           email  \\\n",
       "id                                                           \n",
       "100     Anthia   O'Carroll    Anthia.O'Carroll@yopmail.com   \n",
       "101       Tina        Noam           Tina.Noam@yopmail.com   \n",
       "102    Bettine  Wildermuth  Bettine.Wildermuth@yopmail.com   \n",
       "103        Zia          My              Zia.My@yopmail.com   \n",
       "104     Nollie      Rooney       Nollie.Rooney@yopmail.com   \n",
       "..         ...         ...                             ...   \n",
       "195       Rori      Firmin         Rori.Firmin@yopmail.com   \n",
       "196    Roberta       Alwin       Roberta.Alwin@yopmail.com   \n",
       "197     Ofilia        Bebe         Ofilia.Bebe@yopmail.com   \n",
       "198     Tiffie     Angelis      Tiffie.Angelis@yopmail.com   \n",
       "199  Constance      Ammann    Constance.Ammann@yopmail.com   \n",
       "\n",
       "                           email2   profession  \n",
       "id                                              \n",
       "100    Anthia.O'Carroll@gmail.com       worker  \n",
       "101           Tina.Noam@gmail.com       worker  \n",
       "102  Bettine.Wildermuth@gmail.com    developer  \n",
       "103              Zia.My@gmail.com  firefighter  \n",
       "104       Nollie.Rooney@gmail.com    developer  \n",
       "..                            ...          ...  \n",
       "195         Rori.Firmin@gmail.com  firefighter  \n",
       "196       Roberta.Alwin@gmail.com       worker  \n",
       "197         Ofilia.Bebe@gmail.com       doctor  \n",
       "198      Tiffie.Angelis@gmail.com       worker  \n",
       "199    Constance.Ammann@gmail.com       worker  \n",
       "\n",
       "[100 rows x 5 columns]"
      ]
     },
     "execution_count": 376,
     "metadata": {},
     "output_type": "execute_result"
    }
   ],
   "source": [
    "df = pd.read_csv(\"test.csv\", index_col=\"id\")\n",
    "df"
   ]
  },
  {
   "cell_type": "code",
   "execution_count": 374,
   "id": "3ee19d58",
   "metadata": {},
   "outputs": [],
   "source": [
    "df.set_index(\"id\", inplace=True)"
   ]
  },
  {
   "cell_type": "code",
   "execution_count": 375,
   "id": "65f30fdb",
   "metadata": {},
   "outputs": [
    {
     "data": {
      "text/html": [
       "<div>\n",
       "<style scoped>\n",
       "    .dataframe tbody tr th:only-of-type {\n",
       "        vertical-align: middle;\n",
       "    }\n",
       "\n",
       "    .dataframe tbody tr th {\n",
       "        vertical-align: top;\n",
       "    }\n",
       "\n",
       "    .dataframe thead th {\n",
       "        text-align: right;\n",
       "    }\n",
       "</style>\n",
       "<table border=\"1\" class=\"dataframe\">\n",
       "  <thead>\n",
       "    <tr style=\"text-align: right;\">\n",
       "      <th></th>\n",
       "      <th>firstname</th>\n",
       "      <th>lastname</th>\n",
       "      <th>email</th>\n",
       "      <th>email2</th>\n",
       "      <th>profession</th>\n",
       "    </tr>\n",
       "    <tr>\n",
       "      <th>id</th>\n",
       "      <th></th>\n",
       "      <th></th>\n",
       "      <th></th>\n",
       "      <th></th>\n",
       "      <th></th>\n",
       "    </tr>\n",
       "  </thead>\n",
       "  <tbody>\n",
       "    <tr>\n",
       "      <th>100</th>\n",
       "      <td>Anthia</td>\n",
       "      <td>O'Carroll</td>\n",
       "      <td>Anthia.O'Carroll@yopmail.com</td>\n",
       "      <td>Anthia.O'Carroll@gmail.com</td>\n",
       "      <td>worker</td>\n",
       "    </tr>\n",
       "    <tr>\n",
       "      <th>101</th>\n",
       "      <td>Tina</td>\n",
       "      <td>Noam</td>\n",
       "      <td>Tina.Noam@yopmail.com</td>\n",
       "      <td>Tina.Noam@gmail.com</td>\n",
       "      <td>worker</td>\n",
       "    </tr>\n",
       "    <tr>\n",
       "      <th>102</th>\n",
       "      <td>Bettine</td>\n",
       "      <td>Wildermuth</td>\n",
       "      <td>Bettine.Wildermuth@yopmail.com</td>\n",
       "      <td>Bettine.Wildermuth@gmail.com</td>\n",
       "      <td>developer</td>\n",
       "    </tr>\n",
       "    <tr>\n",
       "      <th>103</th>\n",
       "      <td>Zia</td>\n",
       "      <td>My</td>\n",
       "      <td>Zia.My@yopmail.com</td>\n",
       "      <td>Zia.My@gmail.com</td>\n",
       "      <td>firefighter</td>\n",
       "    </tr>\n",
       "    <tr>\n",
       "      <th>104</th>\n",
       "      <td>Nollie</td>\n",
       "      <td>Rooney</td>\n",
       "      <td>Nollie.Rooney@yopmail.com</td>\n",
       "      <td>Nollie.Rooney@gmail.com</td>\n",
       "      <td>developer</td>\n",
       "    </tr>\n",
       "    <tr>\n",
       "      <th>...</th>\n",
       "      <td>...</td>\n",
       "      <td>...</td>\n",
       "      <td>...</td>\n",
       "      <td>...</td>\n",
       "      <td>...</td>\n",
       "    </tr>\n",
       "    <tr>\n",
       "      <th>195</th>\n",
       "      <td>Rori</td>\n",
       "      <td>Firmin</td>\n",
       "      <td>Rori.Firmin@yopmail.com</td>\n",
       "      <td>Rori.Firmin@gmail.com</td>\n",
       "      <td>firefighter</td>\n",
       "    </tr>\n",
       "    <tr>\n",
       "      <th>196</th>\n",
       "      <td>Roberta</td>\n",
       "      <td>Alwin</td>\n",
       "      <td>Roberta.Alwin@yopmail.com</td>\n",
       "      <td>Roberta.Alwin@gmail.com</td>\n",
       "      <td>worker</td>\n",
       "    </tr>\n",
       "    <tr>\n",
       "      <th>197</th>\n",
       "      <td>Ofilia</td>\n",
       "      <td>Bebe</td>\n",
       "      <td>Ofilia.Bebe@yopmail.com</td>\n",
       "      <td>Ofilia.Bebe@gmail.com</td>\n",
       "      <td>doctor</td>\n",
       "    </tr>\n",
       "    <tr>\n",
       "      <th>198</th>\n",
       "      <td>Tiffie</td>\n",
       "      <td>Angelis</td>\n",
       "      <td>Tiffie.Angelis@yopmail.com</td>\n",
       "      <td>Tiffie.Angelis@gmail.com</td>\n",
       "      <td>worker</td>\n",
       "    </tr>\n",
       "    <tr>\n",
       "      <th>199</th>\n",
       "      <td>Constance</td>\n",
       "      <td>Ammann</td>\n",
       "      <td>Constance.Ammann@yopmail.com</td>\n",
       "      <td>Constance.Ammann@gmail.com</td>\n",
       "      <td>worker</td>\n",
       "    </tr>\n",
       "  </tbody>\n",
       "</table>\n",
       "<p>100 rows × 5 columns</p>\n",
       "</div>"
      ],
      "text/plain": [
       "     firstname    lastname                           email  \\\n",
       "id                                                           \n",
       "100     Anthia   O'Carroll    Anthia.O'Carroll@yopmail.com   \n",
       "101       Tina        Noam           Tina.Noam@yopmail.com   \n",
       "102    Bettine  Wildermuth  Bettine.Wildermuth@yopmail.com   \n",
       "103        Zia          My              Zia.My@yopmail.com   \n",
       "104     Nollie      Rooney       Nollie.Rooney@yopmail.com   \n",
       "..         ...         ...                             ...   \n",
       "195       Rori      Firmin         Rori.Firmin@yopmail.com   \n",
       "196    Roberta       Alwin       Roberta.Alwin@yopmail.com   \n",
       "197     Ofilia        Bebe         Ofilia.Bebe@yopmail.com   \n",
       "198     Tiffie     Angelis      Tiffie.Angelis@yopmail.com   \n",
       "199  Constance      Ammann    Constance.Ammann@yopmail.com   \n",
       "\n",
       "                           email2   profession  \n",
       "id                                              \n",
       "100    Anthia.O'Carroll@gmail.com       worker  \n",
       "101           Tina.Noam@gmail.com       worker  \n",
       "102  Bettine.Wildermuth@gmail.com    developer  \n",
       "103              Zia.My@gmail.com  firefighter  \n",
       "104       Nollie.Rooney@gmail.com    developer  \n",
       "..                            ...          ...  \n",
       "195         Rori.Firmin@gmail.com  firefighter  \n",
       "196       Roberta.Alwin@gmail.com       worker  \n",
       "197         Ofilia.Bebe@gmail.com       doctor  \n",
       "198      Tiffie.Angelis@gmail.com       worker  \n",
       "199    Constance.Ammann@gmail.com       worker  \n",
       "\n",
       "[100 rows x 5 columns]"
      ]
     },
     "execution_count": 375,
     "metadata": {},
     "output_type": "execute_result"
    }
   ],
   "source": [
    "df"
   ]
  }
 ],
 "metadata": {
  "kernelspec": {
   "display_name": "Python 3 (ipykernel)",
   "language": "python",
   "name": "python3"
  },
  "language_info": {
   "codemirror_mode": {
    "name": "ipython",
    "version": 3
   },
   "file_extension": ".py",
   "mimetype": "text/x-python",
   "name": "python",
   "nbconvert_exporter": "python",
   "pygments_lexer": "ipython3",
   "version": "3.10.8"
  }
 },
 "nbformat": 4,
 "nbformat_minor": 5
}
